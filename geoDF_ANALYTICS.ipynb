{
 "cells": [
  {
   "cell_type": "markdown",
   "id": "044daaf5",
   "metadata": {},
   "source": [
    "<img src=\"https://i.imgur.com/6U6q5jQ.png\"/>\n",
    "\n",
    "_____\n",
    "\n",
    "# Analytics on GeodataFrames\n",
    " \n",
    "\n",
    "Let's read the data in:"
   ]
  },
  {
   "cell_type": "code",
   "execution_count": 1,
   "id": "a31450dc",
   "metadata": {},
   "outputs": [
    {
     "name": "stdout",
     "output_type": "stream",
     "text": [
      "<class 'pandas.core.frame.DataFrame'>\n",
      "RangeIndex: 398943 entries, 0 to 398942\n",
      "Data columns (total 9 columns):\n",
      " #   Column        Non-Null Count   Dtype         \n",
      "---  ------        --------------   -----         \n",
      " 0   departamento  398943 non-null  object        \n",
      " 1   provincia     398943 non-null  object        \n",
      " 2   distrito      398943 non-null  object        \n",
      " 3   ano           398943 non-null  int64         \n",
      " 4   semana        398943 non-null  int64         \n",
      " 5   sexo          398943 non-null  object        \n",
      " 6   edad          398943 non-null  int64         \n",
      " 7   enfermedad    398943 non-null  category      \n",
      " 8   year          398931 non-null  datetime64[ns]\n",
      "dtypes: category(1), datetime64[ns](1), int64(3), object(4)\n",
      "memory usage: 24.7+ MB\n"
     ]
    }
   ],
   "source": [
    "# data table\n",
    "import pandas as pd\n",
    "linkData=\"https://github.com/SocialAnalytics-StrategicIntelligence/OrganizeExploreAndQuery/raw/main/dataFiles/dengue_ok.pkl\"\n",
    "dengue = pd.read_pickle(linkData)\n",
    "dengue.info()"
   ]
  },
  {
   "cell_type": "code",
   "execution_count": 2,
   "id": "e0a4a89d-8f54-46b3-891f-0b9f391a5719",
   "metadata": {},
   "outputs": [
    {
     "data": {
      "text/html": [
       "<div>\n",
       "<style scoped>\n",
       "    .dataframe tbody tr th:only-of-type {\n",
       "        vertical-align: middle;\n",
       "    }\n",
       "\n",
       "    .dataframe tbody tr th {\n",
       "        vertical-align: top;\n",
       "    }\n",
       "\n",
       "    .dataframe thead th {\n",
       "        text-align: right;\n",
       "    }\n",
       "</style>\n",
       "<table border=\"1\" class=\"dataframe\">\n",
       "  <thead>\n",
       "    <tr style=\"text-align: right;\">\n",
       "      <th></th>\n",
       "      <th>departamento</th>\n",
       "      <th>provincia</th>\n",
       "      <th>distrito</th>\n",
       "      <th>ano</th>\n",
       "      <th>semana</th>\n",
       "      <th>sexo</th>\n",
       "      <th>edad</th>\n",
       "      <th>enfermedad</th>\n",
       "      <th>year</th>\n",
       "    </tr>\n",
       "  </thead>\n",
       "  <tbody>\n",
       "    <tr>\n",
       "      <th>0</th>\n",
       "      <td>HUANUCO</td>\n",
       "      <td>LEONCIO PRADO</td>\n",
       "      <td>LUYANDO</td>\n",
       "      <td>2000</td>\n",
       "      <td>47</td>\n",
       "      <td>M</td>\n",
       "      <td>9</td>\n",
       "      <td>SIN_SEÑALES</td>\n",
       "      <td>2000-01-01</td>\n",
       "    </tr>\n",
       "    <tr>\n",
       "      <th>1</th>\n",
       "      <td>HUANUCO</td>\n",
       "      <td>LEONCIO PRADO</td>\n",
       "      <td>LUYANDO</td>\n",
       "      <td>2000</td>\n",
       "      <td>40</td>\n",
       "      <td>F</td>\n",
       "      <td>18</td>\n",
       "      <td>SIN_SEÑALES</td>\n",
       "      <td>2000-01-01</td>\n",
       "    </tr>\n",
       "    <tr>\n",
       "      <th>2</th>\n",
       "      <td>HUANUCO</td>\n",
       "      <td>LEONCIO PRADO</td>\n",
       "      <td>JOSE CRESPO Y CASTILLO</td>\n",
       "      <td>2000</td>\n",
       "      <td>48</td>\n",
       "      <td>F</td>\n",
       "      <td>32</td>\n",
       "      <td>SIN_SEÑALES</td>\n",
       "      <td>2000-01-01</td>\n",
       "    </tr>\n",
       "    <tr>\n",
       "      <th>3</th>\n",
       "      <td>HUANUCO</td>\n",
       "      <td>LEONCIO PRADO</td>\n",
       "      <td>JOSE CRESPO Y CASTILLO</td>\n",
       "      <td>2000</td>\n",
       "      <td>37</td>\n",
       "      <td>F</td>\n",
       "      <td>40</td>\n",
       "      <td>SIN_SEÑALES</td>\n",
       "      <td>2000-01-01</td>\n",
       "    </tr>\n",
       "    <tr>\n",
       "      <th>4</th>\n",
       "      <td>HUANUCO</td>\n",
       "      <td>LEONCIO PRADO</td>\n",
       "      <td>MARIANO DAMASO BERAUN</td>\n",
       "      <td>2000</td>\n",
       "      <td>42</td>\n",
       "      <td>M</td>\n",
       "      <td>16</td>\n",
       "      <td>SIN_SEÑALES</td>\n",
       "      <td>2000-01-01</td>\n",
       "    </tr>\n",
       "  </tbody>\n",
       "</table>\n",
       "</div>"
      ],
      "text/plain": [
       "  departamento      provincia                distrito   ano  semana sexo  \\\n",
       "0      HUANUCO  LEONCIO PRADO                 LUYANDO  2000      47    M   \n",
       "1      HUANUCO  LEONCIO PRADO                 LUYANDO  2000      40    F   \n",
       "2      HUANUCO  LEONCIO PRADO  JOSE CRESPO Y CASTILLO  2000      48    F   \n",
       "3      HUANUCO  LEONCIO PRADO  JOSE CRESPO Y CASTILLO  2000      37    F   \n",
       "4      HUANUCO  LEONCIO PRADO   MARIANO DAMASO BERAUN  2000      42    M   \n",
       "\n",
       "   edad   enfermedad       year  \n",
       "0     9  SIN_SEÑALES 2000-01-01  \n",
       "1    18  SIN_SEÑALES 2000-01-01  \n",
       "2    32  SIN_SEÑALES 2000-01-01  \n",
       "3    40  SIN_SEÑALES 2000-01-01  \n",
       "4    16  SIN_SEÑALES 2000-01-01  "
      ]
     },
     "execution_count": 2,
     "metadata": {},
     "output_type": "execute_result"
    }
   ],
   "source": [
    "dengue.head()"
   ]
  },
  {
   "cell_type": "code",
   "execution_count": 3,
   "id": "a5999da7-6fbb-44c7-9b81-4f50f2adebd0",
   "metadata": {},
   "outputs": [
    {
     "data": {
      "text/plain": [
       "ano\n",
       "2022    56207\n",
       "2017    43071\n",
       "2021    40501\n",
       "2020    39744\n",
       "2015    29467\n",
       "2016    22865\n",
       "2012    20775\n",
       "2001    16092\n",
       "2014    15530\n",
       "2011    15236\n",
       "2019    13179\n",
       "2010    12454\n",
       "2013    12041\n",
       "2009    11282\n",
       "2008    10528\n",
       "2004     7962\n",
       "2002     6293\n",
       "2007     5334\n",
       "2005     5015\n",
       "2018     4550\n",
       "2000     4324\n",
       "2006     3628\n",
       "2003     2865\n",
       "Name: count, dtype: int64"
      ]
     },
     "execution_count": 3,
     "metadata": {},
     "output_type": "execute_result"
    }
   ],
   "source": [
    "dengue.ano.value_counts()"
   ]
  },
  {
   "cell_type": "code",
   "execution_count": 4,
   "id": "abc1ed04",
   "metadata": {},
   "outputs": [],
   "source": [
    "dengue=dengue[dengue.ano>=2012]"
   ]
  },
  {
   "cell_type": "code",
   "execution_count": 5,
   "id": "5bf43c02-1117-478d-a332-a8630b79b9ee",
   "metadata": {},
   "outputs": [
    {
     "data": {
      "text/plain": [
       "enfermedad\n",
       "SIN_SEÑALES    249278\n",
       "ALARMA          47028\n",
       "GRAVE            1624\n",
       "Name: count, dtype: int64"
      ]
     },
     "execution_count": 5,
     "metadata": {},
     "output_type": "execute_result"
    }
   ],
   "source": [
    "dengue.enfermedad.value_counts()"
   ]
  },
  {
   "cell_type": "code",
   "execution_count": 6,
   "id": "582d9b82-241f-4813-911b-340c64b3f066",
   "metadata": {},
   "outputs": [
    {
     "data": {
      "text/html": [
       "<div>\n",
       "<style scoped>\n",
       "    .dataframe tbody tr th:only-of-type {\n",
       "        vertical-align: middle;\n",
       "    }\n",
       "\n",
       "    .dataframe tbody tr th {\n",
       "        vertical-align: top;\n",
       "    }\n",
       "\n",
       "    .dataframe thead th {\n",
       "        text-align: right;\n",
       "    }\n",
       "</style>\n",
       "<table border=\"1\" class=\"dataframe\">\n",
       "  <thead>\n",
       "    <tr style=\"text-align: right;\">\n",
       "      <th></th>\n",
       "      <th>departamento</th>\n",
       "      <th>provincia</th>\n",
       "      <th>distrito</th>\n",
       "      <th>ano</th>\n",
       "      <th>semana</th>\n",
       "      <th>sexo</th>\n",
       "      <th>edad</th>\n",
       "      <th>enfermedad</th>\n",
       "      <th>year</th>\n",
       "    </tr>\n",
       "  </thead>\n",
       "  <tbody>\n",
       "    <tr>\n",
       "      <th>101040</th>\n",
       "      <td>ANCASH</td>\n",
       "      <td>SANTA</td>\n",
       "      <td>CHIMBOTE</td>\n",
       "      <td>2012</td>\n",
       "      <td>12</td>\n",
       "      <td>F</td>\n",
       "      <td>31</td>\n",
       "      <td>ALARMA</td>\n",
       "      <td>2011-01-01</td>\n",
       "    </tr>\n",
       "    <tr>\n",
       "      <th>101150</th>\n",
       "      <td>ANCASH</td>\n",
       "      <td>SANTA</td>\n",
       "      <td>CHIMBOTE</td>\n",
       "      <td>2012</td>\n",
       "      <td>18</td>\n",
       "      <td>M</td>\n",
       "      <td>28</td>\n",
       "      <td>ALARMA</td>\n",
       "      <td>2012-01-01</td>\n",
       "    </tr>\n",
       "    <tr>\n",
       "      <th>101151</th>\n",
       "      <td>ANCASH</td>\n",
       "      <td>SANTA</td>\n",
       "      <td>CHIMBOTE</td>\n",
       "      <td>2012</td>\n",
       "      <td>18</td>\n",
       "      <td>F</td>\n",
       "      <td>16</td>\n",
       "      <td>ALARMA</td>\n",
       "      <td>2012-01-01</td>\n",
       "    </tr>\n",
       "    <tr>\n",
       "      <th>101152</th>\n",
       "      <td>ANCASH</td>\n",
       "      <td>SANTA</td>\n",
       "      <td>CHIMBOTE</td>\n",
       "      <td>2012</td>\n",
       "      <td>19</td>\n",
       "      <td>F</td>\n",
       "      <td>20</td>\n",
       "      <td>ALARMA</td>\n",
       "      <td>2012-01-01</td>\n",
       "    </tr>\n",
       "    <tr>\n",
       "      <th>101153</th>\n",
       "      <td>ANCASH</td>\n",
       "      <td>SANTA</td>\n",
       "      <td>CHIMBOTE</td>\n",
       "      <td>2012</td>\n",
       "      <td>19</td>\n",
       "      <td>F</td>\n",
       "      <td>45</td>\n",
       "      <td>ALARMA</td>\n",
       "      <td>2012-01-01</td>\n",
       "    </tr>\n",
       "  </tbody>\n",
       "</table>\n",
       "</div>"
      ],
      "text/plain": [
       "       departamento provincia  distrito   ano  semana sexo  edad enfermedad  \\\n",
       "101040       ANCASH     SANTA  CHIMBOTE  2012      12    F    31     ALARMA   \n",
       "101150       ANCASH     SANTA  CHIMBOTE  2012      18    M    28     ALARMA   \n",
       "101151       ANCASH     SANTA  CHIMBOTE  2012      18    F    16     ALARMA   \n",
       "101152       ANCASH     SANTA  CHIMBOTE  2012      19    F    20     ALARMA   \n",
       "101153       ANCASH     SANTA  CHIMBOTE  2012      19    F    45     ALARMA   \n",
       "\n",
       "             year  \n",
       "101040 2011-01-01  \n",
       "101150 2012-01-01  \n",
       "101151 2012-01-01  \n",
       "101152 2012-01-01  \n",
       "101153 2012-01-01  "
      ]
     },
     "execution_count": 6,
     "metadata": {},
     "output_type": "execute_result"
    }
   ],
   "source": [
    "dengue_alarma=dengue[dengue.enfermedad=='ALARMA']\n",
    "\n",
    "dengue_alarma.head()"
   ]
  },
  {
   "cell_type": "code",
   "execution_count": 7,
   "id": "5182331a-080a-4858-a59f-1f1378dc4ad6",
   "metadata": {},
   "outputs": [
    {
     "data": {
      "text/html": [
       "<div>\n",
       "<style scoped>\n",
       "    .dataframe tbody tr th:only-of-type {\n",
       "        vertical-align: middle;\n",
       "    }\n",
       "\n",
       "    .dataframe tbody tr th {\n",
       "        vertical-align: top;\n",
       "    }\n",
       "\n",
       "    .dataframe thead th {\n",
       "        text-align: right;\n",
       "    }\n",
       "</style>\n",
       "<table border=\"1\" class=\"dataframe\">\n",
       "  <thead>\n",
       "    <tr style=\"text-align: right;\">\n",
       "      <th></th>\n",
       "      <th></th>\n",
       "      <th></th>\n",
       "      <th></th>\n",
       "      <th>conteo</th>\n",
       "    </tr>\n",
       "    <tr>\n",
       "      <th>ano</th>\n",
       "      <th>departamento</th>\n",
       "      <th>provincia</th>\n",
       "      <th>distrito</th>\n",
       "      <th></th>\n",
       "    </tr>\n",
       "  </thead>\n",
       "  <tbody>\n",
       "    <tr>\n",
       "      <th rowspan=\"5\" valign=\"top\">2012</th>\n",
       "      <th rowspan=\"5\" valign=\"top\">AMAZONAS</th>\n",
       "      <th rowspan=\"4\" valign=\"top\">BAGUA</th>\n",
       "      <th>ARAMANGO</th>\n",
       "      <td>1</td>\n",
       "    </tr>\n",
       "    <tr>\n",
       "      <th>BAGUA</th>\n",
       "      <td>50</td>\n",
       "    </tr>\n",
       "    <tr>\n",
       "      <th>COPALLIN</th>\n",
       "      <td>1</td>\n",
       "    </tr>\n",
       "    <tr>\n",
       "      <th>LA PECA</th>\n",
       "      <td>1</td>\n",
       "    </tr>\n",
       "    <tr>\n",
       "      <th>UTCUBAMBA</th>\n",
       "      <th>BAGUA GRANDE</th>\n",
       "      <td>7</td>\n",
       "    </tr>\n",
       "    <tr>\n",
       "      <th>...</th>\n",
       "      <th>...</th>\n",
       "      <th>...</th>\n",
       "      <th>...</th>\n",
       "      <td>...</td>\n",
       "    </tr>\n",
       "    <tr>\n",
       "      <th rowspan=\"5\" valign=\"top\">2022</th>\n",
       "      <th rowspan=\"5\" valign=\"top\">UCAYALI</th>\n",
       "      <th rowspan=\"4\" valign=\"top\">PADRE ABAD</th>\n",
       "      <th>HUIPOCA</th>\n",
       "      <td>1</td>\n",
       "    </tr>\n",
       "    <tr>\n",
       "      <th>IRAZOLA</th>\n",
       "      <td>6</td>\n",
       "    </tr>\n",
       "    <tr>\n",
       "      <th>NESHUYA</th>\n",
       "      <td>16</td>\n",
       "    </tr>\n",
       "    <tr>\n",
       "      <th>PADRE ABAD</th>\n",
       "      <td>47</td>\n",
       "    </tr>\n",
       "    <tr>\n",
       "      <th>PURUS</th>\n",
       "      <th>PURUS</th>\n",
       "      <td>1</td>\n",
       "    </tr>\n",
       "  </tbody>\n",
       "</table>\n",
       "<p>1971 rows × 1 columns</p>\n",
       "</div>"
      ],
      "text/plain": [
       "                                           conteo\n",
       "ano  departamento provincia  distrito            \n",
       "2012 AMAZONAS     BAGUA      ARAMANGO           1\n",
       "                             BAGUA             50\n",
       "                             COPALLIN           1\n",
       "                             LA PECA            1\n",
       "                  UTCUBAMBA  BAGUA GRANDE       7\n",
       "...                                           ...\n",
       "2022 UCAYALI      PADRE ABAD HUIPOCA            1\n",
       "                             IRAZOLA            6\n",
       "                             NESHUYA           16\n",
       "                             PADRE ABAD        47\n",
       "                  PURUS      PURUS              1\n",
       "\n",
       "[1971 rows x 1 columns]"
      ]
     },
     "execution_count": 7,
     "metadata": {},
     "output_type": "execute_result"
    }
   ],
   "source": [
    "\n",
    "\n",
    "indexList=['ano','departamento','provincia','distrito']\n",
    "aggregator={'enfermedad':[len]}\n",
    "dengue_distYear=dengue_alarma.groupby(indexList,observed=True).agg(aggregator)\n",
    "dengue_distYear.columns=['conteo']\n",
    "dengue_distYear"
   ]
  },
  {
   "cell_type": "code",
   "execution_count": 8,
   "id": "11434ff3-d3fc-41d3-bdd4-bdb350b46bf0",
   "metadata": {},
   "outputs": [
    {
     "data": {
      "text/html": [
       "<div>\n",
       "<style scoped>\n",
       "    .dataframe tbody tr th:only-of-type {\n",
       "        vertical-align: middle;\n",
       "    }\n",
       "\n",
       "    .dataframe tbody tr th {\n",
       "        vertical-align: top;\n",
       "    }\n",
       "\n",
       "    .dataframe thead tr th {\n",
       "        text-align: left;\n",
       "    }\n",
       "\n",
       "    .dataframe thead tr:last-of-type th {\n",
       "        text-align: right;\n",
       "    }\n",
       "</style>\n",
       "<table border=\"1\" class=\"dataframe\">\n",
       "  <thead>\n",
       "    <tr>\n",
       "      <th></th>\n",
       "      <th></th>\n",
       "      <th></th>\n",
       "      <th colspan=\"11\" halign=\"left\">conteo</th>\n",
       "    </tr>\n",
       "    <tr>\n",
       "      <th></th>\n",
       "      <th></th>\n",
       "      <th>ano</th>\n",
       "      <th>2012</th>\n",
       "      <th>2013</th>\n",
       "      <th>2014</th>\n",
       "      <th>2015</th>\n",
       "      <th>2016</th>\n",
       "      <th>2017</th>\n",
       "      <th>2018</th>\n",
       "      <th>2019</th>\n",
       "      <th>2020</th>\n",
       "      <th>2021</th>\n",
       "      <th>2022</th>\n",
       "    </tr>\n",
       "    <tr>\n",
       "      <th>departamento</th>\n",
       "      <th>provincia</th>\n",
       "      <th>distrito</th>\n",
       "      <th></th>\n",
       "      <th></th>\n",
       "      <th></th>\n",
       "      <th></th>\n",
       "      <th></th>\n",
       "      <th></th>\n",
       "      <th></th>\n",
       "      <th></th>\n",
       "      <th></th>\n",
       "      <th></th>\n",
       "      <th></th>\n",
       "    </tr>\n",
       "  </thead>\n",
       "  <tbody>\n",
       "    <tr>\n",
       "      <th rowspan=\"5\" valign=\"top\">AMAZONAS</th>\n",
       "      <th rowspan=\"5\" valign=\"top\">BAGUA</th>\n",
       "      <th>ARAMANGO</th>\n",
       "      <td>1.0</td>\n",
       "      <td>NaN</td>\n",
       "      <td>NaN</td>\n",
       "      <td>NaN</td>\n",
       "      <td>NaN</td>\n",
       "      <td>NaN</td>\n",
       "      <td>NaN</td>\n",
       "      <td>NaN</td>\n",
       "      <td>1.0</td>\n",
       "      <td>3.0</td>\n",
       "      <td>7.0</td>\n",
       "    </tr>\n",
       "    <tr>\n",
       "      <th>BAGUA</th>\n",
       "      <td>50.0</td>\n",
       "      <td>1.0</td>\n",
       "      <td>3.0</td>\n",
       "      <td>NaN</td>\n",
       "      <td>NaN</td>\n",
       "      <td>NaN</td>\n",
       "      <td>1.0</td>\n",
       "      <td>5.0</td>\n",
       "      <td>20.0</td>\n",
       "      <td>53.0</td>\n",
       "      <td>122.0</td>\n",
       "    </tr>\n",
       "    <tr>\n",
       "      <th>COPALLIN</th>\n",
       "      <td>1.0</td>\n",
       "      <td>NaN</td>\n",
       "      <td>NaN</td>\n",
       "      <td>NaN</td>\n",
       "      <td>NaN</td>\n",
       "      <td>NaN</td>\n",
       "      <td>NaN</td>\n",
       "      <td>NaN</td>\n",
       "      <td>1.0</td>\n",
       "      <td>4.0</td>\n",
       "      <td>3.0</td>\n",
       "    </tr>\n",
       "    <tr>\n",
       "      <th>EL PARCO</th>\n",
       "      <td>NaN</td>\n",
       "      <td>NaN</td>\n",
       "      <td>NaN</td>\n",
       "      <td>NaN</td>\n",
       "      <td>NaN</td>\n",
       "      <td>NaN</td>\n",
       "      <td>NaN</td>\n",
       "      <td>NaN</td>\n",
       "      <td>NaN</td>\n",
       "      <td>NaN</td>\n",
       "      <td>3.0</td>\n",
       "    </tr>\n",
       "    <tr>\n",
       "      <th>IMAZA</th>\n",
       "      <td>NaN</td>\n",
       "      <td>NaN</td>\n",
       "      <td>NaN</td>\n",
       "      <td>NaN</td>\n",
       "      <td>NaN</td>\n",
       "      <td>NaN</td>\n",
       "      <td>NaN</td>\n",
       "      <td>NaN</td>\n",
       "      <td>NaN</td>\n",
       "      <td>1.0</td>\n",
       "      <td>14.0</td>\n",
       "    </tr>\n",
       "    <tr>\n",
       "      <th>...</th>\n",
       "      <th>...</th>\n",
       "      <th>...</th>\n",
       "      <td>...</td>\n",
       "      <td>...</td>\n",
       "      <td>...</td>\n",
       "      <td>...</td>\n",
       "      <td>...</td>\n",
       "      <td>...</td>\n",
       "      <td>...</td>\n",
       "      <td>...</td>\n",
       "      <td>...</td>\n",
       "      <td>...</td>\n",
       "      <td>...</td>\n",
       "    </tr>\n",
       "    <tr>\n",
       "      <th rowspan=\"5\" valign=\"top\">UCAYALI</th>\n",
       "      <th rowspan=\"4\" valign=\"top\">PADRE ABAD</th>\n",
       "      <th>HUIPOCA</th>\n",
       "      <td>NaN</td>\n",
       "      <td>NaN</td>\n",
       "      <td>NaN</td>\n",
       "      <td>NaN</td>\n",
       "      <td>NaN</td>\n",
       "      <td>NaN</td>\n",
       "      <td>NaN</td>\n",
       "      <td>NaN</td>\n",
       "      <td>NaN</td>\n",
       "      <td>NaN</td>\n",
       "      <td>1.0</td>\n",
       "    </tr>\n",
       "    <tr>\n",
       "      <th>IRAZOLA</th>\n",
       "      <td>20.0</td>\n",
       "      <td>14.0</td>\n",
       "      <td>15.0</td>\n",
       "      <td>3.0</td>\n",
       "      <td>3.0</td>\n",
       "      <td>NaN</td>\n",
       "      <td>1.0</td>\n",
       "      <td>1.0</td>\n",
       "      <td>9.0</td>\n",
       "      <td>9.0</td>\n",
       "      <td>6.0</td>\n",
       "    </tr>\n",
       "    <tr>\n",
       "      <th>NESHUYA</th>\n",
       "      <td>NaN</td>\n",
       "      <td>NaN</td>\n",
       "      <td>NaN</td>\n",
       "      <td>NaN</td>\n",
       "      <td>6.0</td>\n",
       "      <td>6.0</td>\n",
       "      <td>2.0</td>\n",
       "      <td>NaN</td>\n",
       "      <td>1.0</td>\n",
       "      <td>2.0</td>\n",
       "      <td>16.0</td>\n",
       "    </tr>\n",
       "    <tr>\n",
       "      <th>PADRE ABAD</th>\n",
       "      <td>40.0</td>\n",
       "      <td>21.0</td>\n",
       "      <td>4.0</td>\n",
       "      <td>5.0</td>\n",
       "      <td>11.0</td>\n",
       "      <td>10.0</td>\n",
       "      <td>3.0</td>\n",
       "      <td>1.0</td>\n",
       "      <td>87.0</td>\n",
       "      <td>34.0</td>\n",
       "      <td>47.0</td>\n",
       "    </tr>\n",
       "    <tr>\n",
       "      <th>PURUS</th>\n",
       "      <th>PURUS</th>\n",
       "      <td>NaN</td>\n",
       "      <td>NaN</td>\n",
       "      <td>NaN</td>\n",
       "      <td>NaN</td>\n",
       "      <td>NaN</td>\n",
       "      <td>NaN</td>\n",
       "      <td>NaN</td>\n",
       "      <td>NaN</td>\n",
       "      <td>NaN</td>\n",
       "      <td>NaN</td>\n",
       "      <td>1.0</td>\n",
       "    </tr>\n",
       "  </tbody>\n",
       "</table>\n",
       "<p>451 rows × 11 columns</p>\n",
       "</div>"
      ],
      "text/plain": [
       "                                   conteo                                    \\\n",
       "ano                                  2012  2013  2014 2015  2016  2017 2018   \n",
       "departamento provincia  distrito                                              \n",
       "AMAZONAS     BAGUA      ARAMANGO      1.0   NaN   NaN  NaN   NaN   NaN  NaN   \n",
       "                        BAGUA        50.0   1.0   3.0  NaN   NaN   NaN  1.0   \n",
       "                        COPALLIN      1.0   NaN   NaN  NaN   NaN   NaN  NaN   \n",
       "                        EL PARCO      NaN   NaN   NaN  NaN   NaN   NaN  NaN   \n",
       "                        IMAZA         NaN   NaN   NaN  NaN   NaN   NaN  NaN   \n",
       "...                                   ...   ...   ...  ...   ...   ...  ...   \n",
       "UCAYALI      PADRE ABAD HUIPOCA       NaN   NaN   NaN  NaN   NaN   NaN  NaN   \n",
       "                        IRAZOLA      20.0  14.0  15.0  3.0   3.0   NaN  1.0   \n",
       "                        NESHUYA       NaN   NaN   NaN  NaN   6.0   6.0  2.0   \n",
       "                        PADRE ABAD   40.0  21.0   4.0  5.0  11.0  10.0  3.0   \n",
       "             PURUS      PURUS         NaN   NaN   NaN  NaN   NaN   NaN  NaN   \n",
       "\n",
       "                                                            \n",
       "ano                                2019  2020  2021   2022  \n",
       "departamento provincia  distrito                            \n",
       "AMAZONAS     BAGUA      ARAMANGO    NaN   1.0   3.0    7.0  \n",
       "                        BAGUA       5.0  20.0  53.0  122.0  \n",
       "                        COPALLIN    NaN   1.0   4.0    3.0  \n",
       "                        EL PARCO    NaN   NaN   NaN    3.0  \n",
       "                        IMAZA       NaN   NaN   1.0   14.0  \n",
       "...                                 ...   ...   ...    ...  \n",
       "UCAYALI      PADRE ABAD HUIPOCA     NaN   NaN   NaN    1.0  \n",
       "                        IRAZOLA     1.0   9.0   9.0    6.0  \n",
       "                        NESHUYA     NaN   1.0   2.0   16.0  \n",
       "                        PADRE ABAD  1.0  87.0  34.0   47.0  \n",
       "             PURUS      PURUS       NaN   NaN   NaN    1.0  \n",
       "\n",
       "[451 rows x 11 columns]"
      ]
     },
     "execution_count": 8,
     "metadata": {},
     "output_type": "execute_result"
    }
   ],
   "source": [
    "dengue_distYear.unstack(0) #leftmost index in rows"
   ]
  },
  {
   "cell_type": "code",
   "execution_count": 9,
   "id": "32c27bcb-9ce5-41ff-ba0b-8616ec2c5989",
   "metadata": {},
   "outputs": [
    {
     "data": {
      "text/html": [
       "<div>\n",
       "<style scoped>\n",
       "    .dataframe tbody tr th:only-of-type {\n",
       "        vertical-align: middle;\n",
       "    }\n",
       "\n",
       "    .dataframe tbody tr th {\n",
       "        vertical-align: top;\n",
       "    }\n",
       "\n",
       "    .dataframe thead tr th {\n",
       "        text-align: left;\n",
       "    }\n",
       "</style>\n",
       "<table border=\"1\" class=\"dataframe\">\n",
       "  <thead>\n",
       "    <tr>\n",
       "      <th></th>\n",
       "      <th>departamento</th>\n",
       "      <th>provincia</th>\n",
       "      <th>distrito</th>\n",
       "      <th colspan=\"11\" halign=\"left\">conteo</th>\n",
       "    </tr>\n",
       "    <tr>\n",
       "      <th>ano</th>\n",
       "      <th></th>\n",
       "      <th></th>\n",
       "      <th></th>\n",
       "      <th>2012</th>\n",
       "      <th>2013</th>\n",
       "      <th>2014</th>\n",
       "      <th>2015</th>\n",
       "      <th>2016</th>\n",
       "      <th>2017</th>\n",
       "      <th>2018</th>\n",
       "      <th>2019</th>\n",
       "      <th>2020</th>\n",
       "      <th>2021</th>\n",
       "      <th>2022</th>\n",
       "    </tr>\n",
       "  </thead>\n",
       "  <tbody>\n",
       "    <tr>\n",
       "      <th>0</th>\n",
       "      <td>AMAZONAS</td>\n",
       "      <td>BAGUA</td>\n",
       "      <td>ARAMANGO</td>\n",
       "      <td>1.0</td>\n",
       "      <td>NaN</td>\n",
       "      <td>NaN</td>\n",
       "      <td>NaN</td>\n",
       "      <td>NaN</td>\n",
       "      <td>NaN</td>\n",
       "      <td>NaN</td>\n",
       "      <td>NaN</td>\n",
       "      <td>1.0</td>\n",
       "      <td>3.0</td>\n",
       "      <td>7.0</td>\n",
       "    </tr>\n",
       "    <tr>\n",
       "      <th>1</th>\n",
       "      <td>AMAZONAS</td>\n",
       "      <td>BAGUA</td>\n",
       "      <td>BAGUA</td>\n",
       "      <td>50.0</td>\n",
       "      <td>1.0</td>\n",
       "      <td>3.0</td>\n",
       "      <td>NaN</td>\n",
       "      <td>NaN</td>\n",
       "      <td>NaN</td>\n",
       "      <td>1.0</td>\n",
       "      <td>5.0</td>\n",
       "      <td>20.0</td>\n",
       "      <td>53.0</td>\n",
       "      <td>122.0</td>\n",
       "    </tr>\n",
       "    <tr>\n",
       "      <th>2</th>\n",
       "      <td>AMAZONAS</td>\n",
       "      <td>BAGUA</td>\n",
       "      <td>COPALLIN</td>\n",
       "      <td>1.0</td>\n",
       "      <td>NaN</td>\n",
       "      <td>NaN</td>\n",
       "      <td>NaN</td>\n",
       "      <td>NaN</td>\n",
       "      <td>NaN</td>\n",
       "      <td>NaN</td>\n",
       "      <td>NaN</td>\n",
       "      <td>1.0</td>\n",
       "      <td>4.0</td>\n",
       "      <td>3.0</td>\n",
       "    </tr>\n",
       "    <tr>\n",
       "      <th>3</th>\n",
       "      <td>AMAZONAS</td>\n",
       "      <td>BAGUA</td>\n",
       "      <td>EL PARCO</td>\n",
       "      <td>NaN</td>\n",
       "      <td>NaN</td>\n",
       "      <td>NaN</td>\n",
       "      <td>NaN</td>\n",
       "      <td>NaN</td>\n",
       "      <td>NaN</td>\n",
       "      <td>NaN</td>\n",
       "      <td>NaN</td>\n",
       "      <td>NaN</td>\n",
       "      <td>NaN</td>\n",
       "      <td>3.0</td>\n",
       "    </tr>\n",
       "    <tr>\n",
       "      <th>4</th>\n",
       "      <td>AMAZONAS</td>\n",
       "      <td>BAGUA</td>\n",
       "      <td>IMAZA</td>\n",
       "      <td>NaN</td>\n",
       "      <td>NaN</td>\n",
       "      <td>NaN</td>\n",
       "      <td>NaN</td>\n",
       "      <td>NaN</td>\n",
       "      <td>NaN</td>\n",
       "      <td>NaN</td>\n",
       "      <td>NaN</td>\n",
       "      <td>NaN</td>\n",
       "      <td>1.0</td>\n",
       "      <td>14.0</td>\n",
       "    </tr>\n",
       "    <tr>\n",
       "      <th>...</th>\n",
       "      <td>...</td>\n",
       "      <td>...</td>\n",
       "      <td>...</td>\n",
       "      <td>...</td>\n",
       "      <td>...</td>\n",
       "      <td>...</td>\n",
       "      <td>...</td>\n",
       "      <td>...</td>\n",
       "      <td>...</td>\n",
       "      <td>...</td>\n",
       "      <td>...</td>\n",
       "      <td>...</td>\n",
       "      <td>...</td>\n",
       "      <td>...</td>\n",
       "    </tr>\n",
       "    <tr>\n",
       "      <th>446</th>\n",
       "      <td>UCAYALI</td>\n",
       "      <td>PADRE ABAD</td>\n",
       "      <td>HUIPOCA</td>\n",
       "      <td>NaN</td>\n",
       "      <td>NaN</td>\n",
       "      <td>NaN</td>\n",
       "      <td>NaN</td>\n",
       "      <td>NaN</td>\n",
       "      <td>NaN</td>\n",
       "      <td>NaN</td>\n",
       "      <td>NaN</td>\n",
       "      <td>NaN</td>\n",
       "      <td>NaN</td>\n",
       "      <td>1.0</td>\n",
       "    </tr>\n",
       "    <tr>\n",
       "      <th>447</th>\n",
       "      <td>UCAYALI</td>\n",
       "      <td>PADRE ABAD</td>\n",
       "      <td>IRAZOLA</td>\n",
       "      <td>20.0</td>\n",
       "      <td>14.0</td>\n",
       "      <td>15.0</td>\n",
       "      <td>3.0</td>\n",
       "      <td>3.0</td>\n",
       "      <td>NaN</td>\n",
       "      <td>1.0</td>\n",
       "      <td>1.0</td>\n",
       "      <td>9.0</td>\n",
       "      <td>9.0</td>\n",
       "      <td>6.0</td>\n",
       "    </tr>\n",
       "    <tr>\n",
       "      <th>448</th>\n",
       "      <td>UCAYALI</td>\n",
       "      <td>PADRE ABAD</td>\n",
       "      <td>NESHUYA</td>\n",
       "      <td>NaN</td>\n",
       "      <td>NaN</td>\n",
       "      <td>NaN</td>\n",
       "      <td>NaN</td>\n",
       "      <td>6.0</td>\n",
       "      <td>6.0</td>\n",
       "      <td>2.0</td>\n",
       "      <td>NaN</td>\n",
       "      <td>1.0</td>\n",
       "      <td>2.0</td>\n",
       "      <td>16.0</td>\n",
       "    </tr>\n",
       "    <tr>\n",
       "      <th>449</th>\n",
       "      <td>UCAYALI</td>\n",
       "      <td>PADRE ABAD</td>\n",
       "      <td>PADRE ABAD</td>\n",
       "      <td>40.0</td>\n",
       "      <td>21.0</td>\n",
       "      <td>4.0</td>\n",
       "      <td>5.0</td>\n",
       "      <td>11.0</td>\n",
       "      <td>10.0</td>\n",
       "      <td>3.0</td>\n",
       "      <td>1.0</td>\n",
       "      <td>87.0</td>\n",
       "      <td>34.0</td>\n",
       "      <td>47.0</td>\n",
       "    </tr>\n",
       "    <tr>\n",
       "      <th>450</th>\n",
       "      <td>UCAYALI</td>\n",
       "      <td>PURUS</td>\n",
       "      <td>PURUS</td>\n",
       "      <td>NaN</td>\n",
       "      <td>NaN</td>\n",
       "      <td>NaN</td>\n",
       "      <td>NaN</td>\n",
       "      <td>NaN</td>\n",
       "      <td>NaN</td>\n",
       "      <td>NaN</td>\n",
       "      <td>NaN</td>\n",
       "      <td>NaN</td>\n",
       "      <td>NaN</td>\n",
       "      <td>1.0</td>\n",
       "    </tr>\n",
       "  </tbody>\n",
       "</table>\n",
       "<p>451 rows × 14 columns</p>\n",
       "</div>"
      ],
      "text/plain": [
       "    departamento   provincia    distrito conteo                               \\\n",
       "ano                                        2012  2013  2014 2015  2016  2017   \n",
       "0       AMAZONAS       BAGUA    ARAMANGO    1.0   NaN   NaN  NaN   NaN   NaN   \n",
       "1       AMAZONAS       BAGUA       BAGUA   50.0   1.0   3.0  NaN   NaN   NaN   \n",
       "2       AMAZONAS       BAGUA    COPALLIN    1.0   NaN   NaN  NaN   NaN   NaN   \n",
       "3       AMAZONAS       BAGUA    EL PARCO    NaN   NaN   NaN  NaN   NaN   NaN   \n",
       "4       AMAZONAS       BAGUA       IMAZA    NaN   NaN   NaN  NaN   NaN   NaN   \n",
       "..           ...         ...         ...    ...   ...   ...  ...   ...   ...   \n",
       "446      UCAYALI  PADRE ABAD     HUIPOCA    NaN   NaN   NaN  NaN   NaN   NaN   \n",
       "447      UCAYALI  PADRE ABAD     IRAZOLA   20.0  14.0  15.0  3.0   3.0   NaN   \n",
       "448      UCAYALI  PADRE ABAD     NESHUYA    NaN   NaN   NaN  NaN   6.0   6.0   \n",
       "449      UCAYALI  PADRE ABAD  PADRE ABAD   40.0  21.0   4.0  5.0  11.0  10.0   \n",
       "450      UCAYALI       PURUS       PURUS    NaN   NaN   NaN  NaN   NaN   NaN   \n",
       "\n",
       "                                  \n",
       "ano 2018 2019  2020  2021   2022  \n",
       "0    NaN  NaN   1.0   3.0    7.0  \n",
       "1    1.0  5.0  20.0  53.0  122.0  \n",
       "2    NaN  NaN   1.0   4.0    3.0  \n",
       "3    NaN  NaN   NaN   NaN    3.0  \n",
       "4    NaN  NaN   NaN   1.0   14.0  \n",
       "..   ...  ...   ...   ...    ...  \n",
       "446  NaN  NaN   NaN   NaN    1.0  \n",
       "447  1.0  1.0   9.0   9.0    6.0  \n",
       "448  2.0  NaN   1.0   2.0   16.0  \n",
       "449  3.0  1.0  87.0  34.0   47.0  \n",
       "450  NaN  NaN   NaN   NaN    1.0  \n",
       "\n",
       "[451 rows x 14 columns]"
      ]
     },
     "execution_count": 9,
     "metadata": {},
     "output_type": "execute_result"
    }
   ],
   "source": [
    "dengue_distYear_w=dengue_distYear.unstack(0).reset_index() \n",
    "dengue_distYear_w"
   ]
  },
  {
   "cell_type": "code",
   "execution_count": 10,
   "id": "f6823c4d-5095-4754-89b7-1296673aa701",
   "metadata": {},
   "outputs": [
    {
     "data": {
      "text/html": [
       "<div>\n",
       "<style scoped>\n",
       "    .dataframe tbody tr th:only-of-type {\n",
       "        vertical-align: middle;\n",
       "    }\n",
       "\n",
       "    .dataframe tbody tr th {\n",
       "        vertical-align: top;\n",
       "    }\n",
       "\n",
       "    .dataframe thead th {\n",
       "        text-align: right;\n",
       "    }\n",
       "</style>\n",
       "<table border=\"1\" class=\"dataframe\">\n",
       "  <thead>\n",
       "    <tr style=\"text-align: right;\">\n",
       "      <th></th>\n",
       "      <th>departamento</th>\n",
       "      <th>provincia</th>\n",
       "      <th>distrito</th>\n",
       "      <th>2012</th>\n",
       "      <th>2013</th>\n",
       "      <th>2014</th>\n",
       "      <th>2015</th>\n",
       "      <th>2016</th>\n",
       "      <th>2017</th>\n",
       "      <th>2018</th>\n",
       "      <th>2019</th>\n",
       "      <th>2020</th>\n",
       "      <th>2021</th>\n",
       "      <th>2022</th>\n",
       "    </tr>\n",
       "  </thead>\n",
       "  <tbody>\n",
       "    <tr>\n",
       "      <th>0</th>\n",
       "      <td>AMAZONAS</td>\n",
       "      <td>BAGUA</td>\n",
       "      <td>ARAMANGO</td>\n",
       "      <td>1.0</td>\n",
       "      <td>NaN</td>\n",
       "      <td>NaN</td>\n",
       "      <td>NaN</td>\n",
       "      <td>NaN</td>\n",
       "      <td>NaN</td>\n",
       "      <td>NaN</td>\n",
       "      <td>NaN</td>\n",
       "      <td>1.0</td>\n",
       "      <td>3.0</td>\n",
       "      <td>7.0</td>\n",
       "    </tr>\n",
       "    <tr>\n",
       "      <th>1</th>\n",
       "      <td>AMAZONAS</td>\n",
       "      <td>BAGUA</td>\n",
       "      <td>BAGUA</td>\n",
       "      <td>50.0</td>\n",
       "      <td>1.0</td>\n",
       "      <td>3.0</td>\n",
       "      <td>NaN</td>\n",
       "      <td>NaN</td>\n",
       "      <td>NaN</td>\n",
       "      <td>1.0</td>\n",
       "      <td>5.0</td>\n",
       "      <td>20.0</td>\n",
       "      <td>53.0</td>\n",
       "      <td>122.0</td>\n",
       "    </tr>\n",
       "    <tr>\n",
       "      <th>2</th>\n",
       "      <td>AMAZONAS</td>\n",
       "      <td>BAGUA</td>\n",
       "      <td>COPALLIN</td>\n",
       "      <td>1.0</td>\n",
       "      <td>NaN</td>\n",
       "      <td>NaN</td>\n",
       "      <td>NaN</td>\n",
       "      <td>NaN</td>\n",
       "      <td>NaN</td>\n",
       "      <td>NaN</td>\n",
       "      <td>NaN</td>\n",
       "      <td>1.0</td>\n",
       "      <td>4.0</td>\n",
       "      <td>3.0</td>\n",
       "    </tr>\n",
       "    <tr>\n",
       "      <th>3</th>\n",
       "      <td>AMAZONAS</td>\n",
       "      <td>BAGUA</td>\n",
       "      <td>EL PARCO</td>\n",
       "      <td>NaN</td>\n",
       "      <td>NaN</td>\n",
       "      <td>NaN</td>\n",
       "      <td>NaN</td>\n",
       "      <td>NaN</td>\n",
       "      <td>NaN</td>\n",
       "      <td>NaN</td>\n",
       "      <td>NaN</td>\n",
       "      <td>NaN</td>\n",
       "      <td>NaN</td>\n",
       "      <td>3.0</td>\n",
       "    </tr>\n",
       "    <tr>\n",
       "      <th>4</th>\n",
       "      <td>AMAZONAS</td>\n",
       "      <td>BAGUA</td>\n",
       "      <td>IMAZA</td>\n",
       "      <td>NaN</td>\n",
       "      <td>NaN</td>\n",
       "      <td>NaN</td>\n",
       "      <td>NaN</td>\n",
       "      <td>NaN</td>\n",
       "      <td>NaN</td>\n",
       "      <td>NaN</td>\n",
       "      <td>NaN</td>\n",
       "      <td>NaN</td>\n",
       "      <td>1.0</td>\n",
       "      <td>14.0</td>\n",
       "    </tr>\n",
       "  </tbody>\n",
       "</table>\n",
       "</div>"
      ],
      "text/plain": [
       "  departamento provincia  distrito  2012  2013  2014  2015  2016  2017  2018  \\\n",
       "0     AMAZONAS     BAGUA  ARAMANGO   1.0   NaN   NaN   NaN   NaN   NaN   NaN   \n",
       "1     AMAZONAS     BAGUA     BAGUA  50.0   1.0   3.0   NaN   NaN   NaN   1.0   \n",
       "2     AMAZONAS     BAGUA  COPALLIN   1.0   NaN   NaN   NaN   NaN   NaN   NaN   \n",
       "3     AMAZONAS     BAGUA  EL PARCO   NaN   NaN   NaN   NaN   NaN   NaN   NaN   \n",
       "4     AMAZONAS     BAGUA     IMAZA   NaN   NaN   NaN   NaN   NaN   NaN   NaN   \n",
       "\n",
       "   2019  2020  2021   2022  \n",
       "0   NaN   1.0   3.0    7.0  \n",
       "1   5.0  20.0  53.0  122.0  \n",
       "2   NaN   1.0   4.0    3.0  \n",
       "3   NaN   NaN   NaN    3.0  \n",
       "4   NaN   NaN   1.0   14.0  "
      ]
     },
     "execution_count": 10,
     "metadata": {},
     "output_type": "execute_result"
    }
   ],
   "source": [
    "dengue_distYear_w.columns=['departamento','provincia','distrito']+list(range(2012,2023))\n",
    "dengue_distYear_w.head()"
   ]
  },
  {
   "cell_type": "code",
   "execution_count": 11,
   "id": "de144e90-4ae4-4278-999f-731497c5fe29",
   "metadata": {},
   "outputs": [
    {
     "data": {
      "text/html": [
       "<div>\n",
       "<style scoped>\n",
       "    .dataframe tbody tr th:only-of-type {\n",
       "        vertical-align: middle;\n",
       "    }\n",
       "\n",
       "    .dataframe tbody tr th {\n",
       "        vertical-align: top;\n",
       "    }\n",
       "\n",
       "    .dataframe thead th {\n",
       "        text-align: right;\n",
       "    }\n",
       "</style>\n",
       "<table border=\"1\" class=\"dataframe\">\n",
       "  <thead>\n",
       "    <tr style=\"text-align: right;\">\n",
       "      <th></th>\n",
       "      <th>departamento</th>\n",
       "      <th>provincia</th>\n",
       "      <th>distrito</th>\n",
       "      <th>2012</th>\n",
       "      <th>2013</th>\n",
       "      <th>2014</th>\n",
       "      <th>2015</th>\n",
       "      <th>2016</th>\n",
       "      <th>2017</th>\n",
       "      <th>2018</th>\n",
       "      <th>2019</th>\n",
       "      <th>2020</th>\n",
       "      <th>2021</th>\n",
       "      <th>2022</th>\n",
       "    </tr>\n",
       "  </thead>\n",
       "  <tbody>\n",
       "    <tr>\n",
       "      <th>0</th>\n",
       "      <td>AMAZONAS</td>\n",
       "      <td>BAGUA</td>\n",
       "      <td>ARAMANGO</td>\n",
       "      <td>1.0</td>\n",
       "      <td>0.0</td>\n",
       "      <td>0.0</td>\n",
       "      <td>0.0</td>\n",
       "      <td>0.0</td>\n",
       "      <td>0.0</td>\n",
       "      <td>0.0</td>\n",
       "      <td>0.0</td>\n",
       "      <td>1.0</td>\n",
       "      <td>3.0</td>\n",
       "      <td>7.0</td>\n",
       "    </tr>\n",
       "    <tr>\n",
       "      <th>1</th>\n",
       "      <td>AMAZONAS</td>\n",
       "      <td>BAGUA</td>\n",
       "      <td>BAGUA</td>\n",
       "      <td>50.0</td>\n",
       "      <td>1.0</td>\n",
       "      <td>3.0</td>\n",
       "      <td>0.0</td>\n",
       "      <td>0.0</td>\n",
       "      <td>0.0</td>\n",
       "      <td>1.0</td>\n",
       "      <td>5.0</td>\n",
       "      <td>20.0</td>\n",
       "      <td>53.0</td>\n",
       "      <td>122.0</td>\n",
       "    </tr>\n",
       "    <tr>\n",
       "      <th>2</th>\n",
       "      <td>AMAZONAS</td>\n",
       "      <td>BAGUA</td>\n",
       "      <td>COPALLIN</td>\n",
       "      <td>1.0</td>\n",
       "      <td>0.0</td>\n",
       "      <td>0.0</td>\n",
       "      <td>0.0</td>\n",
       "      <td>0.0</td>\n",
       "      <td>0.0</td>\n",
       "      <td>0.0</td>\n",
       "      <td>0.0</td>\n",
       "      <td>1.0</td>\n",
       "      <td>4.0</td>\n",
       "      <td>3.0</td>\n",
       "    </tr>\n",
       "    <tr>\n",
       "      <th>3</th>\n",
       "      <td>AMAZONAS</td>\n",
       "      <td>BAGUA</td>\n",
       "      <td>EL PARCO</td>\n",
       "      <td>0.0</td>\n",
       "      <td>0.0</td>\n",
       "      <td>0.0</td>\n",
       "      <td>0.0</td>\n",
       "      <td>0.0</td>\n",
       "      <td>0.0</td>\n",
       "      <td>0.0</td>\n",
       "      <td>0.0</td>\n",
       "      <td>0.0</td>\n",
       "      <td>0.0</td>\n",
       "      <td>3.0</td>\n",
       "    </tr>\n",
       "    <tr>\n",
       "      <th>4</th>\n",
       "      <td>AMAZONAS</td>\n",
       "      <td>BAGUA</td>\n",
       "      <td>IMAZA</td>\n",
       "      <td>0.0</td>\n",
       "      <td>0.0</td>\n",
       "      <td>0.0</td>\n",
       "      <td>0.0</td>\n",
       "      <td>0.0</td>\n",
       "      <td>0.0</td>\n",
       "      <td>0.0</td>\n",
       "      <td>0.0</td>\n",
       "      <td>0.0</td>\n",
       "      <td>1.0</td>\n",
       "      <td>14.0</td>\n",
       "    </tr>\n",
       "  </tbody>\n",
       "</table>\n",
       "</div>"
      ],
      "text/plain": [
       "  departamento provincia  distrito  2012  2013  2014  2015  2016  2017  2018  \\\n",
       "0     AMAZONAS     BAGUA  ARAMANGO   1.0   0.0   0.0   0.0   0.0   0.0   0.0   \n",
       "1     AMAZONAS     BAGUA     BAGUA  50.0   1.0   3.0   0.0   0.0   0.0   1.0   \n",
       "2     AMAZONAS     BAGUA  COPALLIN   1.0   0.0   0.0   0.0   0.0   0.0   0.0   \n",
       "3     AMAZONAS     BAGUA  EL PARCO   0.0   0.0   0.0   0.0   0.0   0.0   0.0   \n",
       "4     AMAZONAS     BAGUA     IMAZA   0.0   0.0   0.0   0.0   0.0   0.0   0.0   \n",
       "\n",
       "   2019  2020  2021   2022  \n",
       "0   0.0   1.0   3.0    7.0  \n",
       "1   5.0  20.0  53.0  122.0  \n",
       "2   0.0   1.0   4.0    3.0  \n",
       "3   0.0   0.0   0.0    3.0  \n",
       "4   0.0   0.0   1.0   14.0  "
      ]
     },
     "execution_count": 11,
     "metadata": {},
     "output_type": "execute_result"
    }
   ],
   "source": [
    "dengue_distYear_w.fillna(0,inplace=True)\n",
    "dengue_distYear_w.head()"
   ]
  },
  {
   "cell_type": "code",
   "execution_count": 12,
   "id": "cba44f1e-7ba4-41be-aa74-8300c6d5ded0",
   "metadata": {},
   "outputs": [
    {
     "data": {
      "text/html": [
       "<div>\n",
       "<style scoped>\n",
       "    .dataframe tbody tr th:only-of-type {\n",
       "        vertical-align: middle;\n",
       "    }\n",
       "\n",
       "    .dataframe tbody tr th {\n",
       "        vertical-align: top;\n",
       "    }\n",
       "\n",
       "    .dataframe thead th {\n",
       "        text-align: right;\n",
       "    }\n",
       "</style>\n",
       "<table border=\"1\" class=\"dataframe\">\n",
       "  <thead>\n",
       "    <tr style=\"text-align: right;\">\n",
       "      <th></th>\n",
       "      <th>DEPARTAMEN</th>\n",
       "      <th>PROVINCIA</th>\n",
       "      <th>DISTRITO</th>\n",
       "      <th>INSTITUCIO</th>\n",
       "      <th>geometry</th>\n",
       "    </tr>\n",
       "  </thead>\n",
       "  <tbody>\n",
       "    <tr>\n",
       "      <th>0</th>\n",
       "      <td>TACNA</td>\n",
       "      <td>TACNA</td>\n",
       "      <td>CORONEL GREGORIO ALBARRACIN LANCHIPA</td>\n",
       "      <td>IGN</td>\n",
       "      <td>POLYGON ((-70.17413 -18.12896, -70.17461 -18.1...</td>\n",
       "    </tr>\n",
       "    <tr>\n",
       "      <th>1</th>\n",
       "      <td>TACNA</td>\n",
       "      <td>TACNA</td>\n",
       "      <td>POCOLLAY</td>\n",
       "      <td>IGN</td>\n",
       "      <td>POLYGON ((-69.93475 -17.92557, -69.90467 -17.9...</td>\n",
       "    </tr>\n",
       "    <tr>\n",
       "      <th>2</th>\n",
       "      <td>TACNA</td>\n",
       "      <td>TACNA</td>\n",
       "      <td>CALANA</td>\n",
       "      <td>IGN</td>\n",
       "      <td>POLYGON ((-70.11604 -17.91106, -70.11457 -17.9...</td>\n",
       "    </tr>\n",
       "    <tr>\n",
       "      <th>3</th>\n",
       "      <td>TACNA</td>\n",
       "      <td>TACNA</td>\n",
       "      <td>TACNA</td>\n",
       "      <td>IGN</td>\n",
       "      <td>POLYGON ((-70.31490 -17.94498, -70.30682 -17.9...</td>\n",
       "    </tr>\n",
       "    <tr>\n",
       "      <th>4</th>\n",
       "      <td>TACNA</td>\n",
       "      <td>TACNA</td>\n",
       "      <td>SAMA</td>\n",
       "      <td>IGN</td>\n",
       "      <td>POLYGON ((-70.42497 -17.88934, -70.48022 -17.9...</td>\n",
       "    </tr>\n",
       "  </tbody>\n",
       "</table>\n",
       "</div>"
      ],
      "text/plain": [
       "  DEPARTAMEN PROVINCIA                              DISTRITO INSTITUCIO  \\\n",
       "0      TACNA     TACNA  CORONEL GREGORIO ALBARRACIN LANCHIPA        IGN   \n",
       "1      TACNA     TACNA                              POCOLLAY        IGN   \n",
       "2      TACNA     TACNA                                CALANA        IGN   \n",
       "3      TACNA     TACNA                                 TACNA        IGN   \n",
       "4      TACNA     TACNA                                  SAMA        IGN   \n",
       "\n",
       "                                            geometry  \n",
       "0  POLYGON ((-70.17413 -18.12896, -70.17461 -18.1...  \n",
       "1  POLYGON ((-69.93475 -17.92557, -69.90467 -17.9...  \n",
       "2  POLYGON ((-70.11604 -17.91106, -70.11457 -17.9...  \n",
       "3  POLYGON ((-70.31490 -17.94498, -70.30682 -17.9...  \n",
       "4  POLYGON ((-70.42497 -17.88934, -70.48022 -17.9...  "
      ]
     },
     "execution_count": 12,
     "metadata": {},
     "output_type": "execute_result"
    }
   ],
   "source": [
    "mapLink='https://github.com/SocialAnalytics-StrategicIntelligence/GeoDF_Analytics/raw/main/maps/DistritosMap.zip'\n",
    "\n",
    "import geopandas as gpd\n",
    "\n",
    "datadismap=gpd.read_file(mapLink)\n",
    "\n",
    "datadismap.head()"
   ]
  },
  {
   "cell_type": "code",
   "execution_count": 13,
   "id": "e394243f-9e5c-4cae-a899-c593da1736dd",
   "metadata": {},
   "outputs": [
    {
     "data": {
      "text/html": [
       "<div>\n",
       "<style scoped>\n",
       "    .dataframe tbody tr th:only-of-type {\n",
       "        vertical-align: middle;\n",
       "    }\n",
       "\n",
       "    .dataframe tbody tr th {\n",
       "        vertical-align: top;\n",
       "    }\n",
       "\n",
       "    .dataframe thead th {\n",
       "        text-align: right;\n",
       "    }\n",
       "</style>\n",
       "<table border=\"1\" class=\"dataframe\">\n",
       "  <thead>\n",
       "    <tr style=\"text-align: right;\">\n",
       "      <th></th>\n",
       "      <th>DEPARTAMEN</th>\n",
       "      <th>PROVINCIA</th>\n",
       "      <th>DISTRITO</th>\n",
       "      <th>INSTITUCIO</th>\n",
       "      <th>geometry</th>\n",
       "      <th>location</th>\n",
       "    </tr>\n",
       "  </thead>\n",
       "  <tbody>\n",
       "    <tr>\n",
       "      <th>0</th>\n",
       "      <td>TACNA</td>\n",
       "      <td>TACNA</td>\n",
       "      <td>CORONEL GREGORIO ALBARRACIN LANCHIPA</td>\n",
       "      <td>IGN</td>\n",
       "      <td>POLYGON ((-70.17413 -18.12896, -70.17461 -18.1...</td>\n",
       "      <td>TACNA+TACNA+CORONEL GREGORIO ALBARRACIN LANCHIPA</td>\n",
       "    </tr>\n",
       "    <tr>\n",
       "      <th>1</th>\n",
       "      <td>TACNA</td>\n",
       "      <td>TACNA</td>\n",
       "      <td>POCOLLAY</td>\n",
       "      <td>IGN</td>\n",
       "      <td>POLYGON ((-69.93475 -17.92557, -69.90467 -17.9...</td>\n",
       "      <td>TACNA+TACNA+POCOLLAY</td>\n",
       "    </tr>\n",
       "    <tr>\n",
       "      <th>2</th>\n",
       "      <td>TACNA</td>\n",
       "      <td>TACNA</td>\n",
       "      <td>CALANA</td>\n",
       "      <td>IGN</td>\n",
       "      <td>POLYGON ((-70.11604 -17.91106, -70.11457 -17.9...</td>\n",
       "      <td>TACNA+TACNA+CALANA</td>\n",
       "    </tr>\n",
       "    <tr>\n",
       "      <th>3</th>\n",
       "      <td>TACNA</td>\n",
       "      <td>TACNA</td>\n",
       "      <td>TACNA</td>\n",
       "      <td>IGN</td>\n",
       "      <td>POLYGON ((-70.31490 -17.94498, -70.30682 -17.9...</td>\n",
       "      <td>TACNA+TACNA+TACNA</td>\n",
       "    </tr>\n",
       "    <tr>\n",
       "      <th>4</th>\n",
       "      <td>TACNA</td>\n",
       "      <td>TACNA</td>\n",
       "      <td>SAMA</td>\n",
       "      <td>IGN</td>\n",
       "      <td>POLYGON ((-70.42497 -17.88934, -70.48022 -17.9...</td>\n",
       "      <td>TACNA+TACNA+SAMA</td>\n",
       "    </tr>\n",
       "    <tr>\n",
       "      <th>5</th>\n",
       "      <td>TACNA</td>\n",
       "      <td>TACNA</td>\n",
       "      <td>CIUDAD NUEVA</td>\n",
       "      <td>IGN</td>\n",
       "      <td>POLYGON ((-70.07117 -17.71120, -70.07110 -17.7...</td>\n",
       "      <td>TACNA+TACNA+CIUDAD NUEVA</td>\n",
       "    </tr>\n",
       "    <tr>\n",
       "      <th>6</th>\n",
       "      <td>TACNA</td>\n",
       "      <td>JORGE BASADRE</td>\n",
       "      <td>ITE</td>\n",
       "      <td>IGN</td>\n",
       "      <td>POLYGON ((-70.86340 -17.68767, -70.86283 -17.6...</td>\n",
       "      <td>TACNA+JORGE BASADRE+ITE</td>\n",
       "    </tr>\n",
       "    <tr>\n",
       "      <th>7</th>\n",
       "      <td>MOQUEGUA</td>\n",
       "      <td>ILO</td>\n",
       "      <td>ILO</td>\n",
       "      <td>IGN</td>\n",
       "      <td>POLYGON ((-71.33934 -17.62215, -71.33907 -17.6...</td>\n",
       "      <td>MOQUEGUA+ILO+ILO</td>\n",
       "    </tr>\n",
       "    <tr>\n",
       "      <th>8</th>\n",
       "      <td>TACNA</td>\n",
       "      <td>TACNA</td>\n",
       "      <td>ALTO DE LA ALIANZA</td>\n",
       "      <td>IGN</td>\n",
       "      <td>POLYGON ((-70.14997 -17.59887, -70.15027 -17.6...</td>\n",
       "      <td>TACNA+TACNA+ALTO DE LA ALIANZA</td>\n",
       "    </tr>\n",
       "    <tr>\n",
       "      <th>9</th>\n",
       "      <td>TACNA</td>\n",
       "      <td>TACNA</td>\n",
       "      <td>PACHIA</td>\n",
       "      <td>IGN</td>\n",
       "      <td>POLYGON ((-69.93201 -17.58982, -69.93085 -17.5...</td>\n",
       "      <td>TACNA+TACNA+PACHIA</td>\n",
       "    </tr>\n",
       "  </tbody>\n",
       "</table>\n",
       "</div>"
      ],
      "text/plain": [
       "  DEPARTAMEN      PROVINCIA                              DISTRITO INSTITUCIO  \\\n",
       "0      TACNA          TACNA  CORONEL GREGORIO ALBARRACIN LANCHIPA        IGN   \n",
       "1      TACNA          TACNA                              POCOLLAY        IGN   \n",
       "2      TACNA          TACNA                                CALANA        IGN   \n",
       "3      TACNA          TACNA                                 TACNA        IGN   \n",
       "4      TACNA          TACNA                                  SAMA        IGN   \n",
       "5      TACNA          TACNA                          CIUDAD NUEVA        IGN   \n",
       "6      TACNA  JORGE BASADRE                                   ITE        IGN   \n",
       "7   MOQUEGUA            ILO                                   ILO        IGN   \n",
       "8      TACNA          TACNA                    ALTO DE LA ALIANZA        IGN   \n",
       "9      TACNA          TACNA                                PACHIA        IGN   \n",
       "\n",
       "                                            geometry  \\\n",
       "0  POLYGON ((-70.17413 -18.12896, -70.17461 -18.1...   \n",
       "1  POLYGON ((-69.93475 -17.92557, -69.90467 -17.9...   \n",
       "2  POLYGON ((-70.11604 -17.91106, -70.11457 -17.9...   \n",
       "3  POLYGON ((-70.31490 -17.94498, -70.30682 -17.9...   \n",
       "4  POLYGON ((-70.42497 -17.88934, -70.48022 -17.9...   \n",
       "5  POLYGON ((-70.07117 -17.71120, -70.07110 -17.7...   \n",
       "6  POLYGON ((-70.86340 -17.68767, -70.86283 -17.6...   \n",
       "7  POLYGON ((-71.33934 -17.62215, -71.33907 -17.6...   \n",
       "8  POLYGON ((-70.14997 -17.59887, -70.15027 -17.6...   \n",
       "9  POLYGON ((-69.93201 -17.58982, -69.93085 -17.5...   \n",
       "\n",
       "                                           location  \n",
       "0  TACNA+TACNA+CORONEL GREGORIO ALBARRACIN LANCHIPA  \n",
       "1                              TACNA+TACNA+POCOLLAY  \n",
       "2                                TACNA+TACNA+CALANA  \n",
       "3                                 TACNA+TACNA+TACNA  \n",
       "4                                  TACNA+TACNA+SAMA  \n",
       "5                          TACNA+TACNA+CIUDAD NUEVA  \n",
       "6                           TACNA+JORGE BASADRE+ITE  \n",
       "7                                  MOQUEGUA+ILO+ILO  \n",
       "8                    TACNA+TACNA+ALTO DE LA ALIANZA  \n",
       "9                                TACNA+TACNA+PACHIA  "
      ]
     },
     "execution_count": 13,
     "metadata": {},
     "output_type": "execute_result"
    }
   ],
   "source": [
    "datadismap['location']=['+'.join(x[0]) for x in zip(datadismap.iloc[:,:3].values)]\n",
    "datadismap.head(10)"
   ]
  },
  {
   "cell_type": "code",
   "execution_count": 14,
   "id": "022746a0-e0a9-42ba-949f-3e5269d503ea",
   "metadata": {},
   "outputs": [],
   "source": [
    "dengue_distYear_w['location']=['+'.join(x[0]) for x in zip(dengue_distYear_w.iloc[:,:3].values)]"
   ]
  },
  {
   "cell_type": "markdown",
   "id": "a1294312",
   "metadata": {},
   "source": [
    "## Preprocessing\n",
    "\n",
    "After observing both tables, it would be better if the columns with names have the same capitalization, and no extra blank spaces:"
   ]
  },
  {
   "cell_type": "markdown",
   "id": "9f85ce45",
   "metadata": {},
   "source": [
    "The names from non-english speaking countries may come with some symbols that may cause trouble (', ~). Let's get rid of those:"
   ]
  },
  {
   "cell_type": "code",
   "execution_count": 15,
   "id": "16981570",
   "metadata": {},
   "outputs": [],
   "source": [
    "import unidecode\n",
    "\n",
    "\n",
    "byePunctuation=lambda x: unidecode.unidecode(x)\n",
    "dengue_distYear_w['location']=dengue_distYear_w['location'].apply(byePunctuation)\n",
    "datadismap['location']=datadismap['location'].apply(byePunctuation)"
   ]
  },
  {
   "cell_type": "markdown",
   "id": "c54ffa80",
   "metadata": {},
   "source": [
    "Let me see how many district we have:"
   ]
  },
  {
   "cell_type": "markdown",
   "id": "45a93252",
   "metadata": {},
   "source": [
    "It would be good making sure no *ghost* appears between words:"
   ]
  },
  {
   "cell_type": "code",
   "execution_count": 16,
   "id": "47cdc538",
   "metadata": {},
   "outputs": [],
   "source": [
    "# replacing dashes and multiple spaces by a simple space\n",
    "dengue_distYear_w['location']=dengue_distYear_w.location.str.replace(\"\\-|\\_|\\s+\",\"\",regex=True)\n",
    "datadismap['location']=datadismap.location.str.replace(\"\\-|\\_|\\s+\",\"\",regex=True)"
   ]
  },
  {
   "cell_type": "markdown",
   "id": "5406417d",
   "metadata": {},
   "source": [
    "## Merging\n",
    "\n",
    "We need to merge both tables now. That can happen effectively if both tables have a **key** column: a column (or collection of them) whose values in one table are the same in the other one.\n",
    "\n",
    "The match need not be exact, but only common values in the *key* are merged.\n",
    "\n",
    "Let's find out what is NOT matched in each table:"
   ]
  },
  {
   "cell_type": "code",
   "execution_count": 17,
   "id": "793335e5",
   "metadata": {},
   "outputs": [],
   "source": [
    "nomatch_df=set(dengue_distYear_w.location)- set(datadismap.location)\n",
    "nomatch_gdf=set(datadismap.location)-set(dengue_distYear_w.location) "
   ]
  },
  {
   "cell_type": "markdown",
   "id": "a849b640",
   "metadata": {},
   "source": [
    "This is what could not be matched:"
   ]
  },
  {
   "cell_type": "code",
   "execution_count": 18,
   "id": "ada23390",
   "metadata": {},
   "outputs": [
    {
     "data": {
      "text/plain": [
       "(15, 1438)"
      ]
     },
     "execution_count": 18,
     "metadata": {},
     "output_type": "execute_result"
    }
   ],
   "source": [
    "len(nomatch_df), len(nomatch_gdf)"
   ]
  },
  {
   "cell_type": "markdown",
   "id": "261c4a60",
   "metadata": {},
   "source": [
    "The right way to go is using **fuzzy merging** (remember we need  _the fuzz_):"
   ]
  },
  {
   "cell_type": "code",
   "execution_count": 19,
   "id": "d761c590",
   "metadata": {},
   "outputs": [
    {
     "data": {
      "text/plain": [
       "[('ANCASH+SANTA+NEPEieA', ('ANCASH+SANTA+SANTA', 95)),\n",
       " ('AYACUCHO+LAMAR+UNIONPROGRESO',\n",
       "  ('AYACUCHO+PARINACOCHAS+SANFRANCISCODERAVACAYCO', 86)),\n",
       " ('CUSCO+LACONVENCION+CIELOPUNCO', ('CUSCO+LACONVENCION+QUELLOUNO', 88)),\n",
       " ('CUSCO+LACONVENCION+MANITEA', ('CUSCO+CUSCO+CUSCO', 86)),\n",
       " ('ICA+ICA+LATINGUIA', ('ICA+ICA+LATINGUINA', 97)),\n",
       " ('LAMBAYEQUE+CHICLAYO+SAA', ('LAMBAYEQUE+CHICLAYO+SANA', 98)),\n",
       " ('LAMBAYEQUE+FERRENAFE+FERREAFE', ('LAMBAYEQUE+FERRENAFE+FERRENAFE', 98)),\n",
       " ('MADREDEDIOS+TAHUAMANU+IAPARI', ('MADREDEDIOS+TAHUAMANU+INAPARI', 98)),\n",
       " ('PIURA+TALARA+PARIieAS', ('PIURA+TALARA+PARINAS', 93)),\n",
       " ('SANMARTIN+LAMAS+CUUMBUQUI', ('SANMARTIN+LAMAS+CUNUMBUQUI', 98)),\n",
       " ('SANMARTIN+PICOTA+CASPIZAPA', ('SANMARTIN+PICOTA+CASPISAPA', 96)),\n",
       " ('SANMARTIN+RIOJA+ELIASSOPLINVARGAS',\n",
       "  ('SANMARTIN+RIOJA+ELIASSOPLiNVARGAS', 100)),\n",
       " ('UCAYALI+ATALAYA+RAIMONDI', ('UCAYALI+ATALAYA+RAYMONDI', 96)),\n",
       " ('UCAYALI+PADREABAD+BOQUERON', ('UCAYALI+ATALAYA+RAYMONDI', 60)),\n",
       " ('UCAYALI+PADREABAD+HUIPOCA', ('JUNIN+TARMA+HUARICOLCA', 55))]"
      ]
     },
     "execution_count": 19,
     "metadata": {},
     "output_type": "execute_result"
    }
   ],
   "source": [
    "# pick the closest match from nomatch_gdf for a value in nomatch_df\n",
    "from thefuzz import process\n",
    "[(dis,process.extractOne(dis,nomatch_gdf)) for dis in sorted(nomatch_df)]"
   ]
  },
  {
   "cell_type": "code",
   "execution_count": 20,
   "id": "6aec62e9-86ae-4f0b-8669-e372da602314",
   "metadata": {},
   "outputs": [
    {
     "data": {
      "text/html": [
       "<div>\n",
       "<style scoped>\n",
       "    .dataframe tbody tr th:only-of-type {\n",
       "        vertical-align: middle;\n",
       "    }\n",
       "\n",
       "    .dataframe tbody tr th {\n",
       "        vertical-align: top;\n",
       "    }\n",
       "\n",
       "    .dataframe thead th {\n",
       "        text-align: right;\n",
       "    }\n",
       "</style>\n",
       "<table border=\"1\" class=\"dataframe\">\n",
       "  <thead>\n",
       "    <tr style=\"text-align: right;\">\n",
       "      <th></th>\n",
       "      <th>DEPARTAMEN</th>\n",
       "      <th>PROVINCIA</th>\n",
       "      <th>DISTRITO</th>\n",
       "      <th>INSTITUCIO</th>\n",
       "      <th>geometry</th>\n",
       "      <th>location</th>\n",
       "    </tr>\n",
       "  </thead>\n",
       "  <tbody>\n",
       "    <tr>\n",
       "      <th>1173</th>\n",
       "      <td>ANCASH</td>\n",
       "      <td>SANTA</td>\n",
       "      <td>NEPEÑA</td>\n",
       "      <td>IGN</td>\n",
       "      <td>POLYGON ((-78.19555 -8.98823, -78.19539 -8.989...</td>\n",
       "      <td>ANCASH+SANTA+NEPENA</td>\n",
       "    </tr>\n",
       "  </tbody>\n",
       "</table>\n",
       "</div>"
      ],
      "text/plain": [
       "     DEPARTAMEN PROVINCIA DISTRITO INSTITUCIO  \\\n",
       "1173     ANCASH     SANTA   NEPEÑA        IGN   \n",
       "\n",
       "                                               geometry             location  \n",
       "1173  POLYGON ((-78.19555 -8.98823, -78.19539 -8.989...  ANCASH+SANTA+NEPENA  "
      ]
     },
     "execution_count": 20,
     "metadata": {},
     "output_type": "execute_result"
    }
   ],
   "source": [
    "datadismap[datadismap.DISTRITO.str.startswith('NEPE')]"
   ]
  },
  {
   "cell_type": "code",
   "execution_count": 21,
   "id": "fdb54c6c-35ac-4308-a447-3c9743a8d7f2",
   "metadata": {},
   "outputs": [
    {
     "data": {
      "text/html": [
       "<div>\n",
       "<style scoped>\n",
       "    .dataframe tbody tr th:only-of-type {\n",
       "        vertical-align: middle;\n",
       "    }\n",
       "\n",
       "    .dataframe tbody tr th {\n",
       "        vertical-align: top;\n",
       "    }\n",
       "\n",
       "    .dataframe thead th {\n",
       "        text-align: right;\n",
       "    }\n",
       "</style>\n",
       "<table border=\"1\" class=\"dataframe\">\n",
       "  <thead>\n",
       "    <tr style=\"text-align: right;\">\n",
       "      <th></th>\n",
       "      <th>departamento</th>\n",
       "      <th>provincia</th>\n",
       "      <th>distrito</th>\n",
       "      <th>2012</th>\n",
       "      <th>2013</th>\n",
       "      <th>2014</th>\n",
       "      <th>2015</th>\n",
       "      <th>2016</th>\n",
       "      <th>2017</th>\n",
       "      <th>2018</th>\n",
       "      <th>2019</th>\n",
       "      <th>2020</th>\n",
       "      <th>2021</th>\n",
       "      <th>2022</th>\n",
       "      <th>location</th>\n",
       "    </tr>\n",
       "  </thead>\n",
       "  <tbody>\n",
       "    <tr>\n",
       "      <th>21</th>\n",
       "      <td>ANCASH</td>\n",
       "      <td>SANTA</td>\n",
       "      <td>NEPEѐA</td>\n",
       "      <td>0.0</td>\n",
       "      <td>0.0</td>\n",
       "      <td>0.0</td>\n",
       "      <td>0.0</td>\n",
       "      <td>0.0</td>\n",
       "      <td>1.0</td>\n",
       "      <td>0.0</td>\n",
       "      <td>0.0</td>\n",
       "      <td>0.0</td>\n",
       "      <td>4.0</td>\n",
       "      <td>0.0</td>\n",
       "      <td>ANCASH+SANTA+NEPEieA</td>\n",
       "    </tr>\n",
       "  </tbody>\n",
       "</table>\n",
       "</div>"
      ],
      "text/plain": [
       "   departamento provincia distrito  2012  2013  2014  2015  2016  2017  2018  \\\n",
       "21       ANCASH     SANTA   NEPEѐA   0.0   0.0   0.0   0.0   0.0   1.0   0.0   \n",
       "\n",
       "    2019  2020  2021  2022              location  \n",
       "21   0.0   0.0   4.0   0.0  ANCASH+SANTA+NEPEieA  "
      ]
     },
     "execution_count": 21,
     "metadata": {},
     "output_type": "execute_result"
    }
   ],
   "source": [
    "dengue_distYear_w[dengue_distYear_w.distrito.str.startswith('NEPE')]"
   ]
  },
  {
   "cell_type": "code",
   "execution_count": 22,
   "id": "03d6ee67-eea3-44ae-a46e-5cff95c75cd9",
   "metadata": {},
   "outputs": [
    {
     "data": {
      "text/plain": [
       "[('AYACUCHO+LAMAR+UNIONPROGRESO',\n",
       "  ('AYACUCHO+PARINACOCHAS+SANFRANCISCODERAVACAYCO', 86)),\n",
       " ('CUSCO+LACONVENCION+CIELOPUNCO', ('CUSCO+LACONVENCION+QUELLOUNO', 88)),\n",
       " ('CUSCO+LACONVENCION+MANITEA', ('CUSCO+CUSCO+CUSCO', 86)),\n",
       " ('ICA+ICA+LATINGUIA', ('ICA+ICA+LATINGUINA', 97)),\n",
       " ('LAMBAYEQUE+CHICLAYO+SAA', ('LAMBAYEQUE+CHICLAYO+SANA', 98)),\n",
       " ('LAMBAYEQUE+FERRENAFE+FERREAFE', ('LAMBAYEQUE+FERRENAFE+FERRENAFE', 98)),\n",
       " ('MADREDEDIOS+TAHUAMANU+IAPARI', ('MADREDEDIOS+TAHUAMANU+INAPARI', 98)),\n",
       " ('PIURA+TALARA+PARIieAS', ('PIURA+TALARA+PARINAS', 93)),\n",
       " ('SANMARTIN+LAMAS+CUUMBUQUI', ('SANMARTIN+LAMAS+CUNUMBUQUI', 98)),\n",
       " ('SANMARTIN+PICOTA+CASPIZAPA', ('SANMARTIN+PICOTA+CASPISAPA', 96)),\n",
       " ('SANMARTIN+RIOJA+ELIASSOPLINVARGAS',\n",
       "  ('SANMARTIN+RIOJA+ELIASSOPLiNVARGAS', 100)),\n",
       " ('UCAYALI+ATALAYA+RAIMONDI', ('UCAYALI+ATALAYA+RAYMONDI', 96)),\n",
       " ('UCAYALI+PADREABAD+BOQUERON', ('UCAYALI+ATALAYA+RAYMONDI', 60)),\n",
       " ('UCAYALI+PADREABAD+HUIPOCA', ('JUNIN+TARMA+HUARICOLCA', 55))]"
      ]
     },
     "execution_count": 22,
     "metadata": {},
     "output_type": "execute_result"
    }
   ],
   "source": [
    "dengue_distYear_w.loc[21,'distrito']='NEPEÑA'\n",
    "dengue_distYear_w.loc[21,'location']='ANCASH+SANTA+NEPENA'\n",
    "\n",
    "nomatch_df=set(dengue_distYear_w.location)- set(datadismap.location)\n",
    "nomatch_gdf=set(datadismap.location)-set(dengue_distYear_w.location) \n",
    "\n",
    "[(dis,process.extractOne(dis,nomatch_gdf)) for dis in sorted(nomatch_df)]"
   ]
  },
  {
   "cell_type": "markdown",
   "id": "6b462ab3",
   "metadata": {},
   "source": [
    "If you are comfortable, you prepare a _dictionary_ of changes:"
   ]
  },
  {
   "cell_type": "code",
   "execution_count": 23,
   "id": "4dac522f",
   "metadata": {},
   "outputs": [
    {
     "data": {
      "text/plain": [
       "{'ICA+ICA+LATINGUIA': 'ICA+ICA+LATINGUINA',\n",
       " 'LAMBAYEQUE+CHICLAYO+SAA': 'LAMBAYEQUE+CHICLAYO+SANA',\n",
       " 'LAMBAYEQUE+FERRENAFE+FERREAFE': 'LAMBAYEQUE+FERRENAFE+FERRENAFE',\n",
       " 'MADREDEDIOS+TAHUAMANU+IAPARI': 'MADREDEDIOS+TAHUAMANU+INAPARI',\n",
       " 'PIURA+TALARA+PARIieAS': 'PIURA+TALARA+PARINAS',\n",
       " 'SANMARTIN+LAMAS+CUUMBUQUI': 'SANMARTIN+LAMAS+CUNUMBUQUI',\n",
       " 'SANMARTIN+PICOTA+CASPIZAPA': 'SANMARTIN+PICOTA+CASPISAPA',\n",
       " 'SANMARTIN+RIOJA+ELIASSOPLINVARGAS': 'SANMARTIN+RIOJA+ELIASSOPLiNVARGAS',\n",
       " 'UCAYALI+ATALAYA+RAIMONDI': 'UCAYALI+ATALAYA+RAYMONDI'}"
      ]
     },
     "execution_count": 23,
     "metadata": {},
     "output_type": "execute_result"
    }
   ],
   "source": [
    "# is this OK?\n",
    "{dis:process.extractOne(dis,nomatch_gdf)[0] for dis in sorted(nomatch_df) if process.extractOne(dis,nomatch_gdf)[1]>=90}"
   ]
  },
  {
   "cell_type": "code",
   "execution_count": 24,
   "id": "e872d7ca",
   "metadata": {},
   "outputs": [],
   "source": [
    "# then:\n",
    "changesDengue1={dis:process.extractOne(dis,nomatch_gdf)[0] for dis in sorted(nomatch_df) if process.extractOne(dis,nomatch_gdf)[1]>=90}"
   ]
  },
  {
   "cell_type": "markdown",
   "id": "940be9cd",
   "metadata": {},
   "source": [
    "Now, make the replacements:"
   ]
  },
  {
   "cell_type": "code",
   "execution_count": 40,
   "id": "d39fb674",
   "metadata": {
    "scrolled": true
   },
   "outputs": [],
   "source": [
    "dengue_distYear_w.location.replace(changesDengue1,inplace=True)"
   ]
  },
  {
   "cell_type": "code",
   "execution_count": null,
   "id": "910c830a-051e-400b-bb18-f86147cd0885",
   "metadata": {},
   "outputs": [],
   "source": []
  },
  {
   "cell_type": "code",
   "execution_count": 26,
   "id": "dc576d65-2d77-44dd-9c4c-0ef43b5ebe38",
   "metadata": {},
   "outputs": [
    {
     "data": {
      "text/plain": [
       "[('AYACUCHO+LAMAR+UNIONPROGRESO',\n",
       "  ('AYACUCHO+PARINACOCHAS+SANFRANCISCODERAVACAYCO', 86)),\n",
       " ('CUSCO+LACONVENCION+CIELOPUNCO', ('CUSCO+LACONVENCION+QUELLOUNO', 88)),\n",
       " ('CUSCO+LACONVENCION+MANITEA', ('CUSCO+CUSCO+CUSCO', 86)),\n",
       " ('UCAYALI+PADREABAD+BOQUERON', ('HUANCAVELICA+HUAYTARA+QUERCO', 56)),\n",
       " ('UCAYALI+PADREABAD+HUIPOCA', ('JUNIN+TARMA+HUARICOLCA', 55))]"
      ]
     },
     "execution_count": 26,
     "metadata": {},
     "output_type": "execute_result"
    }
   ],
   "source": [
    "nomatch_df=set(dengue_distYear_w.location)- set(datadismap.location)\n",
    "nomatch_gdf=set(datadismap.location)-set(dengue_distYear_w.location) \n",
    "\n",
    "[(dis,process.extractOne(dis,nomatch_gdf)) for dis in sorted(nomatch_df)]"
   ]
  },
  {
   "cell_type": "code",
   "execution_count": 39,
   "id": "14dddb9f-f2e2-4951-9ebb-51f8d3479c62",
   "metadata": {},
   "outputs": [
    {
     "data": {
      "text/html": [
       "<div>\n",
       "<style scoped>\n",
       "    .dataframe tbody tr th:only-of-type {\n",
       "        vertical-align: middle;\n",
       "    }\n",
       "\n",
       "    .dataframe tbody tr th {\n",
       "        vertical-align: top;\n",
       "    }\n",
       "\n",
       "    .dataframe thead th {\n",
       "        text-align: right;\n",
       "    }\n",
       "</style>\n",
       "<table border=\"1\" class=\"dataframe\">\n",
       "  <thead>\n",
       "    <tr style=\"text-align: right;\">\n",
       "      <th></th>\n",
       "      <th>departamento</th>\n",
       "      <th>provincia</th>\n",
       "      <th>distrito</th>\n",
       "      <th>2012</th>\n",
       "      <th>2013</th>\n",
       "      <th>2014</th>\n",
       "      <th>2015</th>\n",
       "      <th>2016</th>\n",
       "      <th>2017</th>\n",
       "      <th>2018</th>\n",
       "      <th>2019</th>\n",
       "      <th>2020</th>\n",
       "      <th>2021</th>\n",
       "      <th>2022</th>\n",
       "      <th>location</th>\n",
       "    </tr>\n",
       "  </thead>\n",
       "  <tbody>\n",
       "    <tr>\n",
       "      <th>36</th>\n",
       "      <td>AYACUCHO</td>\n",
       "      <td>LA MAR</td>\n",
       "      <td>UNION PROGRESO</td>\n",
       "      <td>0.0</td>\n",
       "      <td>0.0</td>\n",
       "      <td>0.0</td>\n",
       "      <td>0.0</td>\n",
       "      <td>0.0</td>\n",
       "      <td>0.0</td>\n",
       "      <td>0.0</td>\n",
       "      <td>0.0</td>\n",
       "      <td>0.0</td>\n",
       "      <td>0.0</td>\n",
       "      <td>1.0</td>\n",
       "      <td>AYACUCHO+LAMAR+UNIONPROGRESO</td>\n",
       "    </tr>\n",
       "  </tbody>\n",
       "</table>\n",
       "</div>"
      ],
      "text/plain": [
       "   departamento provincia        distrito  2012  2013  2014  2015  2016  2017  \\\n",
       "36     AYACUCHO    LA MAR  UNION PROGRESO   0.0   0.0   0.0   0.0   0.0   0.0   \n",
       "\n",
       "    2018  2019  2020  2021  2022                      location  \n",
       "36   0.0   0.0   0.0   0.0   1.0  AYACUCHO+LAMAR+UNIONPROGRESO  "
      ]
     },
     "execution_count": 39,
     "metadata": {},
     "output_type": "execute_result"
    }
   ],
   "source": [
    "dengue_distYear_w[dengue_distYear_w.distrito.str.startswith('UNIO')]"
   ]
  },
  {
   "cell_type": "code",
   "execution_count": null,
   "id": "d0c30863-a057-44df-9727-11aa115e8bb4",
   "metadata": {},
   "outputs": [],
   "source": [
    "datadismap[datadismap.distrito.str.startswith('UNIO')]"
   ]
  },
  {
   "cell_type": "code",
   "execution_count": 43,
   "id": "6be1e39d-a094-40f5-b625-5ad106801801",
   "metadata": {},
   "outputs": [
    {
     "data": {
      "text/html": [
       "<div>\n",
       "<style scoped>\n",
       "    .dataframe tbody tr th:only-of-type {\n",
       "        vertical-align: middle;\n",
       "    }\n",
       "\n",
       "    .dataframe tbody tr th {\n",
       "        vertical-align: top;\n",
       "    }\n",
       "\n",
       "    .dataframe thead th {\n",
       "        text-align: right;\n",
       "    }\n",
       "</style>\n",
       "<table border=\"1\" class=\"dataframe\">\n",
       "  <thead>\n",
       "    <tr style=\"text-align: right;\">\n",
       "      <th></th>\n",
       "      <th>departamento</th>\n",
       "      <th>provincia</th>\n",
       "      <th>distrito</th>\n",
       "      <th>2012</th>\n",
       "      <th>2013</th>\n",
       "      <th>2014</th>\n",
       "      <th>2015</th>\n",
       "      <th>2016</th>\n",
       "      <th>2017</th>\n",
       "      <th>2018</th>\n",
       "      <th>2019</th>\n",
       "      <th>2020</th>\n",
       "      <th>2021</th>\n",
       "      <th>2022</th>\n",
       "      <th>location</th>\n",
       "    </tr>\n",
       "  </thead>\n",
       "  <tbody>\n",
       "    <tr>\n",
       "      <th>64</th>\n",
       "      <td>CUSCO</td>\n",
       "      <td>LA CONVENCION</td>\n",
       "      <td>CIELO PUNCO</td>\n",
       "      <td>0.0</td>\n",
       "      <td>0.0</td>\n",
       "      <td>0.0</td>\n",
       "      <td>0.0</td>\n",
       "      <td>0.0</td>\n",
       "      <td>0.0</td>\n",
       "      <td>0.0</td>\n",
       "      <td>0.0</td>\n",
       "      <td>0.0</td>\n",
       "      <td>0.0</td>\n",
       "      <td>1.0</td>\n",
       "      <td>CUSCO+LACONVENCION+CIELOPUNCO</td>\n",
       "    </tr>\n",
       "  </tbody>\n",
       "</table>\n",
       "</div>"
      ],
      "text/plain": [
       "   departamento      provincia     distrito  2012  2013  2014  2015  2016  \\\n",
       "64        CUSCO  LA CONVENCION  CIELO PUNCO   0.0   0.0   0.0   0.0   0.0   \n",
       "\n",
       "    2017  2018  2019  2020  2021  2022                       location  \n",
       "64   0.0   0.0   0.0   0.0   0.0   1.0  CUSCO+LACONVENCION+CIELOPUNCO  "
      ]
     },
     "execution_count": 43,
     "metadata": {},
     "output_type": "execute_result"
    }
   ],
   "source": [
    "dengue_distYear_w[dengue_distYear_w.distrito.str.startswith('CIELO')]"
   ]
  },
  {
   "cell_type": "code",
   "execution_count": 44,
   "id": "178bc710-9296-4019-aabc-f3680b88da55",
   "metadata": {},
   "outputs": [
    {
     "data": {
      "text/html": [
       "<div>\n",
       "<style scoped>\n",
       "    .dataframe tbody tr th:only-of-type {\n",
       "        vertical-align: middle;\n",
       "    }\n",
       "\n",
       "    .dataframe tbody tr th {\n",
       "        vertical-align: top;\n",
       "    }\n",
       "\n",
       "    .dataframe thead th {\n",
       "        text-align: right;\n",
       "    }\n",
       "</style>\n",
       "<table border=\"1\" class=\"dataframe\">\n",
       "  <thead>\n",
       "    <tr style=\"text-align: right;\">\n",
       "      <th></th>\n",
       "      <th>departamento</th>\n",
       "      <th>provincia</th>\n",
       "      <th>distrito</th>\n",
       "      <th>2012</th>\n",
       "      <th>2013</th>\n",
       "      <th>2014</th>\n",
       "      <th>2015</th>\n",
       "      <th>2016</th>\n",
       "      <th>2017</th>\n",
       "      <th>2018</th>\n",
       "      <th>2019</th>\n",
       "      <th>2020</th>\n",
       "      <th>2021</th>\n",
       "      <th>2022</th>\n",
       "      <th>location</th>\n",
       "    </tr>\n",
       "  </thead>\n",
       "  <tbody>\n",
       "    <tr>\n",
       "      <th>68</th>\n",
       "      <td>CUSCO</td>\n",
       "      <td>LA CONVENCION</td>\n",
       "      <td>MANITEA</td>\n",
       "      <td>0.0</td>\n",
       "      <td>0.0</td>\n",
       "      <td>0.0</td>\n",
       "      <td>0.0</td>\n",
       "      <td>0.0</td>\n",
       "      <td>0.0</td>\n",
       "      <td>0.0</td>\n",
       "      <td>0.0</td>\n",
       "      <td>0.0</td>\n",
       "      <td>0.0</td>\n",
       "      <td>1.0</td>\n",
       "      <td>CUSCO+LACONVENCION+MANITEA</td>\n",
       "    </tr>\n",
       "  </tbody>\n",
       "</table>\n",
       "</div>"
      ],
      "text/plain": [
       "   departamento      provincia distrito  2012  2013  2014  2015  2016  2017  \\\n",
       "68        CUSCO  LA CONVENCION  MANITEA   0.0   0.0   0.0   0.0   0.0   0.0   \n",
       "\n",
       "    2018  2019  2020  2021  2022                    location  \n",
       "68   0.0   0.0   0.0   0.0   1.0  CUSCO+LACONVENCION+MANITEA  "
      ]
     },
     "execution_count": 44,
     "metadata": {},
     "output_type": "execute_result"
    }
   ],
   "source": [
    "dengue_distYear_w[dengue_distYear_w.distrito.str.startswith('MANIT')]"
   ]
  },
  {
   "cell_type": "code",
   "execution_count": 45,
   "id": "6e443d62-7e6f-4bf1-96ca-7c8bd2f01c48",
   "metadata": {},
   "outputs": [
    {
     "data": {
      "text/html": [
       "<div>\n",
       "<style scoped>\n",
       "    .dataframe tbody tr th:only-of-type {\n",
       "        vertical-align: middle;\n",
       "    }\n",
       "\n",
       "    .dataframe tbody tr th {\n",
       "        vertical-align: top;\n",
       "    }\n",
       "\n",
       "    .dataframe thead th {\n",
       "        text-align: right;\n",
       "    }\n",
       "</style>\n",
       "<table border=\"1\" class=\"dataframe\">\n",
       "  <thead>\n",
       "    <tr style=\"text-align: right;\">\n",
       "      <th></th>\n",
       "      <th>departamento</th>\n",
       "      <th>provincia</th>\n",
       "      <th>distrito</th>\n",
       "      <th>2012</th>\n",
       "      <th>2013</th>\n",
       "      <th>2014</th>\n",
       "      <th>2015</th>\n",
       "      <th>2016</th>\n",
       "      <th>2017</th>\n",
       "      <th>2018</th>\n",
       "      <th>2019</th>\n",
       "      <th>2020</th>\n",
       "      <th>2021</th>\n",
       "      <th>2022</th>\n",
       "      <th>location</th>\n",
       "    </tr>\n",
       "  </thead>\n",
       "  <tbody>\n",
       "    <tr>\n",
       "      <th>444</th>\n",
       "      <td>UCAYALI</td>\n",
       "      <td>PADRE ABAD</td>\n",
       "      <td>BOQUERON</td>\n",
       "      <td>0.0</td>\n",
       "      <td>0.0</td>\n",
       "      <td>0.0</td>\n",
       "      <td>0.0</td>\n",
       "      <td>0.0</td>\n",
       "      <td>0.0</td>\n",
       "      <td>0.0</td>\n",
       "      <td>0.0</td>\n",
       "      <td>0.0</td>\n",
       "      <td>1.0</td>\n",
       "      <td>5.0</td>\n",
       "      <td>UCAYALI+PADREABAD+BOQUERON</td>\n",
       "    </tr>\n",
       "  </tbody>\n",
       "</table>\n",
       "</div>"
      ],
      "text/plain": [
       "    departamento   provincia  distrito  2012  2013  2014  2015  2016  2017  \\\n",
       "444      UCAYALI  PADRE ABAD  BOQUERON   0.0   0.0   0.0   0.0   0.0   0.0   \n",
       "\n",
       "     2018  2019  2020  2021  2022                    location  \n",
       "444   0.0   0.0   0.0   1.0   5.0  UCAYALI+PADREABAD+BOQUERON  "
      ]
     },
     "execution_count": 45,
     "metadata": {},
     "output_type": "execute_result"
    }
   ],
   "source": [
    "dengue_distYear_w[dengue_distYear_w.distrito.str.startswith('BOQU')]"
   ]
  },
  {
   "cell_type": "code",
   "execution_count": null,
   "id": "ad37746d-6def-49c7-98c5-570fbd5e3de1",
   "metadata": {},
   "outputs": [],
   "source": [
    "dengue_distYear_w[dengue_distYear_w.distrito.str.startswith('HUIPO')]"
   ]
  },
  {
   "cell_type": "markdown",
   "id": "0bd65363",
   "metadata": {},
   "source": [
    "Now the merge can happen:"
   ]
  },
  {
   "cell_type": "code",
   "execution_count": null,
   "id": "b1d3b077",
   "metadata": {},
   "outputs": [],
   "source": [
    "datadismap=datadismap.merge(datadis, on='provDist')"
   ]
  },
  {
   "cell_type": "code",
   "execution_count": null,
   "id": "fe40f603",
   "metadata": {},
   "outputs": [],
   "source": [
    "# check\n",
    "datadismap.info()"
   ]
  },
  {
   "cell_type": "markdown",
   "id": "4142c0b7",
   "metadata": {},
   "source": [
    "We can get rid of some columns:"
   ]
  },
  {
   "cell_type": "code",
   "execution_count": null,
   "id": "ee2e517b",
   "metadata": {},
   "outputs": [],
   "source": [
    "bye=['Departamento', 'Provincia', 'Distrito','INSTITUCIO']\n",
    "datadismap.drop(columns=bye,inplace=True)\n",
    "\n",
    "# keeping\n",
    "datadismap.head()"
   ]
  },
  {
   "cell_type": "markdown",
   "id": "a2ff93fc",
   "metadata": {},
   "source": [
    "We can save this gdf:"
   ]
  },
  {
   "cell_type": "code",
   "execution_count": null,
   "id": "83c97517",
   "metadata": {},
   "outputs": [],
   "source": [
    "datadismap.to_file(os.path.join('maps',\"dataMapPeru.gpkg\"), layer='distritos', driver=\"GPKG\")"
   ]
  },
  {
   "cell_type": "markdown",
   "id": "6b100004",
   "metadata": {},
   "source": [
    "### Exercise 1\n",
    "\n",
    "<div class=\"alert-success\">\n",
    "    \n",
    "**ALTERNATIVE A**\n",
    "    \n",
    "1. Get a map of the Provinces of Peru.\n",
    "    \n",
    "2. Get a table of variables on provinces of Peru. At least 3 numerical variables.\n",
    "\n",
    "3. Preprocess both tables and get them ready for merging.\n",
    "\n",
    "4. Do the merging, making the changes needed so that you keep the most columns.\n",
    "    \n",
    "\n",
    "**ALTERNATIVE B**    \n",
    "    \n",
    "1. Use the map of the Districts of Peru from this class.\n",
    "    \n",
    "2. Get a new table of variables on districts of Peru. At least 3 numerical variables.\n",
    "\n",
    "3. Preprocess both tables and get them ready for merging.\n",
    "\n",
    "4. Do the merging, making the changes needed so that you keep the most columns.\n",
    "\n",
    "5. Select the districts of ONE Department for the other excercises. Do not select  Pasco,Tacna,Moquegua, Ucayali, Tumbes, Madre de Dios, Callao.\n",
    "\n",
    "    \n",
    "**ALTERNATIVE C**\n",
    "\n",
    "Do alternative A with a different country.\n",
    "    \n",
    "</div>"
   ]
  },
  {
   "cell_type": "markdown",
   "id": "7b518c79",
   "metadata": {},
   "source": [
    "## Exploring one variable\n",
    "\n",
    "This time, we explore statistically one variable in the map:"
   ]
  },
  {
   "cell_type": "code",
   "execution_count": null,
   "id": "dbd7ca6a",
   "metadata": {},
   "outputs": [],
   "source": [
    "# statistics\n",
    "datadismap.IDH2019.describe()"
   ]
  },
  {
   "cell_type": "code",
   "execution_count": null,
   "id": "7634f045",
   "metadata": {},
   "outputs": [],
   "source": [
    "import seaborn as sea\n",
    "\n",
    "sea.displot(datadismap.IDH2019, color='yellow')"
   ]
  },
  {
   "cell_type": "markdown",
   "id": "31653498",
   "metadata": {},
   "source": [
    "This plot tells you the distribution of the values, but not the presence of outliers, which you are revealed in a boxplot:"
   ]
  },
  {
   "cell_type": "code",
   "execution_count": null,
   "id": "0b47a7e5",
   "metadata": {},
   "outputs": [],
   "source": [
    "sea.boxplot(datadismap.IDH2019, color='yellow',orient='h')"
   ]
  },
  {
   "cell_type": "markdown",
   "id": "85ee802b",
   "metadata": {},
   "source": [
    "Notice the histogram divides the data in intervals which are the base of the bars. Seaborn uses the [Freedman-Diaconis](https://en.wikipedia.org/wiki/Freedman%E2%80%93Diaconis_rule) formula to compute the bins.\n",
    "\n",
    "Let's see other possibilities, but please install [**numba**](https://numba.readthedocs.io/en/stable/user/installing.html) before runing the next code; also make sure you have **pysal**, **mapclassify** and **numpy** installed: "
   ]
  },
  {
   "cell_type": "code",
   "execution_count": null,
   "id": "621a58e6",
   "metadata": {},
   "outputs": [],
   "source": [
    "import mapclassify \n",
    "import numpy as np\n",
    "\n",
    "np.random.seed(12345) # so we all get the same results!\n",
    "\n",
    "# let's try 5 intervals\n",
    "K=5\n",
    "# same interval width, easy interpretation\n",
    "ei5 = mapclassify.EqualInterval(datadismap['IDH2019'], k=K)\n",
    "# same interval width based on standard deviation, easy - but not as the previous one, poor when high skewness\n",
    "msd = mapclassify.StdMean(datadismap['IDH2019'])\n",
    "# interval width varies, counts per interval are close, not easy to grasp, repeated values complicate cuts                                \n",
    "q5=mapclassify.Quantiles(datadismap['IDH2019'],k=K)\n",
    "\n",
    "# based on similarity, good for multimodal data \n",
    "mb5 = mapclassify.MaximumBreaks(datadismap['IDH2019'], k=K)\n",
    "# based on similarity, good for skewed data\n",
    "ht = mapclassify.HeadTailBreaks(datadismap['IDH2019']) # no K needed\n",
    "# based on similarity, optimizer\n",
    "fj5 = mapclassify.FisherJenks(datadismap['IDH2019'], k=K)\n",
    "# based on similarity, optimizer\n",
    "jc5 = mapclassify.JenksCaspall(datadismap['IDH2019'], k=K)\n",
    "# based on similarity, optimizer\n",
    "mp5 = mapclassify.MaxP(datadismap['IDH2019'], k=K)   \n"
   ]
  },
  {
   "cell_type": "markdown",
   "id": "086c2ad4",
   "metadata": {},
   "source": [
    "Let's see the **HeadTailBreaks** results:"
   ]
  },
  {
   "cell_type": "code",
   "execution_count": null,
   "id": "a5f71151",
   "metadata": {},
   "outputs": [],
   "source": [
    "# a frequency table by default\n",
    "ht"
   ]
  },
  {
   "cell_type": "code",
   "execution_count": null,
   "id": "ce570a1a",
   "metadata": {},
   "outputs": [],
   "source": [
    "# group label\n",
    "ht.yb"
   ]
  },
  {
   "cell_type": "code",
   "execution_count": null,
   "id": "4e08aa7f",
   "metadata": {},
   "outputs": [],
   "source": [
    "# labels and counts\n",
    "np.unique(ht.yb,return_counts=True)\n",
    "          "
   ]
  },
  {
   "cell_type": "code",
   "execution_count": null,
   "id": "c3a1744a",
   "metadata": {},
   "outputs": [],
   "source": [
    "# ht.yb into a pandas Series\n",
    "\n",
    "pd.Series(ht.yb).value_counts()"
   ]
  },
  {
   "cell_type": "code",
   "execution_count": null,
   "id": "ee200de1",
   "metadata": {},
   "outputs": [],
   "source": [
    "# these are the cuts, but it is not including the min value\n",
    "ht.bins"
   ]
  },
  {
   "cell_type": "markdown",
   "id": "731d0bac",
   "metadata": {},
   "source": [
    "Based on the previous information, let me prepare a histogram:"
   ]
  },
  {
   "cell_type": "code",
   "execution_count": null,
   "id": "d8aef9ed",
   "metadata": {},
   "outputs": [],
   "source": [
    "# completing the bins\n",
    "HT_bins=list(ht.bins)\n",
    "HT_bins.insert(0,datadismap.IDH2019.min())"
   ]
  },
  {
   "cell_type": "code",
   "execution_count": null,
   "id": "55862575",
   "metadata": {},
   "outputs": [],
   "source": [
    "sea.displot(datadismap.IDH2019, bins=HT_bins,color='yellow')"
   ]
  },
  {
   "cell_type": "markdown",
   "id": "37602d2b",
   "metadata": {},
   "source": [
    "How can we select the right classification. Let me use the the Absolute deviation around class median (ADCM) to make the comparisson:"
   ]
  },
  {
   "cell_type": "code",
   "execution_count": null,
   "id": "eace450b",
   "metadata": {},
   "outputs": [],
   "source": [
    "\n",
    "class5 = q5, ei5,msd, ht, mb5, fj5, jc5, mp5\n",
    "# Collect ADCM for each classifier\n",
    "fits = np.array([ c.adcm for c in class5])\n",
    "# Convert ADCM scores to a DataFrame\n",
    "adcms = pd.DataFrame(fits)\n",
    "# Add classifier names\n",
    "adcms['classifier'] = [c.name for c in class5]\n",
    "# Add column names to the ADCM\n",
    "adcms.columns = ['ADCM', 'Classifier']\n",
    "ax = sea.barplot(\n",
    "    y='Classifier', x='ADCM', data=adcms, palette='Pastel1'\n",
    ")"
   ]
  },
  {
   "cell_type": "markdown",
   "id": "cec883be",
   "metadata": {},
   "source": [
    "Let's keep the three schemes with the lowest  ADCM:"
   ]
  },
  {
   "cell_type": "code",
   "execution_count": null,
   "id": "63a7802b",
   "metadata": {},
   "outputs": [],
   "source": [
    "datadismap['QU'] = q5.yb \n",
    "datadismap['FJ'] = fj5.yb\n",
    "datadismap['JC'] = jc5.yb"
   ]
  },
  {
   "cell_type": "code",
   "execution_count": null,
   "id": "f7ddf954",
   "metadata": {},
   "outputs": [],
   "source": [
    "# how many cases per scheme:\n",
    "\n",
    "class5new = q5,fj5, jc5\n",
    "pd.DataFrame(\n",
    "    {c.name: c.counts for c in class5new},\n",
    "    index=['Class-{}'.format(i) for i in range(5)]\n",
    ")"
   ]
  },
  {
   "cell_type": "markdown",
   "id": "c4163499",
   "metadata": {},
   "source": [
    "Let me plot one of them:"
   ]
  },
  {
   "cell_type": "code",
   "execution_count": null,
   "id": "71dd32a0",
   "metadata": {},
   "outputs": [],
   "source": [
    "import matplotlib.pyplot as plt\n",
    "\n",
    "f, ax = plt.subplots(1, figsize=(9, 9))\n",
    "datadismap.plot(column='QU', \n",
    "        cmap='viridis', \n",
    "        categorical=True,\n",
    "        edgecolor='white', \n",
    "        linewidth=0., \n",
    "        alpha=0.75, \n",
    "        legend=True,\n",
    "        legend_kwds=dict(loc=2),\n",
    "        ax=ax\n",
    "       )\n",
    "\n",
    "ax.set_axis_off()"
   ]
  },
  {
   "cell_type": "markdown",
   "id": "2ff92c74",
   "metadata": {},
   "source": [
    "Notice the **geopandas.plot()** can also use those schemes:"
   ]
  },
  {
   "cell_type": "code",
   "execution_count": null,
   "id": "e7a8c2b4",
   "metadata": {},
   "outputs": [],
   "source": [
    "f, ax = plt.subplots(1, figsize=(9, 9))\n",
    "datadismap.plot(column='IDH2019', \n",
    "        cmap='viridis',       \n",
    "        scheme='Quantiles',\n",
    "        k=5, \n",
    "        edgecolor='white', \n",
    "        linewidth=0., \n",
    "        alpha=0.75, \n",
    "        legend=True,\n",
    "        legend_kwds=dict(loc=2),\n",
    "        ax=ax\n",
    "       )\n",
    "\n",
    "ax.set_axis_off()"
   ]
  },
  {
   "cell_type": "markdown",
   "id": "9a642147",
   "metadata": {},
   "source": [
    "Let's save what we have:"
   ]
  },
  {
   "cell_type": "code",
   "execution_count": null,
   "id": "0afe0e57",
   "metadata": {},
   "outputs": [],
   "source": [
    "# update\n",
    "datadismap.to_file(os.path.join('maps',\"dataMapPeru.gpkg\"), layer='distritos', driver=\"GPKG\")"
   ]
  },
  {
   "cell_type": "markdown",
   "id": "dd514b81",
   "metadata": {},
   "source": [
    "### Exercise 2\n",
    "\n",
    "<div class=\"alert-success\">\n",
    "    \n",
    "1. Choose a numeric variable from your merged data.\n",
    "2. Decide which are the three best classification schemes for that variable.\n",
    "3. Make a map for each scheme selected.    \n",
    "</div>"
   ]
  },
  {
   "cell_type": "markdown",
   "id": "5ba06e47",
   "metadata": {},
   "source": [
    "# Exploring several variables\n",
    "\n",
    "We can turn our attention to several variables now:"
   ]
  },
  {
   "cell_type": "code",
   "execution_count": null,
   "id": "87283d4c",
   "metadata": {},
   "outputs": [],
   "source": [
    "selected_variables = ['Educ_sec_comp2019_pct',\n",
    "                     'NBI2017_pct', \n",
    "                     'Viv_sin_serv_hig2017_pct']\n",
    "datadismap[selected_variables].describe()"
   ]
  },
  {
   "cell_type": "markdown",
   "id": "892d1eb2",
   "metadata": {},
   "source": [
    "Visualization in a key procedure to detect the need for further data transformation:"
   ]
  },
  {
   "cell_type": "code",
   "execution_count": null,
   "id": "81b8695c",
   "metadata": {},
   "outputs": [],
   "source": [
    "sea.boxplot(datadismap[selected_variables])"
   ]
  },
  {
   "cell_type": "code",
   "execution_count": null,
   "id": "cc5beb3b",
   "metadata": {},
   "outputs": [],
   "source": [
    "datadismap[selected_variables].hist();"
   ]
  },
  {
   "cell_type": "markdown",
   "id": "abb06a04",
   "metadata": {},
   "source": [
    "Both univariate plots do not allow to see the relationships. Let's try a scatterplot:"
   ]
  },
  {
   "cell_type": "code",
   "execution_count": null,
   "id": "733353c1",
   "metadata": {},
   "outputs": [],
   "source": [
    "sea.pairplot(\n",
    "    datadismap[selected_variables], kind=\"reg\", diag_kind=\"kde\"\n",
    ")"
   ]
  },
  {
   "cell_type": "markdown",
   "id": "0708cbe7",
   "metadata": {},
   "source": [
    "We finally realize that **Educ_sec_comp2019_pct** has a negative correlation with the others (as expected). Let me reverse the variable:"
   ]
  },
  {
   "cell_type": "code",
   "execution_count": null,
   "id": "0848f0e1",
   "metadata": {},
   "outputs": [],
   "source": [
    "reverse=lambda x:abs(x-x.max())+x.min()\n",
    "\n",
    "datadismap['Educ_sec_NO_comp2019_pct']=reverse(datadismap['Educ_sec_comp2019_pct'])\n",
    "datadismap['Educ_sec_NO_comp2019_pct'].hist()"
   ]
  },
  {
   "cell_type": "markdown",
   "id": "2dcf024f",
   "metadata": {},
   "source": [
    "Now all our correlations will be positive:"
   ]
  },
  {
   "cell_type": "code",
   "execution_count": null,
   "id": "b4296551",
   "metadata": {},
   "outputs": [],
   "source": [
    "selected_variables_new = ['Educ_sec_NO_comp2019_pct',\n",
    "                     'NBI2017_pct', \n",
    "                     'Viv_sin_serv_hig2017_pct']\n",
    "sea.pairplot(\n",
    "    datadismap[selected_variables_new], kind=\"reg\", diag_kind=\"kde\"\n",
    ")"
   ]
  },
  {
   "cell_type": "markdown",
   "id": "334fef34",
   "metadata": {},
   "source": [
    "Keep in mind that the boxplot showed outliers. Let me try to re scale the data to smooth the distribution a little:"
   ]
  },
  {
   "cell_type": "code",
   "execution_count": null,
   "id": "bc3d7fc3",
   "metadata": {},
   "outputs": [],
   "source": [
    "columnsToScale=selected_variables_new\n",
    "\n",
    "\n",
    "from sklearn.preprocessing import robust_scale as rs\n",
    "from sklearn.preprocessing import power_transform as pt\n",
    "from sklearn.preprocessing import quantile_transform as qt\n",
    "\n",
    "rs_result=rs(datadismap[columnsToScale])\n",
    "pt_result=pt(datadismap[columnsToScale])\n",
    "qt_result=qt(datadismap[columnsToScale])"
   ]
  },
  {
   "cell_type": "markdown",
   "id": "26e10c52",
   "metadata": {},
   "source": [
    "Let's see the results:"
   ]
  },
  {
   "cell_type": "code",
   "execution_count": null,
   "id": "e722041e",
   "metadata": {},
   "outputs": [],
   "source": [
    "pd.DataFrame(rs_result).boxplot(vert=False)"
   ]
  },
  {
   "cell_type": "code",
   "execution_count": null,
   "id": "7de1c09c",
   "metadata": {},
   "outputs": [],
   "source": [
    "pd.DataFrame(pt_result).boxplot(vert=False)"
   ]
  },
  {
   "cell_type": "code",
   "execution_count": null,
   "id": "f1120e33",
   "metadata": {},
   "outputs": [],
   "source": [
    "pd.DataFrame(qt_result).boxplot(vert=False)"
   ]
  },
  {
   "cell_type": "markdown",
   "id": "c65d0042",
   "metadata": {},
   "source": [
    "I will keep the **qt_result**, so let me add some columns to the gdf:"
   ]
  },
  {
   "cell_type": "code",
   "execution_count": null,
   "id": "e6725e09",
   "metadata": {},
   "outputs": [],
   "source": [
    "# new names\n",
    "selected_variables_new_t=[s+'_t' for s in selected_variables_new ]\n",
    "\n",
    "# add colunms\n",
    "datadismap[selected_variables_new_t]=qt_result"
   ]
  },
  {
   "cell_type": "markdown",
   "id": "0dd99ff6",
   "metadata": {},
   "source": [
    "Let's plot the data we have used (I will the quantiles scheme **without** pre evaluation):"
   ]
  },
  {
   "cell_type": "code",
   "execution_count": null,
   "id": "108c10d1",
   "metadata": {},
   "outputs": [],
   "source": [
    "f, axs = plt.subplots( ncols=3, nrows=3,figsize=(10, 10))\n",
    "axs = axs.flatten()\n",
    "# Start a loop over all the variables of interest\n",
    "for i, col in enumerate(selected_variables_new_t + selected_variables_new + selected_variables):\n",
    "    # select the axis where the map will go\n",
    "    ax = axs[i]\n",
    "    # Plot the map\n",
    "    datadismap.plot(\n",
    "        column=col,\n",
    "        ax=ax,\n",
    "        scheme=\"Quantiles\",\n",
    "        linewidth=0,\n",
    "        cmap=\"RdPu\",\n",
    "    )\n",
    "    # Remove axis clutter\n",
    "    ax.set_axis_off()\n",
    "    # Set the axis title to the name of variable being plotted\n",
    "    ax.set_title(col)\n",
    "# Display the figure\n",
    "plt.show()"
   ]
  },
  {
   "cell_type": "code",
   "execution_count": null,
   "id": "0fb8eb3d",
   "metadata": {},
   "outputs": [],
   "source": [
    "# update\n",
    "datadismap.to_file(os.path.join('maps',\"dataMapPeru.gpkg\"), layer='distritos', driver=\"GPKG\")"
   ]
  },
  {
   "cell_type": "markdown",
   "id": "51843ff9",
   "metadata": {},
   "source": [
    "### Exercise 3\n",
    "\n",
    "<div class=\"alert-success\">\n",
    "    \n",
    "1. Select three numeric variables.\n",
    "    \n",
    "2. Explore each one as above:\n",
    "    * If needed reverse the variables (so that correlations are positive)\n",
    "    * If needed re scale the variables (so that outliers are smoothed)\n",
    "    * Evalue the  classification schemes for each variable.\n",
    "\n",
    "4. Prepare a map for each variable, using the best classification scheme for each variable.\n",
    "\n",
    "\n",
    "    \n",
    "</div>"
   ]
  },
  {
   "cell_type": "markdown",
   "id": "4fd1aa3f",
   "metadata": {},
   "source": [
    "## Clustering\n",
    "\n",
    "We used clustering to organize the data into homogeneus groups. Let me use a **dendogram** to explore the possible clusters:"
   ]
  },
  {
   "cell_type": "code",
   "execution_count": null,
   "id": "49004eb8",
   "metadata": {},
   "outputs": [],
   "source": [
    "from scipy.cluster import hierarchy as hc\n",
    "\n",
    "\n",
    "Z = hc.linkage(qt_result, 'ward')\n",
    "# calculate full dendrogram\n",
    "plt.figure(figsize=(25, 10))\n",
    "plt.title('Hierarchical Clustering Dendrogram')\n",
    "plt.xlabel('cases')\n",
    "plt.ylabel('distance')\n",
    "hc.dendrogram(\n",
    "    Z,\n",
    "    leaf_rotation=90.,  # rotates the x axis labels\n",
    "    leaf_font_size=1,  # font size for the x axis labels\n",
    ")\n",
    "plt.show()"
   ]
  },
  {
   "cell_type": "markdown",
   "id": "a8324827",
   "metadata": {},
   "source": [
    "I have used all the variables in the dendogram, so I can decide how many groups could be created using that data:"
   ]
  },
  {
   "cell_type": "code",
   "execution_count": null,
   "id": "6857d719",
   "metadata": {},
   "outputs": [],
   "source": [
    "from sklearn.cluster import AgglomerativeClustering as agnes\n",
    "# Set seed for reproducibility\n",
    "np.random.seed(12345)\n",
    "# Initialize the algorithm, requesting 3 clusters\n",
    "model = agnes(linkage=\"ward\", n_clusters=3).fit(datadismap[selected_variables_new_t])\n",
    "# Assign labels to main data table\n",
    "datadismap[\"hc_3\"] = model.labels_"
   ]
  },
  {
   "cell_type": "markdown",
   "id": "dc1a9175",
   "metadata": {},
   "source": [
    "I reduce all the information from the three variables into a cluster variable:"
   ]
  },
  {
   "cell_type": "code",
   "execution_count": null,
   "id": "a510b396",
   "metadata": {},
   "outputs": [],
   "source": [
    "datadismap[\"hc_3\"].value_counts()"
   ]
  },
  {
   "cell_type": "markdown",
   "id": "b5f17548",
   "metadata": {},
   "source": [
    "Let's use the mean of each variable to understand the clusters:"
   ]
  },
  {
   "cell_type": "code",
   "execution_count": null,
   "id": "d6c7906b",
   "metadata": {},
   "outputs": [],
   "source": [
    "datadismap.groupby(\"hc_3\")[selected_variables_new].mean()"
   ]
  },
  {
   "cell_type": "markdown",
   "id": "3150d66e",
   "metadata": {},
   "source": [
    "I could profile the clusters better if I prepare a plot with all the variables. Let me create a new data frame in long shape:"
   ]
  },
  {
   "cell_type": "code",
   "execution_count": null,
   "id": "4023a3d9",
   "metadata": {},
   "outputs": [],
   "source": [
    "# Index db on cluster ID\n",
    "datadismap_long = datadismap.set_index(\"hc_3\").copy()\n",
    "# Keep only variables used for clustering\n",
    "datadismap_long = datadismap_long[selected_variables_new]\n",
    "# Stack column names into a column, obtaining\n",
    "# a \"long\" version of the dataset\n",
    "datadismap_long = datadismap_long.stack()\n",
    "# Take indices into proper columns\n",
    "datadismap_long = datadismap_long.reset_index()\n",
    "# Rename column names\n",
    "datadismap_long = datadismap_long.rename(\n",
    "    columns={\"level_1\": \"Attribute\", 0: \"Values\"}\n",
    ")\n",
    "# Check out result\n",
    "datadismap_long.head()"
   ]
  },
  {
   "cell_type": "markdown",
   "id": "1685c19e",
   "metadata": {},
   "source": [
    "Nos the profiling:"
   ]
  },
  {
   "cell_type": "code",
   "execution_count": null,
   "id": "4b954349",
   "metadata": {},
   "outputs": [],
   "source": [
    "# Setup the facets\n",
    "facets = sea.FacetGrid(\n",
    "    data=datadismap_long,\n",
    "    col=\"hc_3\",\n",
    "    hue=\"Attribute\",\n",
    "    sharey=False,\n",
    "    sharex=False,\n",
    "    aspect=2,\n",
    "    col_wrap=3,\n",
    ")\n",
    "# Build the plot as a `sns.kdeplot`\n",
    "facets.map(sea.kdeplot, \"Values\", fill=True).add_legend()"
   ]
  },
  {
   "cell_type": "markdown",
   "id": "cf7eabd9",
   "metadata": {},
   "source": [
    "Finally, just color the map:"
   ]
  },
  {
   "cell_type": "code",
   "execution_count": null,
   "id": "b329779a",
   "metadata": {},
   "outputs": [],
   "source": [
    "# Set up figure and ax\n",
    "f, ax = plt.subplots(1, figsize=(9, 9))\n",
    "# Plot unique values choropleth including\n",
    "# a legend and with no boundary lines\n",
    "datadismap.plot(\n",
    "    column=\"hc_3\", categorical=True, legend=True, linewidth=0, ax=ax\n",
    ")\n",
    "# Remove axis\n",
    "ax.set_axis_off()\n",
    "# Display the map\n",
    "plt.show()"
   ]
  },
  {
   "cell_type": "markdown",
   "id": "05081d92",
   "metadata": {},
   "source": [
    "### Exercise 4\n",
    "\n",
    "<div class=\"alert-success\">\n",
    "    \n",
    "1. Keep the previous three variables, after you pre processed them.\n",
    "    \n",
    "2. Prepare a dendogram, and decide which is better: 3 or 5 clusters.\n",
    "    \n",
    "3. Cluster the data into the amount of clusters selected.\n",
    "\n",
    "4. Prepare a visualization to profile each cluster.\n",
    "\n",
    "5. Plot the cluster map.\n",
    "\n",
    "\n",
    "    \n",
    "</div>"
   ]
  },
  {
   "cell_type": "markdown",
   "id": "87708d4e",
   "metadata": {},
   "source": [
    "## Spatial Correlation\n",
    "\n",
    "### Neighboorhood\n",
    "\n",
    "We can compute the neighborhood in a map using different algorithms:"
   ]
  },
  {
   "cell_type": "code",
   "execution_count": null,
   "id": "a0152188",
   "metadata": {},
   "outputs": [],
   "source": [
    "from libpysal.weights import Queen, Rook, KNN\n",
    "\n",
    "# rook\n",
    "w_rook = Rook.from_dataframe(datadismap) "
   ]
  },
  {
   "cell_type": "code",
   "execution_count": null,
   "id": "282be4af",
   "metadata": {},
   "outputs": [],
   "source": [
    "# rook\n",
    "w_queen = Queen.from_dataframe(datadismap)"
   ]
  },
  {
   "cell_type": "code",
   "execution_count": null,
   "id": "008f5e05",
   "metadata": {},
   "outputs": [],
   "source": [
    "# k nearest neighbors\n",
    "w_knn = KNN.from_dataframe(datadismap, k=4)"
   ]
  },
  {
   "cell_type": "markdown",
   "id": "92c7c94a",
   "metadata": {},
   "source": [
    "Let's understand the differences:"
   ]
  },
  {
   "cell_type": "code",
   "execution_count": null,
   "id": "d3df1a3e",
   "metadata": {},
   "outputs": [],
   "source": [
    "# first one\n",
    "datadismap.head(1)"
   ]
  },
  {
   "cell_type": "code",
   "execution_count": null,
   "id": "9cd010e7",
   "metadata": {},
   "outputs": [],
   "source": [
    "# amount neighbors of that district\n",
    "w_rook.neighbors[0] "
   ]
  },
  {
   "cell_type": "code",
   "execution_count": null,
   "id": "fe8d9e8b",
   "metadata": {},
   "outputs": [],
   "source": [
    "# see\n",
    "base=datadismap[datadismap.PROVINCIA==\"TACNA\"].plot()\n",
    "datadismap.iloc[w_rook.neighbors[0] ,].plot(ax=base,facecolor=\"yellow\")\n",
    "datadismap.head(1).plot(ax=base,facecolor=\"red\")"
   ]
  },
  {
   "cell_type": "markdown",
   "id": "8dee5594",
   "metadata": {},
   "source": [
    "Let's do the same:"
   ]
  },
  {
   "cell_type": "code",
   "execution_count": null,
   "id": "39a94ad6",
   "metadata": {},
   "outputs": [],
   "source": [
    "w_queen.neighbors[0]"
   ]
  },
  {
   "cell_type": "code",
   "execution_count": null,
   "id": "959642c7",
   "metadata": {},
   "outputs": [],
   "source": [
    "base=datadismap[datadismap.PROVINCIA==\"TACNA\"].plot()\n",
    "datadismap.iloc[w_queen.neighbors[0] ,].plot(ax=base,facecolor=\"yellow\")\n",
    "datadismap.head(1).plot(ax=base,facecolor=\"red\")"
   ]
  },
  {
   "cell_type": "code",
   "execution_count": null,
   "id": "eeaf1e44",
   "metadata": {},
   "outputs": [],
   "source": [
    "w_knn.neighbors[0]"
   ]
  },
  {
   "cell_type": "code",
   "execution_count": null,
   "id": "6143d69a",
   "metadata": {},
   "outputs": [],
   "source": [
    "\n",
    "base=datadismap[datadismap.PROVINCIA==\"TACNA\"].plot()\n",
    "datadismap.iloc[w_knn.neighbors[0],].plot(ax=base,facecolor=\"yellow\")\n",
    "datadismap.head(1).plot(ax=base,facecolor=\"red\")"
   ]
  },
  {
   "cell_type": "markdown",
   "id": "a96c4f9d",
   "metadata": {},
   "source": [
    "Let me pay attention to the knn results:"
   ]
  },
  {
   "cell_type": "code",
   "execution_count": null,
   "id": "743d91c6",
   "metadata": {},
   "outputs": [],
   "source": [
    "# all the neighbors by row\n",
    "w_knn.neighbors"
   ]
  },
  {
   "cell_type": "code",
   "execution_count": null,
   "id": "31f7bf1a",
   "metadata": {},
   "outputs": [],
   "source": [
    "# the matrix of neighboorhood:\n",
    "\n",
    "pd.DataFrame(*w_knn.full()).astype(int) # 1 means both are neighbors"
   ]
  },
  {
   "cell_type": "code",
   "execution_count": null,
   "id": "2f85f14e",
   "metadata": {},
   "outputs": [],
   "source": [
    "# count of zeros\n",
    "w_knn.nonzero"
   ]
  },
  {
   "cell_type": "code",
   "execution_count": null,
   "id": "b4395652",
   "metadata": {},
   "outputs": [],
   "source": [
    "# pct of neighboorhood (density)\n",
    "w_knn.pct_nonzero"
   ]
  },
  {
   "cell_type": "code",
   "execution_count": null,
   "id": "48e318d9",
   "metadata": {},
   "outputs": [],
   "source": [
    "# a district with NO neighbor?\n",
    "w_knn.islands"
   ]
  },
  {
   "cell_type": "markdown",
   "id": "dcc26bd2",
   "metadata": {},
   "source": [
    "### Exercise 5\n",
    "\n",
    "<div class=\"alert-success\">\n",
    "    \n",
    "1. Compute the three neighboohoods shown above for you data.\n",
    "    \n",
    "2. Select one polygon, and plot it with its neighbors as above.\n",
    "    \n",
    "</div>"
   ]
  },
  {
   "cell_type": "markdown",
   "id": "28192fdf",
   "metadata": {},
   "source": [
    "## Spatial correlation\n",
    "\n",
    "We need the neighboorhood matrix (the weight matrix) to compute spatial correlation: if the variable value is correlated with the values of its neighbors - which proves a spatial effect."
   ]
  },
  {
   "cell_type": "code",
   "execution_count": null,
   "id": "2ea5e43d",
   "metadata": {},
   "outputs": [],
   "source": [
    "# needed for spatial correlation\n",
    "w_knn.transform = 'R'"
   ]
  },
  {
   "cell_type": "markdown",
   "id": "91941edd",
   "metadata": {},
   "source": [
    "Spatial correlation is measured by the Moran's I statistic:"
   ]
  },
  {
   "cell_type": "code",
   "execution_count": null,
   "id": "003d47cb",
   "metadata": {},
   "outputs": [],
   "source": [
    "from esda.moran import Moran\n",
    "\n",
    "moranIDH = Moran(datadismap['IDH2019'], w_knn)\n",
    "moranIDH.I,moranIDH.p_sim"
   ]
  },
  {
   "cell_type": "markdown",
   "id": "d44b450c",
   "metadata": {},
   "source": [
    "A significant Moran's I suggest spatial correlation. Let's see the spatial scatter plot"
   ]
  },
  {
   "cell_type": "code",
   "execution_count": null,
   "id": "e950f7fd",
   "metadata": {},
   "outputs": [],
   "source": [
    "from splot.esda import moran_scatterplot\n",
    "\n",
    "fig, ax = moran_scatterplot(moranIDH, aspect_equal=True)\n",
    "ax.set_xlabel('IDH_std')\n",
    "ax.set_ylabel('SpatialLag_IDH_std')\n",
    "plt.show()"
   ]
  },
  {
   "cell_type": "markdown",
   "id": "beec77ca",
   "metadata": {},
   "source": [
    "### Exercise 6\n",
    "\n",
    "<div class=\"alert-success\">\n",
    "    \n",
    "1. Compute the Moran's coefficient for **all** your numeric variables.\n",
    "    \n",
    "2. Make a scatter plot for each variable.\n",
    "    \n",
    "</div>"
   ]
  },
  {
   "cell_type": "markdown",
   "id": "196148f8",
   "metadata": {},
   "source": [
    "### Local Spatial Correlation\n",
    "\n",
    "We can compute a LISA (local Moran) for each case. That will help us find spatial clusters (spots) and spatial outliers:\n",
    "\n",
    "* A **hotSpot** is a polygon whose value in the variable is high AND is surrounded with polygons with also high values.\n",
    "\n",
    "* A **coldSpot** is a polygon whose value in the variable is low AND is surrounded with polygons with also low values.\n",
    "\n",
    "* A **coldOutlier** is a polygon whose value in the variable is low BUT is surrounded with polygons with  high values.\n",
    "\n",
    "* A **hotOutlier** is a polygon whose value in the variable is high BUT is surrounded with polygons with  low values.\n",
    "\n",
    "It is also possible that no significant correlation is detected. Let's see those values:"
   ]
  },
  {
   "cell_type": "code",
   "execution_count": null,
   "id": "b1207a8e",
   "metadata": {},
   "outputs": [],
   "source": [
    "# The scatterplot with local info\n",
    "from esda.moran import Moran_Local\n",
    "\n",
    "# calculate Moran_Local and plot\n",
    "lisaIDH = Moran_Local(y=datadismap['IDH2019'], w=w_knn,seed=2022)\n",
    "fig, ax = moran_scatterplot(lisaIDH,p=0.05)\n",
    "ax.set_xlabel('IDH_std')\n",
    "ax.set_ylabel('SpatialLag_IDH_std')\n",
    "plt.show()"
   ]
  },
  {
   "cell_type": "code",
   "execution_count": null,
   "id": "44d1fb80",
   "metadata": {},
   "outputs": [],
   "source": [
    "# the map with the spots and outliers\n",
    "\n",
    "from splot.esda import lisa_cluster\n",
    "f, ax = plt.subplots(1, figsize=(12, 12))\n",
    "plt.title('Spots and Outliers')\n",
    "fig = lisa_cluster(lisaIDH, \n",
    "                   datadismap,ax=ax,\n",
    "                   legend_kwds={'loc': 'center left', \n",
    "                                'bbox_to_anchor': (0.7, 0.6)})\n",
    "plt.show()"
   ]
  },
  {
   "cell_type": "markdown",
   "id": "3c8d157e",
   "metadata": {},
   "source": [
    "Let me add that data to my gdf:"
   ]
  },
  {
   "cell_type": "code",
   "execution_count": null,
   "id": "b67766a8",
   "metadata": {},
   "outputs": [],
   "source": [
    "# quadrant\n",
    "lisaIDH.q"
   ]
  },
  {
   "cell_type": "code",
   "execution_count": null,
   "id": "df8949df",
   "metadata": {},
   "outputs": [],
   "source": [
    "# significance\n",
    "lisaIDH.p_sim"
   ]
  },
  {
   "cell_type": "code",
   "execution_count": null,
   "id": "8a07011f",
   "metadata": {},
   "outputs": [],
   "source": [
    "# quadrant: 1 HH,  2 LH,  3 LL,  4 HL\n",
    "pd.Series(lisaIDH.q).value_counts()"
   ]
  },
  {
   "cell_type": "markdown",
   "id": "79c4c66f",
   "metadata": {},
   "source": [
    "The info in **lisaIDH.q** can not be used right away, we need to add if the local spatial correlation is significant:"
   ]
  },
  {
   "cell_type": "code",
   "execution_count": null,
   "id": "2e2977e6",
   "metadata": {},
   "outputs": [],
   "source": [
    "datadismap['IDH_quadrant']=[l if p <0.05 else 0 for l,p in zip(lisaIDH.q,lisaIDH.p_sim)  ]\n",
    "datadismap['IDH_quadrant'].value_counts()"
   ]
  },
  {
   "cell_type": "markdown",
   "id": "f327eb6f",
   "metadata": {},
   "source": [
    "Now, we recode:"
   ]
  },
  {
   "cell_type": "code",
   "execution_count": null,
   "id": "4fd49705",
   "metadata": {},
   "outputs": [],
   "source": [
    "labels = [ '0 no_sig', '1 hotSpot', '2 coldOutlier', '3 coldSpot', '4 hotOutlier']\n",
    "\n",
    "datadismap['IDH_quadrant_names']=[labels[i] for i in datadismap['IDH_quadrant']]\n",
    "\n",
    "datadismap['IDH_quadrant_names'].value_counts()\n",
    "                                  "
   ]
  },
  {
   "cell_type": "markdown",
   "id": "0b662813",
   "metadata": {},
   "source": [
    "Let's replot:"
   ]
  },
  {
   "cell_type": "code",
   "execution_count": null,
   "id": "30bad5df",
   "metadata": {},
   "outputs": [],
   "source": [
    "from matplotlib import colors\n",
    "myColMap = colors.ListedColormap([ 'ghostwhite', 'red', 'green', 'black','orange'])\n",
    "\n",
    "\n",
    "\n",
    "# Set up figure and ax\n",
    "f, ax = plt.subplots(1, figsize=(12,12))\n",
    "# Plot unique values choropleth including\n",
    "# a legend and with no boundary lines\n",
    "\n",
    "plt.title('Spots and Outliers')\n",
    "\n",
    "datadismap.plot(column='IDH_quadrant_names', \n",
    "                categorical=True,\n",
    "                cmap=myColMap,\n",
    "                linewidth=0.1, \n",
    "                edgecolor='white',\n",
    "                legend=True,\n",
    "                legend_kwds={'loc': 'center left', \n",
    "                             'bbox_to_anchor': (0.7, 0.6)},\n",
    "                ax=ax)\n",
    "# Remove axis\n",
    "ax.set_axis_off()\n",
    "# Display the map\n",
    "plt.show()"
   ]
  },
  {
   "cell_type": "code",
   "execution_count": null,
   "id": "b3cd2829",
   "metadata": {},
   "outputs": [],
   "source": [
    "# final update\n",
    "datadismap.to_file(os.path.join('maps',\"dataMapPeru.gpkg\"), layer='distritos', driver=\"GPKG\")"
   ]
  },
  {
   "cell_type": "markdown",
   "id": "9fe389a6",
   "metadata": {},
   "source": [
    "### Exercise 7\n",
    "\n",
    "<div class=\"alert-success\">\n",
    "    \n",
    "1. Compute the Local Moran for the variables in your data that have significant spatial correlation.\n",
    "    \n",
    "2. Create a new column for each of those variables, with a label ('0 no_sig', '1 hotSpot', '2 coldOutlier', '3 coldSpot', '4 hotOutlier').\n",
    "\n",
    "3. Prepare a map for each of the variables analyzed, showing the spots and outliers.\n",
    "    \n",
    "</div>"
   ]
  },
  {
   "cell_type": "code",
   "execution_count": null,
   "id": "8f02d3ce",
   "metadata": {},
   "outputs": [],
   "source": []
  }
 ],
 "metadata": {
  "hide_input": false,
  "kernelspec": {
   "display_name": "Python 3 (ipykernel)",
   "language": "python",
   "name": "python3"
  },
  "language_info": {
   "codemirror_mode": {
    "name": "ipython",
    "version": 3
   },
   "file_extension": ".py",
   "mimetype": "text/x-python",
   "name": "python",
   "nbconvert_exporter": "python",
   "pygments_lexer": "ipython3",
   "version": "3.11.5"
  }
 },
 "nbformat": 4,
 "nbformat_minor": 5
}
