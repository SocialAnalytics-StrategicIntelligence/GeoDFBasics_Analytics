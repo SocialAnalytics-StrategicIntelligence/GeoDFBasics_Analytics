{
 "cells": [
  {
   "cell_type": "markdown",
   "id": "044daaf5",
   "metadata": {},
   "source": [
    "<img src=\"https://i.imgur.com/6U6q5jQ.png\"/>\n",
    "\n",
    "_____\n",
    "\n",
    "# Analytics on GeodataFrames\n",
    " \n",
    "\n",
    "Let's read the data in:"
   ]
  },
  {
   "cell_type": "code",
   "execution_count": null,
   "id": "a31450dc",
   "metadata": {},
   "outputs": [],
   "source": [
    "# data table\n",
    "import pandas as pd\n",
    "linkData=\"https://github.com/SocialAnalytics-StrategicIntelligence/OrganizeExploreAndQuery/raw/main/dataFiles/dengue_ok.pkl\"\n",
    "dengue = pd.read_pickle(linkData)\n",
    "dengue.info()"
   ]
  },
  {
   "cell_type": "code",
   "execution_count": null,
   "id": "e0a4a89d-8f54-46b3-891f-0b9f391a5719",
   "metadata": {},
   "outputs": [],
   "source": [
    "#check\n",
    "dengue.head()"
   ]
  },
  {
   "cell_type": "code",
   "execution_count": null,
   "id": "a5999da7-6fbb-44c7-9b81-4f50f2adebd0",
   "metadata": {},
   "outputs": [],
   "source": [
    "# years in data\n",
    "dengue.ano.value_counts()"
   ]
  },
  {
   "cell_type": "markdown",
   "id": "3d1ef4d7",
   "metadata": {},
   "source": [
    "Let's subset:"
   ]
  },
  {
   "cell_type": "code",
   "execution_count": null,
   "id": "abc1ed04",
   "metadata": {},
   "outputs": [],
   "source": [
    "dengue=dengue[dengue.ano>=2012]"
   ]
  },
  {
   "cell_type": "markdown",
   "id": "cb02873c",
   "metadata": {},
   "source": [
    "We have dengue by level:"
   ]
  },
  {
   "cell_type": "code",
   "execution_count": null,
   "id": "5bf43c02-1117-478d-a332-a8630b79b9ee",
   "metadata": {},
   "outputs": [],
   "source": [
    "dengue.enfermedad.value_counts()"
   ]
  },
  {
   "cell_type": "markdown",
   "id": "e7edc22f",
   "metadata": {},
   "source": [
    "Keeping some:"
   ]
  },
  {
   "cell_type": "code",
   "execution_count": null,
   "id": "582d9b82-241f-4813-911b-340c64b3f066",
   "metadata": {},
   "outputs": [],
   "source": [
    "dengue_alarma=dengue[dengue.enfermedad!='GRAVE']\n",
    "\n",
    "dengue_alarma.head()"
   ]
  },
  {
   "cell_type": "markdown",
   "id": "2126e732",
   "metadata": {},
   "source": [
    "## Reshaping to Long\n",
    "\n",
    "People per level, by distrit by year:"
   ]
  },
  {
   "cell_type": "code",
   "execution_count": null,
   "id": "5182331a-080a-4858-a59f-1f1378dc4ad6",
   "metadata": {},
   "outputs": [],
   "source": [
    "indexList=['ano','departamento','provincia','enfermedad']\n",
    "aggregator={'enfermedad':[len]}\n",
    "dengue_provYear=dengue_alarma.groupby(indexList,observed=True).agg(aggregator)\n",
    "dengue_provYear"
   ]
  },
  {
   "cell_type": "markdown",
   "id": "d5de3187",
   "metadata": {},
   "source": [
    "Sending the counts to wide columns:"
   ]
  },
  {
   "cell_type": "code",
   "execution_count": null,
   "id": "11434ff3-d3fc-41d3-bdd4-bdb350b46bf0",
   "metadata": {},
   "outputs": [],
   "source": [
    "dengueDraft=dengue_provYear.unstack(3).fillna(0) #leftmost index in rows\n",
    "dengueDraft"
   ]
  },
  {
   "cell_type": "markdown",
   "id": "b571a030",
   "metadata": {},
   "source": [
    "Computing share of dengue, level 'alarm':"
   ]
  },
  {
   "cell_type": "code",
   "execution_count": null,
   "id": "d5263d5c-f1b1-454c-b264-8fb9d50b17bc",
   "metadata": {},
   "outputs": [],
   "source": [
    "dengueDraft['ALARMA_pct']=dengueDraft.iloc[:,1]/(dengueDraft.iloc[:,0] + dengueDraft.iloc[:,1])\n",
    "dengue_provYear_Alarm_w=dengueDraft['ALARMA_pct'].unstack('ano').fillna(0)\n",
    "dengue_provYear_Alarm_w"
   ]
  },
  {
   "cell_type": "markdown",
   "id": "26f868bb",
   "metadata": {},
   "source": [
    "Notice the data type:"
   ]
  },
  {
   "cell_type": "code",
   "execution_count": null,
   "id": "f90f1042-efda-4071-b8ce-00c7ba8dfc2f",
   "metadata": {},
   "outputs": [],
   "source": [
    "dengue_provYear_Alarm_w.columns"
   ]
  },
  {
   "cell_type": "markdown",
   "id": "f811dfbe",
   "metadata": {},
   "source": [
    "We should have text not numbers:"
   ]
  },
  {
   "cell_type": "code",
   "execution_count": null,
   "id": "1f9041a0-7ea7-47b6-b4bf-3f9a0ba6b620",
   "metadata": {},
   "outputs": [],
   "source": [
    "dengue_provYear_Alarm_w.columns=['year'+str(x) for x in dengue_provYear_Alarm_w.columns]"
   ]
  },
  {
   "cell_type": "code",
   "execution_count": null,
   "id": "32c27bcb-9ce5-41ff-ba0b-8616ec2c5989",
   "metadata": {},
   "outputs": [],
   "source": [
    "# then\n",
    "dengue_provYear_Alarm_w"
   ]
  },
  {
   "cell_type": "code",
   "execution_count": null,
   "id": "0e6326cc-2e33-4c3d-9985-bfc955fd63c1",
   "metadata": {},
   "outputs": [],
   "source": [
    "# as usual\n",
    "dengue_provYear_Alarm_w.reset_index(inplace=True)\n",
    "dengue_provYear_Alarm_w"
   ]
  },
  {
   "cell_type": "markdown",
   "id": "75d02ac9",
   "metadata": {},
   "source": [
    "Let's call a map:"
   ]
  },
  {
   "cell_type": "code",
   "execution_count": null,
   "id": "cba44f1e-7ba4-41be-aa74-8300c6d5ded0",
   "metadata": {},
   "outputs": [],
   "source": [
    "mapLink='https://github.com/SocialAnalytics-StrategicIntelligence/GeoDF_Analytics/raw/main/maps/ProvsINEI2023.zip'\n",
    "\n",
    "import geopandas as gpd\n",
    "\n",
    "provmap=gpd.read_file(mapLink)\n",
    "\n",
    "provmap.info()"
   ]
  },
  {
   "cell_type": "markdown",
   "id": "dd64a4c7",
   "metadata": {},
   "source": [
    "Let me create a column, concatenating two:"
   ]
  },
  {
   "cell_type": "code",
   "execution_count": null,
   "id": "e394243f-9e5c-4cae-a899-c593da1736dd",
   "metadata": {},
   "outputs": [],
   "source": [
    "provmap['location']=['+'.join(x[0]) for x in zip(provmap.iloc[:,3:5].values)]\n",
    "provmap.head(10)"
   ]
  },
  {
   "cell_type": "markdown",
   "id": "38f12dc4",
   "metadata": {},
   "source": [
    "I will do the same with the data frame:"
   ]
  },
  {
   "cell_type": "code",
   "execution_count": null,
   "id": "022746a0-e0a9-42ba-949f-3e5269d503ea",
   "metadata": {},
   "outputs": [],
   "source": [
    "dengue_provYear_Alarm_w['location']=['+'.join(x[0]) for x in zip(dengue_provYear_Alarm_w.iloc[:,:2].values)]\n",
    "dengue_provYear_Alarm_w.head()"
   ]
  },
  {
   "cell_type": "markdown",
   "id": "a1294312",
   "metadata": {},
   "source": [
    "## Preprocessing\n",
    "\n"
   ]
  },
  {
   "cell_type": "markdown",
   "id": "9f85ce45",
   "metadata": {},
   "source": [
    "The names from non-english speaking countries may come with some symbols that may cause trouble (', ~). Let's get rid of those:"
   ]
  },
  {
   "cell_type": "code",
   "execution_count": null,
   "id": "16981570",
   "metadata": {},
   "outputs": [],
   "source": [
    "import unidecode\n",
    "\n",
    "\n",
    "byePunctuation=lambda x: unidecode.unidecode(x)\n",
    "dengue_provYear_Alarm_w['location']=dengue_provYear_Alarm_w['location'].apply(byePunctuation)\n",
    "provmap['location']=provmap['location'].apply(byePunctuation)"
   ]
  },
  {
   "cell_type": "markdown",
   "id": "45a93252",
   "metadata": {},
   "source": [
    "It would be good making sure no *ghost* appears between words:"
   ]
  },
  {
   "cell_type": "code",
   "execution_count": null,
   "id": "47cdc538",
   "metadata": {},
   "outputs": [],
   "source": [
    "# replacing dashes and multiple spaces by a simple space\n",
    "dengue_provYear_Alarm_w['location']=dengue_provYear_Alarm_w.location.str.replace(\"\\-|\\_|\\s+\",\"\",regex=True)\n",
    "provmap['location']=provmap.location.str.replace(\"\\-|\\_|\\s+\",\"\",regex=True)"
   ]
  },
  {
   "cell_type": "markdown",
   "id": "5406417d",
   "metadata": {},
   "source": [
    "## Merging\n",
    "\n",
    "We need to merge both tables now. That can happen effectively if both tables have a **key** column: a column (or collection of them) whose values in one table are the same in the other one.\n",
    "\n",
    "The match need not be exact, but only common values in the *key* are merged.\n",
    "\n",
    "Let's find out what is NOT matched in each table:"
   ]
  },
  {
   "cell_type": "code",
   "execution_count": null,
   "id": "793335e5",
   "metadata": {},
   "outputs": [],
   "source": [
    "nomatch_df=set(dengue_provYear_Alarm_w.location)- set(provmap.location)\n",
    "nomatch_gdf=set(provmap.location)-set(dengue_provYear_Alarm_w.location) "
   ]
  },
  {
   "cell_type": "markdown",
   "id": "a849b640",
   "metadata": {},
   "source": [
    "This is what could not be matched:"
   ]
  },
  {
   "cell_type": "code",
   "execution_count": null,
   "id": "ada23390",
   "metadata": {},
   "outputs": [],
   "source": [
    "len(nomatch_df), len(nomatch_gdf)"
   ]
  },
  {
   "cell_type": "markdown",
   "id": "261c4a60",
   "metadata": {},
   "source": [
    "The right way to go is using **fuzzy merging** (remember we need  _the fuzz_):"
   ]
  },
  {
   "cell_type": "code",
   "execution_count": null,
   "id": "d761c590",
   "metadata": {},
   "outputs": [],
   "source": [
    "# pick the closest match from nomatch_gdf for a value in nomatch_df\n",
    "from thefuzz import process\n",
    "[(dis,process.extractOne(dis,nomatch_gdf)) for dis in sorted(nomatch_df)]"
   ]
  },
  {
   "cell_type": "markdown",
   "id": "6b462ab3",
   "metadata": {},
   "source": [
    "If you are comfortable, you prepare a _dictionary_ of changes:"
   ]
  },
  {
   "cell_type": "code",
   "execution_count": null,
   "id": "4dac522f",
   "metadata": {},
   "outputs": [],
   "source": [
    "# is this OK?\n",
    "{dis:process.extractOne(dis,nomatch_gdf)[0] for dis in sorted(nomatch_df)}"
   ]
  },
  {
   "cell_type": "code",
   "execution_count": null,
   "id": "e872d7ca",
   "metadata": {},
   "outputs": [],
   "source": [
    "# then:\n",
    "changesinDF={dis:process.extractOne(dis,nomatch_gdf)[0] for dis in sorted(nomatch_df)}"
   ]
  },
  {
   "cell_type": "markdown",
   "id": "940be9cd",
   "metadata": {},
   "source": [
    "Now, make the replacements:"
   ]
  },
  {
   "cell_type": "code",
   "execution_count": null,
   "id": "9fb1d131-12ee-40cd-99f6-8ab505abae96",
   "metadata": {},
   "outputs": [],
   "source": [
    "dengue_provYear_Alarm_w.replace({'location': changesinDF}, inplace=True)"
   ]
  },
  {
   "cell_type": "markdown",
   "id": "20c8dd26",
   "metadata": {},
   "source": [
    "Is it over?"
   ]
  },
  {
   "cell_type": "code",
   "execution_count": null,
   "id": "dc576d65-2d77-44dd-9c4c-0ef43b5ebe38",
   "metadata": {},
   "outputs": [],
   "source": [
    "nomatch_df=set(dengue_provYear_Alarm_w.location)- set(provmap.location)\n",
    "nomatch_gdf=set(provmap.location)-set(dengue_provYear_Alarm_w.location) \n",
    "\n",
    "[(dis,process.extractOne(dis,nomatch_gdf)) for dis in sorted(nomatch_df)]"
   ]
  },
  {
   "cell_type": "markdown",
   "id": "0bd65363",
   "metadata": {},
   "source": [
    "Now the merge can happen:"
   ]
  },
  {
   "cell_type": "code",
   "execution_count": null,
   "id": "b1d3b077",
   "metadata": {},
   "outputs": [],
   "source": [
    "dengue_provYear_Alarm_map=provmap.merge(dengue_provYear_Alarm_w, on='location',how='left',indicator='flag')"
   ]
  },
  {
   "cell_type": "code",
   "execution_count": null,
   "id": "fe40f603",
   "metadata": {},
   "outputs": [],
   "source": [
    "# check\n",
    "dengue_provYear_Alarm_map.info()"
   ]
  },
  {
   "cell_type": "code",
   "execution_count": null,
   "id": "0ab06d8c-aafb-46a5-a3e1-5b41eb3741c8",
   "metadata": {},
   "outputs": [],
   "source": [
    "# avoid poblems with fillna() \n",
    "dengue_provYear_Alarm_map['flag']=dengue_provYear_Alarm_map.flag.astype(str)"
   ]
  },
  {
   "cell_type": "markdown",
   "id": "4142c0b7",
   "metadata": {},
   "source": [
    "We can get rid of some columns:"
   ]
  },
  {
   "cell_type": "code",
   "execution_count": null,
   "id": "ee2e517b",
   "metadata": {},
   "outputs": [],
   "source": [
    "bye=['departamento', 'provincia', 'CCPP','CCDD']\n",
    "dengue_provYear_Alarm_map.drop(columns=bye,inplace=True)\n",
    "\n",
    "# keeping\n",
    "dengue_provYear_Alarm_map.head()"
   ]
  },
  {
   "cell_type": "code",
   "execution_count": null,
   "id": "45e4fffd-c40e-44a4-8861-7d777943f522",
   "metadata": {},
   "outputs": [],
   "source": [
    "# filling with zeroes\n",
    "dengue_provYear_Alarm_map.fillna(0,inplace=True)"
   ]
  },
  {
   "cell_type": "markdown",
   "id": "a2ff93fc",
   "metadata": {},
   "source": [
    "We can save this geoDF:"
   ]
  },
  {
   "cell_type": "code",
   "execution_count": null,
   "id": "83c97517",
   "metadata": {},
   "outputs": [],
   "source": [
    "import os\n",
    "dengue_provYear_Alarm_map.to_file(os.path.join('maps',\"provinciasPeru.gpkg\"), layer='provinciasDengue', driver=\"GPKG\")"
   ]
  },
  {
   "cell_type": "markdown",
   "id": "7b518c79",
   "metadata": {},
   "source": [
    "## Exploring one variable\n",
    "\n",
    "This time, we explore statistically one variable in the map:"
   ]
  },
  {
   "cell_type": "code",
   "execution_count": null,
   "id": "dbd7ca6a",
   "metadata": {},
   "outputs": [],
   "source": [
    "# statistics\n",
    "dengue_provYear_Alarm_map.year2022.describe()"
   ]
  },
  {
   "cell_type": "markdown",
   "id": "26e6f260",
   "metadata": {},
   "source": [
    "A visual look:"
   ]
  },
  {
   "cell_type": "code",
   "execution_count": null,
   "id": "0b47a7e5",
   "metadata": {},
   "outputs": [],
   "source": [
    "import seaborn as sea\n",
    "\n",
    "sea.boxplot(dengue_provYear_Alarm_map.year2022, color='yellow',orient='h')"
   ]
  },
  {
   "cell_type": "code",
   "execution_count": null,
   "id": "051f0685-8175-43f8-b31f-40c804ce39ea",
   "metadata": {},
   "outputs": [],
   "source": [
    "\n",
    "from sklearn.preprocessing import QuantileTransformer\n",
    "qt = QuantileTransformer(n_quantiles=100, random_state=0,output_distribution='normal')\n",
    "qt_result=qt.fit_transform(dengue_provYear_Alarm_map[['year2022']])\n",
    "sea.boxplot(qt_result, color='yellow',orient='h')"
   ]
  },
  {
   "cell_type": "code",
   "execution_count": null,
   "id": "f27262d0-1ed7-449c-99cf-818c679a3b3f",
   "metadata": {},
   "outputs": [],
   "source": [
    "dengue_provYear_Alarm_map['year_2022_qt']=qt_result"
   ]
  },
  {
   "cell_type": "markdown",
   "id": "87708d4e",
   "metadata": {},
   "source": [
    "## Spatial Correlation\n",
    "\n",
    "### Neighboorhood\n",
    "\n",
    "We can compute the neighborhood in a map using different algorithms:"
   ]
  },
  {
   "cell_type": "code",
   "execution_count": null,
   "id": "a0152188",
   "metadata": {},
   "outputs": [],
   "source": [
    "from libpysal.weights import Queen, Rook, KNN\n",
    "\n",
    "# rook\n",
    "\n",
    "w_rook = Rook.from_dataframe(dengue_provYear_Alarm_map,use_index=False) "
   ]
  },
  {
   "cell_type": "code",
   "execution_count": null,
   "id": "282be4af",
   "metadata": {},
   "outputs": [],
   "source": [
    "# rook\n",
    "w_queen = Queen.from_dataframe(dengue_provYear_Alarm_map,use_index=False)"
   ]
  },
  {
   "cell_type": "code",
   "execution_count": null,
   "id": "008f5e05",
   "metadata": {},
   "outputs": [],
   "source": [
    "# k nearest neighbors\n",
    "w_knn = KNN.from_dataframe(dengue_provYear_Alarm_map, k=8)"
   ]
  },
  {
   "cell_type": "markdown",
   "id": "92c7c94a",
   "metadata": {},
   "source": [
    "Let's understand the differences:"
   ]
  },
  {
   "cell_type": "code",
   "execution_count": null,
   "id": "d3df1a3e",
   "metadata": {},
   "outputs": [],
   "source": [
    "# first one\n",
    "dengue_provYear_Alarm_map.head(1)"
   ]
  },
  {
   "cell_type": "code",
   "execution_count": null,
   "id": "9cd010e7",
   "metadata": {},
   "outputs": [],
   "source": [
    "# amount neighbors of that district\n",
    "w_rook.neighbors[0] "
   ]
  },
  {
   "cell_type": "code",
   "execution_count": null,
   "id": "fe8d9e8b",
   "metadata": {},
   "outputs": [],
   "source": [
    "# see\n",
    "base=dengue_provYear_Alarm_map[dengue_provYear_Alarm_map.PROVINCIA==\"CHACHAPOYAS\"].plot()\n",
    "dengue_provYear_Alarm_map.iloc[w_rook.neighbors[0] ,].plot(ax=base,facecolor=\"yellow\",edgecolor='k')\n",
    "dengue_provYear_Alarm_map.head(1).plot(ax=base,facecolor=\"red\")"
   ]
  },
  {
   "cell_type": "markdown",
   "id": "8dee5594",
   "metadata": {},
   "source": [
    "Let's do the same:"
   ]
  },
  {
   "cell_type": "code",
   "execution_count": null,
   "id": "39a94ad6",
   "metadata": {},
   "outputs": [],
   "source": [
    "w_queen.neighbors[0]"
   ]
  },
  {
   "cell_type": "code",
   "execution_count": null,
   "id": "959642c7",
   "metadata": {},
   "outputs": [],
   "source": [
    "base=dengue_provYear_Alarm_map[dengue_provYear_Alarm_map.PROVINCIA==\"CHACHAPOYAS\"].plot()\n",
    "dengue_provYear_Alarm_map.iloc[w_queen.neighbors[0] ,].plot(ax=base,facecolor=\"yellow\",edgecolor='k')\n",
    "dengue_provYear_Alarm_map.head(1).plot(ax=base,facecolor=\"red\")"
   ]
  },
  {
   "cell_type": "code",
   "execution_count": null,
   "id": "eeaf1e44",
   "metadata": {},
   "outputs": [],
   "source": [
    "w_knn.neighbors[0]"
   ]
  },
  {
   "cell_type": "code",
   "execution_count": null,
   "id": "6143d69a",
   "metadata": {},
   "outputs": [],
   "source": [
    "base=dengue_provYear_Alarm_map[dengue_provYear_Alarm_map.PROVINCIA==\"CHACHAPOYAS\"].plot()\n",
    "dengue_provYear_Alarm_map.iloc[w_knn.neighbors[0] ,].plot(ax=base,facecolor=\"yellow\",edgecolor='k')\n",
    "dengue_provYear_Alarm_map.head(1).plot(ax=base,facecolor=\"red\")"
   ]
  },
  {
   "cell_type": "markdown",
   "id": "a96c4f9d",
   "metadata": {},
   "source": [
    "Let me pay attention to the queen results:"
   ]
  },
  {
   "cell_type": "code",
   "execution_count": null,
   "id": "743d91c6",
   "metadata": {},
   "outputs": [],
   "source": [
    "# all the neighbors by row\n",
    "w_queen.neighbors"
   ]
  },
  {
   "cell_type": "code",
   "execution_count": null,
   "id": "31f7bf1a",
   "metadata": {},
   "outputs": [],
   "source": [
    "# the matrix of neighboorhood:\n",
    "\n",
    "pd.DataFrame(*w_queen.full()).astype(int) # 1 means both are neighbors"
   ]
  },
  {
   "cell_type": "code",
   "execution_count": null,
   "id": "b4395652",
   "metadata": {},
   "outputs": [],
   "source": [
    "# pct of neighboorhood (density)\n",
    "w_queen.pct_nonzero"
   ]
  },
  {
   "cell_type": "code",
   "execution_count": null,
   "id": "48e318d9",
   "metadata": {},
   "outputs": [],
   "source": [
    "# a province with NO neighbor?\n",
    "w_queen.islands"
   ]
  },
  {
   "cell_type": "markdown",
   "id": "28192fdf",
   "metadata": {},
   "source": [
    "## Moran's correlation\n",
    "\n",
    "We need the neighboorhood matrix (the weight matrix) to compute spatial correlation: if the variable value is correlated with the values of its neighbors - which proves a spatial effect."
   ]
  },
  {
   "cell_type": "code",
   "execution_count": null,
   "id": "2ea5e43d",
   "metadata": {},
   "outputs": [],
   "source": [
    "# needed for spatial correlation\n",
    "w_queen.transform = 'R'"
   ]
  },
  {
   "cell_type": "code",
   "execution_count": null,
   "id": "1c41c6b0",
   "metadata": {},
   "outputs": [],
   "source": [
    "pd.DataFrame(*w_queen.full()).sum(axis=1) # 1 means both are neighbors"
   ]
  },
  {
   "cell_type": "markdown",
   "id": "91941edd",
   "metadata": {},
   "source": [
    "Spatial correlation is measured by the Moran's I statistic:"
   ]
  },
  {
   "cell_type": "code",
   "execution_count": null,
   "id": "003d47cb",
   "metadata": {},
   "outputs": [],
   "source": [
    "from esda.moran import Moran\n",
    "\n",
    "moranDENGUE = Moran(dengue_provYear_Alarm_map['year_2022_qt'], w_queen)\n",
    "moranDENGUE.I,moranDENGUE.p_sim"
   ]
  },
  {
   "cell_type": "markdown",
   "id": "7b80540e",
   "metadata": {},
   "source": [
    "The Moran's I is significant. Let's see:"
   ]
  },
  {
   "cell_type": "code",
   "execution_count": null,
   "id": "e950f7fd",
   "metadata": {},
   "outputs": [],
   "source": [
    "from splot.esda import moran_scatterplot\n",
    "import matplotlib.pyplot as plt\n",
    "\n",
    "fig, ax = moran_scatterplot(moranDENGUE)\n",
    "ax.set_xlabel('Dengue_alarma_share')\n",
    "ax.set_ylabel('SpatialLag_Dengue_alarma_share')\n"
   ]
  },
  {
   "cell_type": "markdown",
   "id": "196148f8",
   "metadata": {},
   "source": [
    "### Local Spatial Correlation\n",
    "\n",
    "We can compute a LISA (local Moran) for each case. That will help us find spatial clusters (spots) and spatial outliers:\n",
    "\n",
    "* A **hotSpot** is a polygon whose value in the variable is high AND is surrounded with polygons with also high values.\n",
    "\n",
    "* A **coldSpot** is a polygon whose value in the variable is low AND is surrounded with polygons with also low values.\n",
    "\n",
    "* A **coldOutlier** is a polygon whose value in the variable is low BUT is surrounded with polygons with  high values.\n",
    "\n",
    "* A **hotOutlier** is a polygon whose value in the variable is high BUT is surrounded with polygons with  low values.\n",
    "\n",
    "It is also possible that no significant correlation is detected. Let's see those values:"
   ]
  },
  {
   "cell_type": "code",
   "execution_count": null,
   "id": "36c6117d",
   "metadata": {},
   "outputs": [],
   "source": [
    "# The scatterplot with local info\n",
    "\n",
    "from esda.moran import Moran_Local\n",
    "\n",
    "# calculate Moran_Local and plot\n",
    "lisaDENGUE = Moran_Local(y=dengue_provYear_Alarm_map['year_2022_qt'], w=w_knn,seed=2022)\n",
    "fig, ax = moran_scatterplot(lisaDENGUE,p=0.05)\n",
    "ax.set_xlabel('Dengue_alarma_share')\n",
    "ax.set_ylabel('SpatialLag_Dengue_alarma_share');\n"
   ]
  },
  {
   "cell_type": "code",
   "execution_count": null,
   "id": "9126d85d",
   "metadata": {},
   "outputs": [],
   "source": [
    "from splot.esda import plot_local_autocorrelation\n",
    "plot_local_autocorrelation(lisaDENGUE, dengue_provYear_Alarm_map,'year_2022_qt')\n",
    "plt.show()"
   ]
  },
  {
   "cell_type": "code",
   "execution_count": null,
   "id": "44d1fb80",
   "metadata": {},
   "outputs": [],
   "source": [
    "# the map with the spots and outliers\n",
    "\n",
    "from splot.esda import lisa_cluster\n",
    "f, ax = plt.subplots(1, figsize=(12, 12))\n",
    "plt.title('Spots and Outliers')\n",
    "fig = lisa_cluster(lisaDENGUE, \n",
    "                   dengue_provYear_Alarm_map,ax=ax,\n",
    "                   legend_kwds={'loc': 'center left', \n",
    "                                'bbox_to_anchor': (0.7, 0.6)})"
   ]
  },
  {
   "cell_type": "markdown",
   "id": "3c8d157e",
   "metadata": {},
   "source": [
    "Let me add that data to my gdf:"
   ]
  },
  {
   "cell_type": "code",
   "execution_count": null,
   "id": "b67766a8",
   "metadata": {},
   "outputs": [],
   "source": [
    "# quadrant\n",
    "lisaDENGUE.q"
   ]
  },
  {
   "cell_type": "code",
   "execution_count": null,
   "id": "df8949df",
   "metadata": {},
   "outputs": [],
   "source": [
    "# significance\n",
    "lisaDENGUE.p_sim"
   ]
  },
  {
   "cell_type": "code",
   "execution_count": null,
   "id": "8a07011f",
   "metadata": {},
   "outputs": [],
   "source": [
    "# quadrant: 1 HH,  2 LH,  3 LL,  4 HL\n",
    "pd.Series(lisaDENGUE.q).value_counts()"
   ]
  },
  {
   "cell_type": "markdown",
   "id": "79c4c66f",
   "metadata": {},
   "source": [
    "The info in **lisaDENGUE.q** can not be used right away, we need to add if the local spatial correlation is significant:"
   ]
  },
  {
   "cell_type": "code",
   "execution_count": null,
   "id": "2e2977e6",
   "metadata": {},
   "outputs": [],
   "source": [
    "dengue_provYear_Alarm_map['DENGUE_quadrant']=[l if p <0.05 else 0 for l,p in zip(lisaDENGUE.q,lisaDENGUE.p_sim)  ]\n",
    "dengue_provYear_Alarm_map['DENGUE_quadrant'].value_counts()"
   ]
  },
  {
   "cell_type": "markdown",
   "id": "f327eb6f",
   "metadata": {},
   "source": [
    "Now, we recode:"
   ]
  },
  {
   "cell_type": "code",
   "execution_count": null,
   "id": "4fd49705",
   "metadata": {},
   "outputs": [],
   "source": [
    "labels = [ '0 no_sig', '1 hotSpot', '2 coldOutlier', '3 coldSpot', '4 hotOutlier']\n",
    "\n",
    "dengue_provYear_Alarm_map['DENGUE_quadrant_names']=[labels[i] for i in dengue_provYear_Alarm_map['DENGUE_quadrant']]\n",
    "\n",
    "dengue_provYear_Alarm_map['DENGUE_quadrant_names'].value_counts()\n",
    "                                  "
   ]
  },
  {
   "cell_type": "markdown",
   "id": "0b662813",
   "metadata": {},
   "source": [
    "Let's replot:"
   ]
  },
  {
   "cell_type": "code",
   "execution_count": null,
   "id": "30bad5df",
   "metadata": {},
   "outputs": [],
   "source": [
    "from matplotlib import colors\n",
    "myColMap = colors.ListedColormap([ 'ghostwhite', 'red', 'green', 'black','orange'])\n",
    "\n",
    "\n",
    "\n",
    "\n",
    "f, ax = plt.subplots(1, figsize=(12,12))\n",
    "\n",
    "\n",
    "plt.title('Spots and Outliers')\n",
    "\n",
    "dengue_provYear_Alarm_map.plot(column='DENGUE_quadrant_names', \n",
    "                categorical=True,\n",
    "                cmap=myColMap,\n",
    "                linewidth=0.1, \n",
    "                edgecolor='white',\n",
    "                legend=True,\n",
    "                legend_kwds={'loc': 'center left', \n",
    "                             'bbox_to_anchor': (0.7, 0.6)},\n",
    "                ax=ax)\n",
    "# Remove axis\n",
    "ax.set_axis_off()\n",
    "# Display the map\n",
    "plt.show()"
   ]
  },
  {
   "cell_type": "code",
   "execution_count": null,
   "id": "891df8b1-4902-42d4-b859-1bcb4d2f259f",
   "metadata": {},
   "outputs": [],
   "source": [
    "dengue_provYear_Alarm_map.explore(\"DENGUE_quadrant_names\", categorical=True,tooltip='location',cmap=myColMap)"
   ]
  },
  {
   "cell_type": "code",
   "execution_count": null,
   "id": "f36dcf59-b630-4506-8186-eb4959722458",
   "metadata": {},
   "outputs": [],
   "source": [
    "import folium\n",
    "\n",
    "map1=dengue_provYear_Alarm_map[dengue_provYear_Alarm_map.DENGUE_quadrant_names=='1 hotSpot']\n",
    "map2=dengue_provYear_Alarm_map[dengue_provYear_Alarm_map.DENGUE_quadrant_names=='2 coldOutlier']\n",
    "map3=dengue_provYear_Alarm_map[dengue_provYear_Alarm_map.DENGUE_quadrant_names=='3 coldSpot']\n",
    "map4=dengue_provYear_Alarm_map[dengue_provYear_Alarm_map.DENGUE_quadrant_names=='4 hotOutlier']\n",
    "\n",
    "m = map1.explore(\n",
    "    color=\"red\",  \n",
    "    tooltip=False,  # hide tooltip\n",
    "    popup=[\"location\"],  # (on-click)\n",
    "    name=\"hotSpot\"  # name of the layer in the map\n",
    ")\n",
    "\n",
    "map2.explore(\n",
    "    m=m, # notice\n",
    "    color=\"green\",  \n",
    "    tooltip=False,  \n",
    "    popup=[\"location\"],\n",
    "    name=\"coldOutlier\"\n",
    ")\n",
    "\n",
    "map3.explore(\n",
    "    m=m,\n",
    "    color=\"black\",  \n",
    "    tooltip=False,  \n",
    "    popup=[\"location\"],\n",
    "    name=\"coldSpot\", \n",
    ")\n",
    "\n",
    "map4.explore(\n",
    "    m=m,\n",
    "    color=\"orange\", \n",
    "    tooltip=False,  \n",
    "    popup=[\"location\"],\n",
    "    name=\"hotOutlier\", \n",
    ")\n",
    "\n",
    "folium.TileLayer(\"CartoDB positron\", show=False).add_to(m)  # use folium to add alternative tiles\n",
    "folium.LayerControl(collapsed=True).add_to(m)  # use folium to add layer control\n",
    "\n",
    "m  # show map"
   ]
  },
  {
   "cell_type": "markdown",
   "id": "14195e15",
   "metadata": {},
   "source": [
    "## Bivariate LISA"
   ]
  },
  {
   "cell_type": "code",
   "execution_count": null,
   "id": "67a6ce18",
   "metadata": {},
   "outputs": [],
   "source": [
    "#from esda.moran import Moran_BV, Moran_Local_BV\n",
    "from esda.moran import Moran_BV\n",
    "\n",
    "mbi = Moran_BV(dengue_provYear_Alarm_map['year2021'],  dengue_provYear_Alarm_map['year2022'],  w_queen)\n",
    "mbi.I,mbi.p_sim"
   ]
  },
  {
   "cell_type": "code",
   "execution_count": null,
   "id": "3e5e3551",
   "metadata": {},
   "outputs": [],
   "source": [
    "# The scatterplot with local info\n",
    "from esda.moran import Moran_Local_BV\n",
    "\n",
    "# calculate Moran_Local and plot\n",
    "lisaDENGUE_bv = Moran_Local_BV(y=dengue_provYear_Alarm_map['year2021'],\n",
    "                               x=dengue_provYear_Alarm_map['year2022'],\n",
    "                               w=w_queen)\n",
    "\n",
    "fig, ax = moran_scatterplot(lisaDENGUE_bv, p=0.05,aspect_equal=True)\n",
    "\n",
    "ax.set_xlabel('Dengue_2022')\n",
    "ax.set_ylabel('SpatialLag_Dengue_2021')\n",
    "plt.show()"
   ]
  },
  {
   "cell_type": "code",
   "execution_count": null,
   "id": "d7e74e82",
   "metadata": {},
   "outputs": [],
   "source": [
    "dengue_provYear_Alarm_map['DENGUE_quadrant_21_22']=[l if p <0.05 else 0 for l,p in zip(lisaDENGUE_bv.q,lisaDENGUE_bv.p_sim)  ]\n",
    "\n",
    "labels = [ '0 no_sig', '1 hotSpot', '2 coldOutlier', '3 coldSpot', '4 hotOutlier']\n",
    "\n",
    "dengue_provYear_Alarm_map['DENGUE_quadrant_21_22_names']=[labels[i] for i in dengue_provYear_Alarm_map['DENGUE_quadrant_21_22']]\n",
    "                                 "
   ]
  },
  {
   "cell_type": "code",
   "execution_count": null,
   "id": "042743f0",
   "metadata": {},
   "outputs": [],
   "source": [
    "# see new columns\n",
    "dengue_provYear_Alarm_map"
   ]
  },
  {
   "cell_type": "code",
   "execution_count": null,
   "id": "c0f5e3f9",
   "metadata": {},
   "outputs": [],
   "source": [
    "from matplotlib import colors\n",
    "myColMap = colors.ListedColormap([ 'ghostwhite', 'red', 'green', 'black','orange'])\n",
    "\n",
    "\n",
    "\n",
    "\n",
    "f, ax = plt.subplots(1, figsize=(12,12))\n",
    "\n",
    "\n",
    "plt.title('Spots and Outliers')\n",
    "\n",
    "dengue_provYear_Alarm_map.plot(column='DENGUE_quadrant_21_22_names', \n",
    "                categorical=True,\n",
    "                cmap=myColMap,\n",
    "                linewidth=0.1, \n",
    "                edgecolor='white',\n",
    "                legend=True,\n",
    "                legend_kwds={'loc': 'center left', \n",
    "                             'bbox_to_anchor': (0.7, 0.6)},\n",
    "                ax=ax)\n",
    "# Remove axis\n",
    "ax.set_axis_off()\n",
    "# Display the map\n",
    "plt.show()"
   ]
  },
  {
   "cell_type": "code",
   "execution_count": null,
   "id": "d351c3b4",
   "metadata": {},
   "outputs": [],
   "source": []
  }
 ],
 "metadata": {
  "hide_input": false,
  "kernelspec": {
   "display_name": "Python 3 (ipykernel)",
   "language": "python",
   "name": "python3"
  },
  "language_info": {
   "codemirror_mode": {
    "name": "ipython",
    "version": 3
   },
   "file_extension": ".py",
   "mimetype": "text/x-python",
   "name": "python",
   "nbconvert_exporter": "python",
   "pygments_lexer": "ipython3",
   "version": "3.11.0"
  }
 },
 "nbformat": 4,
 "nbformat_minor": 5
}
