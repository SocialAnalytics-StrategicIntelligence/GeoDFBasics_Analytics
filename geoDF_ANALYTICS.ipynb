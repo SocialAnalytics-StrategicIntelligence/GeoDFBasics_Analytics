{
 "cells": [
  {
   "cell_type": "markdown",
   "id": "044daaf5",
   "metadata": {},
   "source": [
    "<img src=\"https://i.imgur.com/6U6q5jQ.png\"/>\n",
    "\n",
    "_____\n",
    "\n",
    "# Analytics on GeodataFrames\n",
    " \n",
    "\n",
    "Let's read the data in:"
   ]
  },
  {
   "cell_type": "code",
   "execution_count": 1,
   "id": "a31450dc",
   "metadata": {},
   "outputs": [
    {
     "name": "stdout",
     "output_type": "stream",
     "text": [
      "<class 'pandas.core.frame.DataFrame'>\n",
      "RangeIndex: 398943 entries, 0 to 398942\n",
      "Data columns (total 9 columns):\n",
      " #   Column        Non-Null Count   Dtype         \n",
      "---  ------        --------------   -----         \n",
      " 0   departamento  398943 non-null  object        \n",
      " 1   provincia     398943 non-null  object        \n",
      " 2   distrito      398943 non-null  object        \n",
      " 3   ano           398943 non-null  int64         \n",
      " 4   semana        398943 non-null  int64         \n",
      " 5   sexo          398943 non-null  object        \n",
      " 6   edad          398943 non-null  int64         \n",
      " 7   enfermedad    398943 non-null  category      \n",
      " 8   year          398931 non-null  datetime64[ns]\n",
      "dtypes: category(1), datetime64[ns](1), int64(3), object(4)\n",
      "memory usage: 24.7+ MB\n"
     ]
    }
   ],
   "source": [
    "# data table\n",
    "import pandas as pd\n",
    "linkData=\"https://github.com/SocialAnalytics-StrategicIntelligence/OrganizeExploreAndQuery/raw/main/dataFiles/dengue_ok.pkl\"\n",
    "dengue = pd.read_pickle(linkData)\n",
    "dengue.info()"
   ]
  },
  {
   "cell_type": "code",
   "execution_count": 2,
   "id": "e0a4a89d-8f54-46b3-891f-0b9f391a5719",
   "metadata": {},
   "outputs": [
    {
     "data": {
      "text/html": [
       "<div>\n",
       "<style scoped>\n",
       "    .dataframe tbody tr th:only-of-type {\n",
       "        vertical-align: middle;\n",
       "    }\n",
       "\n",
       "    .dataframe tbody tr th {\n",
       "        vertical-align: top;\n",
       "    }\n",
       "\n",
       "    .dataframe thead th {\n",
       "        text-align: right;\n",
       "    }\n",
       "</style>\n",
       "<table border=\"1\" class=\"dataframe\">\n",
       "  <thead>\n",
       "    <tr style=\"text-align: right;\">\n",
       "      <th></th>\n",
       "      <th>departamento</th>\n",
       "      <th>provincia</th>\n",
       "      <th>distrito</th>\n",
       "      <th>ano</th>\n",
       "      <th>semana</th>\n",
       "      <th>sexo</th>\n",
       "      <th>edad</th>\n",
       "      <th>enfermedad</th>\n",
       "      <th>year</th>\n",
       "    </tr>\n",
       "  </thead>\n",
       "  <tbody>\n",
       "    <tr>\n",
       "      <th>0</th>\n",
       "      <td>HUANUCO</td>\n",
       "      <td>LEONCIO PRADO</td>\n",
       "      <td>LUYANDO</td>\n",
       "      <td>2000</td>\n",
       "      <td>47</td>\n",
       "      <td>M</td>\n",
       "      <td>9</td>\n",
       "      <td>SIN_SEÑALES</td>\n",
       "      <td>2000-01-01</td>\n",
       "    </tr>\n",
       "    <tr>\n",
       "      <th>1</th>\n",
       "      <td>HUANUCO</td>\n",
       "      <td>LEONCIO PRADO</td>\n",
       "      <td>LUYANDO</td>\n",
       "      <td>2000</td>\n",
       "      <td>40</td>\n",
       "      <td>F</td>\n",
       "      <td>18</td>\n",
       "      <td>SIN_SEÑALES</td>\n",
       "      <td>2000-01-01</td>\n",
       "    </tr>\n",
       "    <tr>\n",
       "      <th>2</th>\n",
       "      <td>HUANUCO</td>\n",
       "      <td>LEONCIO PRADO</td>\n",
       "      <td>JOSE CRESPO Y CASTILLO</td>\n",
       "      <td>2000</td>\n",
       "      <td>48</td>\n",
       "      <td>F</td>\n",
       "      <td>32</td>\n",
       "      <td>SIN_SEÑALES</td>\n",
       "      <td>2000-01-01</td>\n",
       "    </tr>\n",
       "    <tr>\n",
       "      <th>3</th>\n",
       "      <td>HUANUCO</td>\n",
       "      <td>LEONCIO PRADO</td>\n",
       "      <td>JOSE CRESPO Y CASTILLO</td>\n",
       "      <td>2000</td>\n",
       "      <td>37</td>\n",
       "      <td>F</td>\n",
       "      <td>40</td>\n",
       "      <td>SIN_SEÑALES</td>\n",
       "      <td>2000-01-01</td>\n",
       "    </tr>\n",
       "    <tr>\n",
       "      <th>4</th>\n",
       "      <td>HUANUCO</td>\n",
       "      <td>LEONCIO PRADO</td>\n",
       "      <td>MARIANO DAMASO BERAUN</td>\n",
       "      <td>2000</td>\n",
       "      <td>42</td>\n",
       "      <td>M</td>\n",
       "      <td>16</td>\n",
       "      <td>SIN_SEÑALES</td>\n",
       "      <td>2000-01-01</td>\n",
       "    </tr>\n",
       "  </tbody>\n",
       "</table>\n",
       "</div>"
      ],
      "text/plain": [
       "  departamento      provincia                distrito   ano  semana sexo  \\\n",
       "0      HUANUCO  LEONCIO PRADO                 LUYANDO  2000      47    M   \n",
       "1      HUANUCO  LEONCIO PRADO                 LUYANDO  2000      40    F   \n",
       "2      HUANUCO  LEONCIO PRADO  JOSE CRESPO Y CASTILLO  2000      48    F   \n",
       "3      HUANUCO  LEONCIO PRADO  JOSE CRESPO Y CASTILLO  2000      37    F   \n",
       "4      HUANUCO  LEONCIO PRADO   MARIANO DAMASO BERAUN  2000      42    M   \n",
       "\n",
       "   edad   enfermedad       year  \n",
       "0     9  SIN_SEÑALES 2000-01-01  \n",
       "1    18  SIN_SEÑALES 2000-01-01  \n",
       "2    32  SIN_SEÑALES 2000-01-01  \n",
       "3    40  SIN_SEÑALES 2000-01-01  \n",
       "4    16  SIN_SEÑALES 2000-01-01  "
      ]
     },
     "execution_count": 2,
     "metadata": {},
     "output_type": "execute_result"
    }
   ],
   "source": [
    "dengue.head()"
   ]
  },
  {
   "cell_type": "code",
   "execution_count": 3,
   "id": "a5999da7-6fbb-44c7-9b81-4f50f2adebd0",
   "metadata": {},
   "outputs": [
    {
     "data": {
      "text/plain": [
       "ano\n",
       "2022    56207\n",
       "2017    43071\n",
       "2021    40501\n",
       "2020    39744\n",
       "2015    29467\n",
       "2016    22865\n",
       "2012    20775\n",
       "2001    16092\n",
       "2014    15530\n",
       "2011    15236\n",
       "2019    13179\n",
       "2010    12454\n",
       "2013    12041\n",
       "2009    11282\n",
       "2008    10528\n",
       "2004     7962\n",
       "2002     6293\n",
       "2007     5334\n",
       "2005     5015\n",
       "2018     4550\n",
       "2000     4324\n",
       "2006     3628\n",
       "2003     2865\n",
       "Name: count, dtype: int64"
      ]
     },
     "execution_count": 3,
     "metadata": {},
     "output_type": "execute_result"
    }
   ],
   "source": [
    "dengue.ano.value_counts()"
   ]
  },
  {
   "cell_type": "code",
   "execution_count": 4,
   "id": "abc1ed04",
   "metadata": {},
   "outputs": [],
   "source": [
    "dengue=dengue[dengue.ano>=2012]"
   ]
  },
  {
   "cell_type": "code",
   "execution_count": 5,
   "id": "5bf43c02-1117-478d-a332-a8630b79b9ee",
   "metadata": {},
   "outputs": [
    {
     "data": {
      "text/plain": [
       "enfermedad\n",
       "SIN_SEÑALES    249278\n",
       "ALARMA          47028\n",
       "GRAVE            1624\n",
       "Name: count, dtype: int64"
      ]
     },
     "execution_count": 5,
     "metadata": {},
     "output_type": "execute_result"
    }
   ],
   "source": [
    "dengue.enfermedad.value_counts()"
   ]
  },
  {
   "cell_type": "code",
   "execution_count": 6,
   "id": "582d9b82-241f-4813-911b-340c64b3f066",
   "metadata": {},
   "outputs": [
    {
     "data": {
      "text/html": [
       "<div>\n",
       "<style scoped>\n",
       "    .dataframe tbody tr th:only-of-type {\n",
       "        vertical-align: middle;\n",
       "    }\n",
       "\n",
       "    .dataframe tbody tr th {\n",
       "        vertical-align: top;\n",
       "    }\n",
       "\n",
       "    .dataframe thead th {\n",
       "        text-align: right;\n",
       "    }\n",
       "</style>\n",
       "<table border=\"1\" class=\"dataframe\">\n",
       "  <thead>\n",
       "    <tr style=\"text-align: right;\">\n",
       "      <th></th>\n",
       "      <th>departamento</th>\n",
       "      <th>provincia</th>\n",
       "      <th>distrito</th>\n",
       "      <th>ano</th>\n",
       "      <th>semana</th>\n",
       "      <th>sexo</th>\n",
       "      <th>edad</th>\n",
       "      <th>enfermedad</th>\n",
       "      <th>year</th>\n",
       "    </tr>\n",
       "  </thead>\n",
       "  <tbody>\n",
       "    <tr>\n",
       "      <th>101012</th>\n",
       "      <td>ANCASH</td>\n",
       "      <td>CASMA</td>\n",
       "      <td>CASMA</td>\n",
       "      <td>2012</td>\n",
       "      <td>50</td>\n",
       "      <td>F</td>\n",
       "      <td>45</td>\n",
       "      <td>SIN_SEÑALES</td>\n",
       "      <td>2011-01-01</td>\n",
       "    </tr>\n",
       "    <tr>\n",
       "      <th>101013</th>\n",
       "      <td>ANCASH</td>\n",
       "      <td>CASMA</td>\n",
       "      <td>CASMA</td>\n",
       "      <td>2012</td>\n",
       "      <td>51</td>\n",
       "      <td>F</td>\n",
       "      <td>3</td>\n",
       "      <td>SIN_SEÑALES</td>\n",
       "      <td>2011-01-01</td>\n",
       "    </tr>\n",
       "    <tr>\n",
       "      <th>101014</th>\n",
       "      <td>ANCASH</td>\n",
       "      <td>SANTA</td>\n",
       "      <td>NUEVO CHIMBOTE</td>\n",
       "      <td>2012</td>\n",
       "      <td>24</td>\n",
       "      <td>F</td>\n",
       "      <td>42</td>\n",
       "      <td>SIN_SEÑALES</td>\n",
       "      <td>2011-01-01</td>\n",
       "    </tr>\n",
       "    <tr>\n",
       "      <th>101015</th>\n",
       "      <td>ANCASH</td>\n",
       "      <td>SANTA</td>\n",
       "      <td>CHIMBOTE</td>\n",
       "      <td>2012</td>\n",
       "      <td>27</td>\n",
       "      <td>M</td>\n",
       "      <td>9</td>\n",
       "      <td>SIN_SEÑALES</td>\n",
       "      <td>2011-01-01</td>\n",
       "    </tr>\n",
       "    <tr>\n",
       "      <th>101016</th>\n",
       "      <td>ANCASH</td>\n",
       "      <td>SANTA</td>\n",
       "      <td>CHIMBOTE</td>\n",
       "      <td>2012</td>\n",
       "      <td>16</td>\n",
       "      <td>F</td>\n",
       "      <td>1</td>\n",
       "      <td>SIN_SEÑALES</td>\n",
       "      <td>2011-01-01</td>\n",
       "    </tr>\n",
       "  </tbody>\n",
       "</table>\n",
       "</div>"
      ],
      "text/plain": [
       "       departamento provincia        distrito   ano  semana sexo  edad  \\\n",
       "101012       ANCASH     CASMA           CASMA  2012      50    F    45   \n",
       "101013       ANCASH     CASMA           CASMA  2012      51    F     3   \n",
       "101014       ANCASH     SANTA  NUEVO CHIMBOTE  2012      24    F    42   \n",
       "101015       ANCASH     SANTA        CHIMBOTE  2012      27    M     9   \n",
       "101016       ANCASH     SANTA        CHIMBOTE  2012      16    F     1   \n",
       "\n",
       "         enfermedad       year  \n",
       "101012  SIN_SEÑALES 2011-01-01  \n",
       "101013  SIN_SEÑALES 2011-01-01  \n",
       "101014  SIN_SEÑALES 2011-01-01  \n",
       "101015  SIN_SEÑALES 2011-01-01  \n",
       "101016  SIN_SEÑALES 2011-01-01  "
      ]
     },
     "execution_count": 6,
     "metadata": {},
     "output_type": "execute_result"
    }
   ],
   "source": [
    "dengue_alarma=dengue[dengue.enfermedad!='GRAVE']\n",
    "\n",
    "dengue_alarma.head()"
   ]
  },
  {
   "cell_type": "code",
   "execution_count": 8,
   "id": "5182331a-080a-4858-a59f-1f1378dc4ad6",
   "metadata": {},
   "outputs": [
    {
     "data": {
      "text/html": [
       "<div>\n",
       "<style scoped>\n",
       "    .dataframe tbody tr th:only-of-type {\n",
       "        vertical-align: middle;\n",
       "    }\n",
       "\n",
       "    .dataframe tbody tr th {\n",
       "        vertical-align: top;\n",
       "    }\n",
       "\n",
       "    .dataframe thead tr th {\n",
       "        text-align: left;\n",
       "    }\n",
       "\n",
       "    .dataframe thead tr:last-of-type th {\n",
       "        text-align: right;\n",
       "    }\n",
       "</style>\n",
       "<table border=\"1\" class=\"dataframe\">\n",
       "  <thead>\n",
       "    <tr>\n",
       "      <th></th>\n",
       "      <th></th>\n",
       "      <th></th>\n",
       "      <th></th>\n",
       "      <th>enfermedad</th>\n",
       "    </tr>\n",
       "    <tr>\n",
       "      <th></th>\n",
       "      <th></th>\n",
       "      <th></th>\n",
       "      <th></th>\n",
       "      <th>len</th>\n",
       "    </tr>\n",
       "    <tr>\n",
       "      <th>ano</th>\n",
       "      <th>departamento</th>\n",
       "      <th>provincia</th>\n",
       "      <th>enfermedad</th>\n",
       "      <th></th>\n",
       "    </tr>\n",
       "  </thead>\n",
       "  <tbody>\n",
       "    <tr>\n",
       "      <th rowspan=\"5\" valign=\"top\">2012</th>\n",
       "      <th rowspan=\"5\" valign=\"top\">AMAZONAS</th>\n",
       "      <th rowspan=\"2\" valign=\"top\">BAGUA</th>\n",
       "      <th>SIN_SEÑALES</th>\n",
       "      <td>290</td>\n",
       "    </tr>\n",
       "    <tr>\n",
       "      <th>ALARMA</th>\n",
       "      <td>53</td>\n",
       "    </tr>\n",
       "    <tr>\n",
       "      <th>CONDORCANQUI</th>\n",
       "      <th>SIN_SEÑALES</th>\n",
       "      <td>20</td>\n",
       "    </tr>\n",
       "    <tr>\n",
       "      <th rowspan=\"2\" valign=\"top\">UTCUBAMBA</th>\n",
       "      <th>SIN_SEÑALES</th>\n",
       "      <td>181</td>\n",
       "    </tr>\n",
       "    <tr>\n",
       "      <th>ALARMA</th>\n",
       "      <td>9</td>\n",
       "    </tr>\n",
       "    <tr>\n",
       "      <th>...</th>\n",
       "      <th>...</th>\n",
       "      <th>...</th>\n",
       "      <th>...</th>\n",
       "      <td>...</td>\n",
       "    </tr>\n",
       "    <tr>\n",
       "      <th rowspan=\"5\" valign=\"top\">2022</th>\n",
       "      <th rowspan=\"5\" valign=\"top\">UCAYALI</th>\n",
       "      <th>CORONEL PORTILLO</th>\n",
       "      <th>ALARMA</th>\n",
       "      <td>499</td>\n",
       "    </tr>\n",
       "    <tr>\n",
       "      <th rowspan=\"2\" valign=\"top\">PADRE ABAD</th>\n",
       "      <th>SIN_SEÑALES</th>\n",
       "      <td>412</td>\n",
       "    </tr>\n",
       "    <tr>\n",
       "      <th>ALARMA</th>\n",
       "      <td>87</td>\n",
       "    </tr>\n",
       "    <tr>\n",
       "      <th rowspan=\"2\" valign=\"top\">PURUS</th>\n",
       "      <th>SIN_SEÑALES</th>\n",
       "      <td>1</td>\n",
       "    </tr>\n",
       "    <tr>\n",
       "      <th>ALARMA</th>\n",
       "      <td>1</td>\n",
       "    </tr>\n",
       "  </tbody>\n",
       "</table>\n",
       "<p>1326 rows × 1 columns</p>\n",
       "</div>"
      ],
      "text/plain": [
       "                                               enfermedad\n",
       "                                                      len\n",
       "ano  departamento provincia        enfermedad            \n",
       "2012 AMAZONAS     BAGUA            SIN_SEÑALES        290\n",
       "                                   ALARMA              53\n",
       "                  CONDORCANQUI     SIN_SEÑALES         20\n",
       "                  UTCUBAMBA        SIN_SEÑALES        181\n",
       "                                   ALARMA               9\n",
       "...                                                   ...\n",
       "2022 UCAYALI      CORONEL PORTILLO ALARMA             499\n",
       "                  PADRE ABAD       SIN_SEÑALES        412\n",
       "                                   ALARMA              87\n",
       "                  PURUS            SIN_SEÑALES          1\n",
       "                                   ALARMA               1\n",
       "\n",
       "[1326 rows x 1 columns]"
      ]
     },
     "execution_count": 8,
     "metadata": {},
     "output_type": "execute_result"
    }
   ],
   "source": [
    "\n",
    "\n",
    "indexList=['ano','departamento','provincia','enfermedad']\n",
    "aggregator={'enfermedad':[len]}\n",
    "dengue_provYear=dengue_alarma.groupby(indexList,observed=True).agg(aggregator)\n",
    "dengue_provYear"
   ]
  },
  {
   "cell_type": "code",
   "execution_count": 9,
   "id": "11434ff3-d3fc-41d3-bdd4-bdb350b46bf0",
   "metadata": {},
   "outputs": [
    {
     "data": {
      "text/html": [
       "<div>\n",
       "<style scoped>\n",
       "    .dataframe tbody tr th:only-of-type {\n",
       "        vertical-align: middle;\n",
       "    }\n",
       "\n",
       "    .dataframe tbody tr th {\n",
       "        vertical-align: top;\n",
       "    }\n",
       "\n",
       "    .dataframe thead tr th {\n",
       "        text-align: left;\n",
       "    }\n",
       "\n",
       "    .dataframe thead tr:last-of-type th {\n",
       "        text-align: right;\n",
       "    }\n",
       "</style>\n",
       "<table border=\"1\" class=\"dataframe\">\n",
       "  <thead>\n",
       "    <tr>\n",
       "      <th></th>\n",
       "      <th></th>\n",
       "      <th></th>\n",
       "      <th colspan=\"2\" halign=\"left\">enfermedad</th>\n",
       "    </tr>\n",
       "    <tr>\n",
       "      <th></th>\n",
       "      <th></th>\n",
       "      <th></th>\n",
       "      <th colspan=\"2\" halign=\"left\">len</th>\n",
       "    </tr>\n",
       "    <tr>\n",
       "      <th></th>\n",
       "      <th></th>\n",
       "      <th>enfermedad</th>\n",
       "      <th>SIN_SEÑALES</th>\n",
       "      <th>ALARMA</th>\n",
       "    </tr>\n",
       "    <tr>\n",
       "      <th>ano</th>\n",
       "      <th>departamento</th>\n",
       "      <th>provincia</th>\n",
       "      <th></th>\n",
       "      <th></th>\n",
       "    </tr>\n",
       "  </thead>\n",
       "  <tbody>\n",
       "    <tr>\n",
       "      <th rowspan=\"5\" valign=\"top\">2012</th>\n",
       "      <th rowspan=\"3\" valign=\"top\">AMAZONAS</th>\n",
       "      <th>BAGUA</th>\n",
       "      <td>290.0</td>\n",
       "      <td>53.0</td>\n",
       "    </tr>\n",
       "    <tr>\n",
       "      <th>CONDORCANQUI</th>\n",
       "      <td>20.0</td>\n",
       "      <td>0.0</td>\n",
       "    </tr>\n",
       "    <tr>\n",
       "      <th>UTCUBAMBA</th>\n",
       "      <td>181.0</td>\n",
       "      <td>9.0</td>\n",
       "    </tr>\n",
       "    <tr>\n",
       "      <th rowspan=\"2\" valign=\"top\">ANCASH</th>\n",
       "      <th>CASMA</th>\n",
       "      <td>5.0</td>\n",
       "      <td>0.0</td>\n",
       "    </tr>\n",
       "    <tr>\n",
       "      <th>SANTA</th>\n",
       "      <td>895.0</td>\n",
       "      <td>19.0</td>\n",
       "    </tr>\n",
       "    <tr>\n",
       "      <th>...</th>\n",
       "      <th>...</th>\n",
       "      <th>...</th>\n",
       "      <td>...</td>\n",
       "      <td>...</td>\n",
       "    </tr>\n",
       "    <tr>\n",
       "      <th rowspan=\"5\" valign=\"top\">2022</th>\n",
       "      <th>TUMBES</th>\n",
       "      <th>ZARUMILLA</th>\n",
       "      <td>89.0</td>\n",
       "      <td>5.0</td>\n",
       "    </tr>\n",
       "    <tr>\n",
       "      <th rowspan=\"4\" valign=\"top\">UCAYALI</th>\n",
       "      <th>ATALAYA</th>\n",
       "      <td>542.0</td>\n",
       "      <td>92.0</td>\n",
       "    </tr>\n",
       "    <tr>\n",
       "      <th>CORONEL PORTILLO</th>\n",
       "      <td>2680.0</td>\n",
       "      <td>499.0</td>\n",
       "    </tr>\n",
       "    <tr>\n",
       "      <th>PADRE ABAD</th>\n",
       "      <td>412.0</td>\n",
       "      <td>87.0</td>\n",
       "    </tr>\n",
       "    <tr>\n",
       "      <th>PURUS</th>\n",
       "      <td>1.0</td>\n",
       "      <td>1.0</td>\n",
       "    </tr>\n",
       "  </tbody>\n",
       "</table>\n",
       "<p>751 rows × 2 columns</p>\n",
       "</div>"
      ],
      "text/plain": [
       "                                    enfermedad       \n",
       "                                           len       \n",
       "enfermedad                         SIN_SEÑALES ALARMA\n",
       "ano  departamento provincia                          \n",
       "2012 AMAZONAS     BAGUA                  290.0   53.0\n",
       "                  CONDORCANQUI            20.0    0.0\n",
       "                  UTCUBAMBA              181.0    9.0\n",
       "     ANCASH       CASMA                    5.0    0.0\n",
       "                  SANTA                  895.0   19.0\n",
       "...                                        ...    ...\n",
       "2022 TUMBES       ZARUMILLA               89.0    5.0\n",
       "     UCAYALI      ATALAYA                542.0   92.0\n",
       "                  CORONEL PORTILLO      2680.0  499.0\n",
       "                  PADRE ABAD             412.0   87.0\n",
       "                  PURUS                    1.0    1.0\n",
       "\n",
       "[751 rows x 2 columns]"
      ]
     },
     "execution_count": 9,
     "metadata": {},
     "output_type": "execute_result"
    }
   ],
   "source": [
    "dengueDraft=dengue_provYear.unstack(3).fillna(0) #leftmost index in rows\n",
    "dengueDraft"
   ]
  },
  {
   "cell_type": "code",
   "execution_count": 10,
   "id": "d5263d5c-f1b1-454c-b264-8fb9d50b17bc",
   "metadata": {},
   "outputs": [
    {
     "data": {
      "text/html": [
       "<div>\n",
       "<style scoped>\n",
       "    .dataframe tbody tr th:only-of-type {\n",
       "        vertical-align: middle;\n",
       "    }\n",
       "\n",
       "    .dataframe tbody tr th {\n",
       "        vertical-align: top;\n",
       "    }\n",
       "\n",
       "    .dataframe thead th {\n",
       "        text-align: right;\n",
       "    }\n",
       "</style>\n",
       "<table border=\"1\" class=\"dataframe\">\n",
       "  <thead>\n",
       "    <tr style=\"text-align: right;\">\n",
       "      <th></th>\n",
       "      <th>ano</th>\n",
       "      <th>2012</th>\n",
       "      <th>2013</th>\n",
       "      <th>2014</th>\n",
       "      <th>2015</th>\n",
       "      <th>2016</th>\n",
       "      <th>2017</th>\n",
       "      <th>2018</th>\n",
       "      <th>2019</th>\n",
       "      <th>2020</th>\n",
       "      <th>2021</th>\n",
       "      <th>2022</th>\n",
       "    </tr>\n",
       "    <tr>\n",
       "      <th>departamento</th>\n",
       "      <th>provincia</th>\n",
       "      <th></th>\n",
       "      <th></th>\n",
       "      <th></th>\n",
       "      <th></th>\n",
       "      <th></th>\n",
       "      <th></th>\n",
       "      <th></th>\n",
       "      <th></th>\n",
       "      <th></th>\n",
       "      <th></th>\n",
       "      <th></th>\n",
       "    </tr>\n",
       "  </thead>\n",
       "  <tbody>\n",
       "    <tr>\n",
       "      <th rowspan=\"5\" valign=\"top\">AMAZONAS</th>\n",
       "      <th>BAGUA</th>\n",
       "      <td>0.154519</td>\n",
       "      <td>0.015385</td>\n",
       "      <td>0.054545</td>\n",
       "      <td>0.000000</td>\n",
       "      <td>0.000000</td>\n",
       "      <td>0.000000</td>\n",
       "      <td>0.011111</td>\n",
       "      <td>0.040323</td>\n",
       "      <td>0.083333</td>\n",
       "      <td>0.075721</td>\n",
       "      <td>0.077234</td>\n",
       "    </tr>\n",
       "    <tr>\n",
       "      <th>BONGARA</th>\n",
       "      <td>0.000000</td>\n",
       "      <td>0.000000</td>\n",
       "      <td>0.000000</td>\n",
       "      <td>0.000000</td>\n",
       "      <td>0.000000</td>\n",
       "      <td>0.000000</td>\n",
       "      <td>0.000000</td>\n",
       "      <td>0.000000</td>\n",
       "      <td>0.000000</td>\n",
       "      <td>0.000000</td>\n",
       "      <td>0.000000</td>\n",
       "    </tr>\n",
       "    <tr>\n",
       "      <th>CHACHAPOYAS</th>\n",
       "      <td>0.000000</td>\n",
       "      <td>0.000000</td>\n",
       "      <td>0.000000</td>\n",
       "      <td>0.000000</td>\n",
       "      <td>0.000000</td>\n",
       "      <td>0.000000</td>\n",
       "      <td>0.000000</td>\n",
       "      <td>1.000000</td>\n",
       "      <td>0.000000</td>\n",
       "      <td>0.500000</td>\n",
       "      <td>0.125000</td>\n",
       "    </tr>\n",
       "    <tr>\n",
       "      <th>CONDORCANQUI</th>\n",
       "      <td>0.000000</td>\n",
       "      <td>0.000000</td>\n",
       "      <td>0.000000</td>\n",
       "      <td>0.000000</td>\n",
       "      <td>0.000000</td>\n",
       "      <td>0.000000</td>\n",
       "      <td>0.000000</td>\n",
       "      <td>0.000000</td>\n",
       "      <td>0.153285</td>\n",
       "      <td>0.028070</td>\n",
       "      <td>0.012500</td>\n",
       "    </tr>\n",
       "    <tr>\n",
       "      <th>UTCUBAMBA</th>\n",
       "      <td>0.047368</td>\n",
       "      <td>0.034091</td>\n",
       "      <td>0.086667</td>\n",
       "      <td>0.086957</td>\n",
       "      <td>0.121212</td>\n",
       "      <td>0.055556</td>\n",
       "      <td>0.000000</td>\n",
       "      <td>0.000000</td>\n",
       "      <td>0.065268</td>\n",
       "      <td>0.028290</td>\n",
       "      <td>0.047821</td>\n",
       "    </tr>\n",
       "    <tr>\n",
       "      <th>...</th>\n",
       "      <th>...</th>\n",
       "      <td>...</td>\n",
       "      <td>...</td>\n",
       "      <td>...</td>\n",
       "      <td>...</td>\n",
       "      <td>...</td>\n",
       "      <td>...</td>\n",
       "      <td>...</td>\n",
       "      <td>...</td>\n",
       "      <td>...</td>\n",
       "      <td>...</td>\n",
       "      <td>...</td>\n",
       "    </tr>\n",
       "    <tr>\n",
       "      <th>TUMBES</th>\n",
       "      <th>ZARUMILLA</th>\n",
       "      <td>0.121739</td>\n",
       "      <td>0.079365</td>\n",
       "      <td>0.214286</td>\n",
       "      <td>0.175325</td>\n",
       "      <td>0.009091</td>\n",
       "      <td>0.013468</td>\n",
       "      <td>0.111111</td>\n",
       "      <td>0.022727</td>\n",
       "      <td>0.029762</td>\n",
       "      <td>0.014085</td>\n",
       "      <td>0.053191</td>\n",
       "    </tr>\n",
       "    <tr>\n",
       "      <th rowspan=\"4\" valign=\"top\">UCAYALI</th>\n",
       "      <th>ATALAYA</th>\n",
       "      <td>0.200000</td>\n",
       "      <td>0.875000</td>\n",
       "      <td>0.333333</td>\n",
       "      <td>0.520000</td>\n",
       "      <td>0.318182</td>\n",
       "      <td>0.255034</td>\n",
       "      <td>0.400000</td>\n",
       "      <td>0.250000</td>\n",
       "      <td>0.169591</td>\n",
       "      <td>0.214894</td>\n",
       "      <td>0.145110</td>\n",
       "    </tr>\n",
       "    <tr>\n",
       "      <th>CORONEL PORTILLO</th>\n",
       "      <td>0.326643</td>\n",
       "      <td>0.368421</td>\n",
       "      <td>0.371471</td>\n",
       "      <td>0.614286</td>\n",
       "      <td>0.228498</td>\n",
       "      <td>0.278409</td>\n",
       "      <td>0.190083</td>\n",
       "      <td>0.195876</td>\n",
       "      <td>0.174333</td>\n",
       "      <td>0.137194</td>\n",
       "      <td>0.156968</td>\n",
       "    </tr>\n",
       "    <tr>\n",
       "      <th>PADRE ABAD</th>\n",
       "      <td>0.374332</td>\n",
       "      <td>0.310924</td>\n",
       "      <td>0.475000</td>\n",
       "      <td>0.264706</td>\n",
       "      <td>0.412371</td>\n",
       "      <td>0.264706</td>\n",
       "      <td>0.368421</td>\n",
       "      <td>0.400000</td>\n",
       "      <td>0.194489</td>\n",
       "      <td>0.117647</td>\n",
       "      <td>0.174349</td>\n",
       "    </tr>\n",
       "    <tr>\n",
       "      <th>PURUS</th>\n",
       "      <td>0.000000</td>\n",
       "      <td>0.000000</td>\n",
       "      <td>0.000000</td>\n",
       "      <td>0.000000</td>\n",
       "      <td>0.000000</td>\n",
       "      <td>0.000000</td>\n",
       "      <td>0.000000</td>\n",
       "      <td>0.000000</td>\n",
       "      <td>0.000000</td>\n",
       "      <td>0.000000</td>\n",
       "      <td>0.500000</td>\n",
       "    </tr>\n",
       "  </tbody>\n",
       "</table>\n",
       "<p>108 rows × 11 columns</p>\n",
       "</div>"
      ],
      "text/plain": [
       "ano                                2012      2013      2014      2015  \\\n",
       "departamento provincia                                                  \n",
       "AMAZONAS     BAGUA             0.154519  0.015385  0.054545  0.000000   \n",
       "             BONGARA           0.000000  0.000000  0.000000  0.000000   \n",
       "             CHACHAPOYAS       0.000000  0.000000  0.000000  0.000000   \n",
       "             CONDORCANQUI      0.000000  0.000000  0.000000  0.000000   \n",
       "             UTCUBAMBA         0.047368  0.034091  0.086667  0.086957   \n",
       "...                                 ...       ...       ...       ...   \n",
       "TUMBES       ZARUMILLA         0.121739  0.079365  0.214286  0.175325   \n",
       "UCAYALI      ATALAYA           0.200000  0.875000  0.333333  0.520000   \n",
       "             CORONEL PORTILLO  0.326643  0.368421  0.371471  0.614286   \n",
       "             PADRE ABAD        0.374332  0.310924  0.475000  0.264706   \n",
       "             PURUS             0.000000  0.000000  0.000000  0.000000   \n",
       "\n",
       "ano                                2016      2017      2018      2019  \\\n",
       "departamento provincia                                                  \n",
       "AMAZONAS     BAGUA             0.000000  0.000000  0.011111  0.040323   \n",
       "             BONGARA           0.000000  0.000000  0.000000  0.000000   \n",
       "             CHACHAPOYAS       0.000000  0.000000  0.000000  1.000000   \n",
       "             CONDORCANQUI      0.000000  0.000000  0.000000  0.000000   \n",
       "             UTCUBAMBA         0.121212  0.055556  0.000000  0.000000   \n",
       "...                                 ...       ...       ...       ...   \n",
       "TUMBES       ZARUMILLA         0.009091  0.013468  0.111111  0.022727   \n",
       "UCAYALI      ATALAYA           0.318182  0.255034  0.400000  0.250000   \n",
       "             CORONEL PORTILLO  0.228498  0.278409  0.190083  0.195876   \n",
       "             PADRE ABAD        0.412371  0.264706  0.368421  0.400000   \n",
       "             PURUS             0.000000  0.000000  0.000000  0.000000   \n",
       "\n",
       "ano                                2020      2021      2022  \n",
       "departamento provincia                                       \n",
       "AMAZONAS     BAGUA             0.083333  0.075721  0.077234  \n",
       "             BONGARA           0.000000  0.000000  0.000000  \n",
       "             CHACHAPOYAS       0.000000  0.500000  0.125000  \n",
       "             CONDORCANQUI      0.153285  0.028070  0.012500  \n",
       "             UTCUBAMBA         0.065268  0.028290  0.047821  \n",
       "...                                 ...       ...       ...  \n",
       "TUMBES       ZARUMILLA         0.029762  0.014085  0.053191  \n",
       "UCAYALI      ATALAYA           0.169591  0.214894  0.145110  \n",
       "             CORONEL PORTILLO  0.174333  0.137194  0.156968  \n",
       "             PADRE ABAD        0.194489  0.117647  0.174349  \n",
       "             PURUS             0.000000  0.000000  0.500000  \n",
       "\n",
       "[108 rows x 11 columns]"
      ]
     },
     "execution_count": 10,
     "metadata": {},
     "output_type": "execute_result"
    }
   ],
   "source": [
    "dengueDraft['ALARMA_pct']=dengueDraft.iloc[:,1]/(dengueDraft.iloc[:,0] + dengueDraft.iloc[:,1])\n",
    "dengue_provYear_Alarm_w=dengueDraft['ALARMA_pct'].unstack('ano').fillna(0)\n",
    "dengue_provYear_Alarm_w"
   ]
  },
  {
   "cell_type": "code",
   "execution_count": 11,
   "id": "f90f1042-efda-4071-b8ce-00c7ba8dfc2f",
   "metadata": {},
   "outputs": [
    {
     "data": {
      "text/plain": [
       "Index([2012, 2013, 2014, 2015, 2016, 2017, 2018, 2019, 2020, 2021, 2022], dtype='int64', name='ano')"
      ]
     },
     "execution_count": 11,
     "metadata": {},
     "output_type": "execute_result"
    }
   ],
   "source": [
    "dengue_provYear_Alarm_w.columns"
   ]
  },
  {
   "cell_type": "code",
   "execution_count": 12,
   "id": "1f9041a0-7ea7-47b6-b4bf-3f9a0ba6b620",
   "metadata": {},
   "outputs": [],
   "source": [
    "dengue_provYear_Alarm_w.columns=['year'+str(x) for x in dengue_provYear_Alarm_w.columns]"
   ]
  },
  {
   "cell_type": "code",
   "execution_count": 13,
   "id": "32c27bcb-9ce5-41ff-ba0b-8616ec2c5989",
   "metadata": {},
   "outputs": [
    {
     "data": {
      "text/html": [
       "<div>\n",
       "<style scoped>\n",
       "    .dataframe tbody tr th:only-of-type {\n",
       "        vertical-align: middle;\n",
       "    }\n",
       "\n",
       "    .dataframe tbody tr th {\n",
       "        vertical-align: top;\n",
       "    }\n",
       "\n",
       "    .dataframe thead th {\n",
       "        text-align: right;\n",
       "    }\n",
       "</style>\n",
       "<table border=\"1\" class=\"dataframe\">\n",
       "  <thead>\n",
       "    <tr style=\"text-align: right;\">\n",
       "      <th></th>\n",
       "      <th></th>\n",
       "      <th>year2012</th>\n",
       "      <th>year2013</th>\n",
       "      <th>year2014</th>\n",
       "      <th>year2015</th>\n",
       "      <th>year2016</th>\n",
       "      <th>year2017</th>\n",
       "      <th>year2018</th>\n",
       "      <th>year2019</th>\n",
       "      <th>year2020</th>\n",
       "      <th>year2021</th>\n",
       "      <th>year2022</th>\n",
       "    </tr>\n",
       "    <tr>\n",
       "      <th>departamento</th>\n",
       "      <th>provincia</th>\n",
       "      <th></th>\n",
       "      <th></th>\n",
       "      <th></th>\n",
       "      <th></th>\n",
       "      <th></th>\n",
       "      <th></th>\n",
       "      <th></th>\n",
       "      <th></th>\n",
       "      <th></th>\n",
       "      <th></th>\n",
       "      <th></th>\n",
       "    </tr>\n",
       "  </thead>\n",
       "  <tbody>\n",
       "    <tr>\n",
       "      <th rowspan=\"5\" valign=\"top\">AMAZONAS</th>\n",
       "      <th>BAGUA</th>\n",
       "      <td>0.154519</td>\n",
       "      <td>0.015385</td>\n",
       "      <td>0.054545</td>\n",
       "      <td>0.000000</td>\n",
       "      <td>0.000000</td>\n",
       "      <td>0.000000</td>\n",
       "      <td>0.011111</td>\n",
       "      <td>0.040323</td>\n",
       "      <td>0.083333</td>\n",
       "      <td>0.075721</td>\n",
       "      <td>0.077234</td>\n",
       "    </tr>\n",
       "    <tr>\n",
       "      <th>BONGARA</th>\n",
       "      <td>0.000000</td>\n",
       "      <td>0.000000</td>\n",
       "      <td>0.000000</td>\n",
       "      <td>0.000000</td>\n",
       "      <td>0.000000</td>\n",
       "      <td>0.000000</td>\n",
       "      <td>0.000000</td>\n",
       "      <td>0.000000</td>\n",
       "      <td>0.000000</td>\n",
       "      <td>0.000000</td>\n",
       "      <td>0.000000</td>\n",
       "    </tr>\n",
       "    <tr>\n",
       "      <th>CHACHAPOYAS</th>\n",
       "      <td>0.000000</td>\n",
       "      <td>0.000000</td>\n",
       "      <td>0.000000</td>\n",
       "      <td>0.000000</td>\n",
       "      <td>0.000000</td>\n",
       "      <td>0.000000</td>\n",
       "      <td>0.000000</td>\n",
       "      <td>1.000000</td>\n",
       "      <td>0.000000</td>\n",
       "      <td>0.500000</td>\n",
       "      <td>0.125000</td>\n",
       "    </tr>\n",
       "    <tr>\n",
       "      <th>CONDORCANQUI</th>\n",
       "      <td>0.000000</td>\n",
       "      <td>0.000000</td>\n",
       "      <td>0.000000</td>\n",
       "      <td>0.000000</td>\n",
       "      <td>0.000000</td>\n",
       "      <td>0.000000</td>\n",
       "      <td>0.000000</td>\n",
       "      <td>0.000000</td>\n",
       "      <td>0.153285</td>\n",
       "      <td>0.028070</td>\n",
       "      <td>0.012500</td>\n",
       "    </tr>\n",
       "    <tr>\n",
       "      <th>UTCUBAMBA</th>\n",
       "      <td>0.047368</td>\n",
       "      <td>0.034091</td>\n",
       "      <td>0.086667</td>\n",
       "      <td>0.086957</td>\n",
       "      <td>0.121212</td>\n",
       "      <td>0.055556</td>\n",
       "      <td>0.000000</td>\n",
       "      <td>0.000000</td>\n",
       "      <td>0.065268</td>\n",
       "      <td>0.028290</td>\n",
       "      <td>0.047821</td>\n",
       "    </tr>\n",
       "    <tr>\n",
       "      <th>...</th>\n",
       "      <th>...</th>\n",
       "      <td>...</td>\n",
       "      <td>...</td>\n",
       "      <td>...</td>\n",
       "      <td>...</td>\n",
       "      <td>...</td>\n",
       "      <td>...</td>\n",
       "      <td>...</td>\n",
       "      <td>...</td>\n",
       "      <td>...</td>\n",
       "      <td>...</td>\n",
       "      <td>...</td>\n",
       "    </tr>\n",
       "    <tr>\n",
       "      <th>TUMBES</th>\n",
       "      <th>ZARUMILLA</th>\n",
       "      <td>0.121739</td>\n",
       "      <td>0.079365</td>\n",
       "      <td>0.214286</td>\n",
       "      <td>0.175325</td>\n",
       "      <td>0.009091</td>\n",
       "      <td>0.013468</td>\n",
       "      <td>0.111111</td>\n",
       "      <td>0.022727</td>\n",
       "      <td>0.029762</td>\n",
       "      <td>0.014085</td>\n",
       "      <td>0.053191</td>\n",
       "    </tr>\n",
       "    <tr>\n",
       "      <th rowspan=\"4\" valign=\"top\">UCAYALI</th>\n",
       "      <th>ATALAYA</th>\n",
       "      <td>0.200000</td>\n",
       "      <td>0.875000</td>\n",
       "      <td>0.333333</td>\n",
       "      <td>0.520000</td>\n",
       "      <td>0.318182</td>\n",
       "      <td>0.255034</td>\n",
       "      <td>0.400000</td>\n",
       "      <td>0.250000</td>\n",
       "      <td>0.169591</td>\n",
       "      <td>0.214894</td>\n",
       "      <td>0.145110</td>\n",
       "    </tr>\n",
       "    <tr>\n",
       "      <th>CORONEL PORTILLO</th>\n",
       "      <td>0.326643</td>\n",
       "      <td>0.368421</td>\n",
       "      <td>0.371471</td>\n",
       "      <td>0.614286</td>\n",
       "      <td>0.228498</td>\n",
       "      <td>0.278409</td>\n",
       "      <td>0.190083</td>\n",
       "      <td>0.195876</td>\n",
       "      <td>0.174333</td>\n",
       "      <td>0.137194</td>\n",
       "      <td>0.156968</td>\n",
       "    </tr>\n",
       "    <tr>\n",
       "      <th>PADRE ABAD</th>\n",
       "      <td>0.374332</td>\n",
       "      <td>0.310924</td>\n",
       "      <td>0.475000</td>\n",
       "      <td>0.264706</td>\n",
       "      <td>0.412371</td>\n",
       "      <td>0.264706</td>\n",
       "      <td>0.368421</td>\n",
       "      <td>0.400000</td>\n",
       "      <td>0.194489</td>\n",
       "      <td>0.117647</td>\n",
       "      <td>0.174349</td>\n",
       "    </tr>\n",
       "    <tr>\n",
       "      <th>PURUS</th>\n",
       "      <td>0.000000</td>\n",
       "      <td>0.000000</td>\n",
       "      <td>0.000000</td>\n",
       "      <td>0.000000</td>\n",
       "      <td>0.000000</td>\n",
       "      <td>0.000000</td>\n",
       "      <td>0.000000</td>\n",
       "      <td>0.000000</td>\n",
       "      <td>0.000000</td>\n",
       "      <td>0.000000</td>\n",
       "      <td>0.500000</td>\n",
       "    </tr>\n",
       "  </tbody>\n",
       "</table>\n",
       "<p>108 rows × 11 columns</p>\n",
       "</div>"
      ],
      "text/plain": [
       "                               year2012  year2013  year2014  year2015  \\\n",
       "departamento provincia                                                  \n",
       "AMAZONAS     BAGUA             0.154519  0.015385  0.054545  0.000000   \n",
       "             BONGARA           0.000000  0.000000  0.000000  0.000000   \n",
       "             CHACHAPOYAS       0.000000  0.000000  0.000000  0.000000   \n",
       "             CONDORCANQUI      0.000000  0.000000  0.000000  0.000000   \n",
       "             UTCUBAMBA         0.047368  0.034091  0.086667  0.086957   \n",
       "...                                 ...       ...       ...       ...   \n",
       "TUMBES       ZARUMILLA         0.121739  0.079365  0.214286  0.175325   \n",
       "UCAYALI      ATALAYA           0.200000  0.875000  0.333333  0.520000   \n",
       "             CORONEL PORTILLO  0.326643  0.368421  0.371471  0.614286   \n",
       "             PADRE ABAD        0.374332  0.310924  0.475000  0.264706   \n",
       "             PURUS             0.000000  0.000000  0.000000  0.000000   \n",
       "\n",
       "                               year2016  year2017  year2018  year2019  \\\n",
       "departamento provincia                                                  \n",
       "AMAZONAS     BAGUA             0.000000  0.000000  0.011111  0.040323   \n",
       "             BONGARA           0.000000  0.000000  0.000000  0.000000   \n",
       "             CHACHAPOYAS       0.000000  0.000000  0.000000  1.000000   \n",
       "             CONDORCANQUI      0.000000  0.000000  0.000000  0.000000   \n",
       "             UTCUBAMBA         0.121212  0.055556  0.000000  0.000000   \n",
       "...                                 ...       ...       ...       ...   \n",
       "TUMBES       ZARUMILLA         0.009091  0.013468  0.111111  0.022727   \n",
       "UCAYALI      ATALAYA           0.318182  0.255034  0.400000  0.250000   \n",
       "             CORONEL PORTILLO  0.228498  0.278409  0.190083  0.195876   \n",
       "             PADRE ABAD        0.412371  0.264706  0.368421  0.400000   \n",
       "             PURUS             0.000000  0.000000  0.000000  0.000000   \n",
       "\n",
       "                               year2020  year2021  year2022  \n",
       "departamento provincia                                       \n",
       "AMAZONAS     BAGUA             0.083333  0.075721  0.077234  \n",
       "             BONGARA           0.000000  0.000000  0.000000  \n",
       "             CHACHAPOYAS       0.000000  0.500000  0.125000  \n",
       "             CONDORCANQUI      0.153285  0.028070  0.012500  \n",
       "             UTCUBAMBA         0.065268  0.028290  0.047821  \n",
       "...                                 ...       ...       ...  \n",
       "TUMBES       ZARUMILLA         0.029762  0.014085  0.053191  \n",
       "UCAYALI      ATALAYA           0.169591  0.214894  0.145110  \n",
       "             CORONEL PORTILLO  0.174333  0.137194  0.156968  \n",
       "             PADRE ABAD        0.194489  0.117647  0.174349  \n",
       "             PURUS             0.000000  0.000000  0.500000  \n",
       "\n",
       "[108 rows x 11 columns]"
      ]
     },
     "execution_count": 13,
     "metadata": {},
     "output_type": "execute_result"
    }
   ],
   "source": [
    "dengue_provYear_Alarm_w"
   ]
  },
  {
   "cell_type": "code",
   "execution_count": 14,
   "id": "0e6326cc-2e33-4c3d-9985-bfc955fd63c1",
   "metadata": {},
   "outputs": [
    {
     "data": {
      "text/html": [
       "<div>\n",
       "<style scoped>\n",
       "    .dataframe tbody tr th:only-of-type {\n",
       "        vertical-align: middle;\n",
       "    }\n",
       "\n",
       "    .dataframe tbody tr th {\n",
       "        vertical-align: top;\n",
       "    }\n",
       "\n",
       "    .dataframe thead th {\n",
       "        text-align: right;\n",
       "    }\n",
       "</style>\n",
       "<table border=\"1\" class=\"dataframe\">\n",
       "  <thead>\n",
       "    <tr style=\"text-align: right;\">\n",
       "      <th></th>\n",
       "      <th>departamento</th>\n",
       "      <th>provincia</th>\n",
       "      <th>year2012</th>\n",
       "      <th>year2013</th>\n",
       "      <th>year2014</th>\n",
       "      <th>year2015</th>\n",
       "      <th>year2016</th>\n",
       "      <th>year2017</th>\n",
       "      <th>year2018</th>\n",
       "      <th>year2019</th>\n",
       "      <th>year2020</th>\n",
       "      <th>year2021</th>\n",
       "      <th>year2022</th>\n",
       "    </tr>\n",
       "  </thead>\n",
       "  <tbody>\n",
       "    <tr>\n",
       "      <th>0</th>\n",
       "      <td>AMAZONAS</td>\n",
       "      <td>BAGUA</td>\n",
       "      <td>0.154519</td>\n",
       "      <td>0.015385</td>\n",
       "      <td>0.054545</td>\n",
       "      <td>0.000000</td>\n",
       "      <td>0.000000</td>\n",
       "      <td>0.000000</td>\n",
       "      <td>0.011111</td>\n",
       "      <td>0.040323</td>\n",
       "      <td>0.083333</td>\n",
       "      <td>0.075721</td>\n",
       "      <td>0.077234</td>\n",
       "    </tr>\n",
       "    <tr>\n",
       "      <th>1</th>\n",
       "      <td>AMAZONAS</td>\n",
       "      <td>BONGARA</td>\n",
       "      <td>0.000000</td>\n",
       "      <td>0.000000</td>\n",
       "      <td>0.000000</td>\n",
       "      <td>0.000000</td>\n",
       "      <td>0.000000</td>\n",
       "      <td>0.000000</td>\n",
       "      <td>0.000000</td>\n",
       "      <td>0.000000</td>\n",
       "      <td>0.000000</td>\n",
       "      <td>0.000000</td>\n",
       "      <td>0.000000</td>\n",
       "    </tr>\n",
       "    <tr>\n",
       "      <th>2</th>\n",
       "      <td>AMAZONAS</td>\n",
       "      <td>CHACHAPOYAS</td>\n",
       "      <td>0.000000</td>\n",
       "      <td>0.000000</td>\n",
       "      <td>0.000000</td>\n",
       "      <td>0.000000</td>\n",
       "      <td>0.000000</td>\n",
       "      <td>0.000000</td>\n",
       "      <td>0.000000</td>\n",
       "      <td>1.000000</td>\n",
       "      <td>0.000000</td>\n",
       "      <td>0.500000</td>\n",
       "      <td>0.125000</td>\n",
       "    </tr>\n",
       "    <tr>\n",
       "      <th>3</th>\n",
       "      <td>AMAZONAS</td>\n",
       "      <td>CONDORCANQUI</td>\n",
       "      <td>0.000000</td>\n",
       "      <td>0.000000</td>\n",
       "      <td>0.000000</td>\n",
       "      <td>0.000000</td>\n",
       "      <td>0.000000</td>\n",
       "      <td>0.000000</td>\n",
       "      <td>0.000000</td>\n",
       "      <td>0.000000</td>\n",
       "      <td>0.153285</td>\n",
       "      <td>0.028070</td>\n",
       "      <td>0.012500</td>\n",
       "    </tr>\n",
       "    <tr>\n",
       "      <th>4</th>\n",
       "      <td>AMAZONAS</td>\n",
       "      <td>UTCUBAMBA</td>\n",
       "      <td>0.047368</td>\n",
       "      <td>0.034091</td>\n",
       "      <td>0.086667</td>\n",
       "      <td>0.086957</td>\n",
       "      <td>0.121212</td>\n",
       "      <td>0.055556</td>\n",
       "      <td>0.000000</td>\n",
       "      <td>0.000000</td>\n",
       "      <td>0.065268</td>\n",
       "      <td>0.028290</td>\n",
       "      <td>0.047821</td>\n",
       "    </tr>\n",
       "    <tr>\n",
       "      <th>...</th>\n",
       "      <td>...</td>\n",
       "      <td>...</td>\n",
       "      <td>...</td>\n",
       "      <td>...</td>\n",
       "      <td>...</td>\n",
       "      <td>...</td>\n",
       "      <td>...</td>\n",
       "      <td>...</td>\n",
       "      <td>...</td>\n",
       "      <td>...</td>\n",
       "      <td>...</td>\n",
       "      <td>...</td>\n",
       "      <td>...</td>\n",
       "    </tr>\n",
       "    <tr>\n",
       "      <th>103</th>\n",
       "      <td>TUMBES</td>\n",
       "      <td>ZARUMILLA</td>\n",
       "      <td>0.121739</td>\n",
       "      <td>0.079365</td>\n",
       "      <td>0.214286</td>\n",
       "      <td>0.175325</td>\n",
       "      <td>0.009091</td>\n",
       "      <td>0.013468</td>\n",
       "      <td>0.111111</td>\n",
       "      <td>0.022727</td>\n",
       "      <td>0.029762</td>\n",
       "      <td>0.014085</td>\n",
       "      <td>0.053191</td>\n",
       "    </tr>\n",
       "    <tr>\n",
       "      <th>104</th>\n",
       "      <td>UCAYALI</td>\n",
       "      <td>ATALAYA</td>\n",
       "      <td>0.200000</td>\n",
       "      <td>0.875000</td>\n",
       "      <td>0.333333</td>\n",
       "      <td>0.520000</td>\n",
       "      <td>0.318182</td>\n",
       "      <td>0.255034</td>\n",
       "      <td>0.400000</td>\n",
       "      <td>0.250000</td>\n",
       "      <td>0.169591</td>\n",
       "      <td>0.214894</td>\n",
       "      <td>0.145110</td>\n",
       "    </tr>\n",
       "    <tr>\n",
       "      <th>105</th>\n",
       "      <td>UCAYALI</td>\n",
       "      <td>CORONEL PORTILLO</td>\n",
       "      <td>0.326643</td>\n",
       "      <td>0.368421</td>\n",
       "      <td>0.371471</td>\n",
       "      <td>0.614286</td>\n",
       "      <td>0.228498</td>\n",
       "      <td>0.278409</td>\n",
       "      <td>0.190083</td>\n",
       "      <td>0.195876</td>\n",
       "      <td>0.174333</td>\n",
       "      <td>0.137194</td>\n",
       "      <td>0.156968</td>\n",
       "    </tr>\n",
       "    <tr>\n",
       "      <th>106</th>\n",
       "      <td>UCAYALI</td>\n",
       "      <td>PADRE ABAD</td>\n",
       "      <td>0.374332</td>\n",
       "      <td>0.310924</td>\n",
       "      <td>0.475000</td>\n",
       "      <td>0.264706</td>\n",
       "      <td>0.412371</td>\n",
       "      <td>0.264706</td>\n",
       "      <td>0.368421</td>\n",
       "      <td>0.400000</td>\n",
       "      <td>0.194489</td>\n",
       "      <td>0.117647</td>\n",
       "      <td>0.174349</td>\n",
       "    </tr>\n",
       "    <tr>\n",
       "      <th>107</th>\n",
       "      <td>UCAYALI</td>\n",
       "      <td>PURUS</td>\n",
       "      <td>0.000000</td>\n",
       "      <td>0.000000</td>\n",
       "      <td>0.000000</td>\n",
       "      <td>0.000000</td>\n",
       "      <td>0.000000</td>\n",
       "      <td>0.000000</td>\n",
       "      <td>0.000000</td>\n",
       "      <td>0.000000</td>\n",
       "      <td>0.000000</td>\n",
       "      <td>0.000000</td>\n",
       "      <td>0.500000</td>\n",
       "    </tr>\n",
       "  </tbody>\n",
       "</table>\n",
       "<p>108 rows × 13 columns</p>\n",
       "</div>"
      ],
      "text/plain": [
       "    departamento         provincia  year2012  year2013  year2014  year2015  \\\n",
       "0       AMAZONAS             BAGUA  0.154519  0.015385  0.054545  0.000000   \n",
       "1       AMAZONAS           BONGARA  0.000000  0.000000  0.000000  0.000000   \n",
       "2       AMAZONAS       CHACHAPOYAS  0.000000  0.000000  0.000000  0.000000   \n",
       "3       AMAZONAS      CONDORCANQUI  0.000000  0.000000  0.000000  0.000000   \n",
       "4       AMAZONAS         UTCUBAMBA  0.047368  0.034091  0.086667  0.086957   \n",
       "..           ...               ...       ...       ...       ...       ...   \n",
       "103       TUMBES         ZARUMILLA  0.121739  0.079365  0.214286  0.175325   \n",
       "104      UCAYALI           ATALAYA  0.200000  0.875000  0.333333  0.520000   \n",
       "105      UCAYALI  CORONEL PORTILLO  0.326643  0.368421  0.371471  0.614286   \n",
       "106      UCAYALI        PADRE ABAD  0.374332  0.310924  0.475000  0.264706   \n",
       "107      UCAYALI             PURUS  0.000000  0.000000  0.000000  0.000000   \n",
       "\n",
       "     year2016  year2017  year2018  year2019  year2020  year2021  year2022  \n",
       "0    0.000000  0.000000  0.011111  0.040323  0.083333  0.075721  0.077234  \n",
       "1    0.000000  0.000000  0.000000  0.000000  0.000000  0.000000  0.000000  \n",
       "2    0.000000  0.000000  0.000000  1.000000  0.000000  0.500000  0.125000  \n",
       "3    0.000000  0.000000  0.000000  0.000000  0.153285  0.028070  0.012500  \n",
       "4    0.121212  0.055556  0.000000  0.000000  0.065268  0.028290  0.047821  \n",
       "..        ...       ...       ...       ...       ...       ...       ...  \n",
       "103  0.009091  0.013468  0.111111  0.022727  0.029762  0.014085  0.053191  \n",
       "104  0.318182  0.255034  0.400000  0.250000  0.169591  0.214894  0.145110  \n",
       "105  0.228498  0.278409  0.190083  0.195876  0.174333  0.137194  0.156968  \n",
       "106  0.412371  0.264706  0.368421  0.400000  0.194489  0.117647  0.174349  \n",
       "107  0.000000  0.000000  0.000000  0.000000  0.000000  0.000000  0.500000  \n",
       "\n",
       "[108 rows x 13 columns]"
      ]
     },
     "execution_count": 14,
     "metadata": {},
     "output_type": "execute_result"
    }
   ],
   "source": [
    "dengue_provYear_Alarm_w.reset_index(inplace=True)\n",
    "dengue_provYear_Alarm_w"
   ]
  },
  {
   "cell_type": "code",
   "execution_count": null,
   "id": "cba44f1e-7ba4-41be-aa74-8300c6d5ded0",
   "metadata": {},
   "outputs": [],
   "source": [
    "mapLink='https://github.com/SocialAnalytics-StrategicIntelligence/GeoDF_Analytics/raw/main/maps/DistritalINEI2023.zip'\n",
    "\n",
    "import geopandas as gpd\n",
    "\n",
    "datadismap=gpd.read_file(mapLink)\n",
    "\n",
    "datadismap.info()"
   ]
  },
  {
   "cell_type": "code",
   "execution_count": null,
   "id": "e394243f-9e5c-4cae-a899-c593da1736dd",
   "metadata": {},
   "outputs": [],
   "source": [
    "datadismap['location']=['+'.join(x[0]) for x in zip(datadismap.iloc[:,4:7].values)]\n",
    "datadismap.head(10)"
   ]
  },
  {
   "cell_type": "code",
   "execution_count": null,
   "id": "022746a0-e0a9-42ba-949f-3e5269d503ea",
   "metadata": {},
   "outputs": [],
   "source": [
    "dengue_provYear_Alarm_w['location']=['+'.join(x[0]) for x in zip(dengue_provYear_Alarm_w.iloc[:,:3].values)]\n",
    "dengue_provYear_Alarm_w.head()"
   ]
  },
  {
   "cell_type": "markdown",
   "id": "a1294312",
   "metadata": {},
   "source": [
    "## Preprocessing\n",
    "\n",
    "After observing both tables, it would be better if the columns with names have the same capitalization, and no extra blank spaces:"
   ]
  },
  {
   "cell_type": "markdown",
   "id": "9f85ce45",
   "metadata": {},
   "source": [
    "The names from non-english speaking countries may come with some symbols that may cause trouble (', ~). Let's get rid of those:"
   ]
  },
  {
   "cell_type": "code",
   "execution_count": null,
   "id": "16981570",
   "metadata": {},
   "outputs": [],
   "source": [
    "import unidecode\n",
    "\n",
    "\n",
    "byePunctuation=lambda x: unidecode.unidecode(x)\n",
    "dengue_provYear_Alarm_w['location']=dengue_provYear_Alarm_w['location'].apply(byePunctuation)\n",
    "datadismap['location']=datadismap['location'].apply(byePunctuation)"
   ]
  },
  {
   "cell_type": "markdown",
   "id": "c54ffa80",
   "metadata": {},
   "source": [
    "Let me see how many district we have:"
   ]
  },
  {
   "cell_type": "markdown",
   "id": "45a93252",
   "metadata": {},
   "source": [
    "It would be good making sure no *ghost* appears between words:"
   ]
  },
  {
   "cell_type": "code",
   "execution_count": null,
   "id": "47cdc538",
   "metadata": {},
   "outputs": [],
   "source": [
    "# replacing dashes and multiple spaces by a simple space\n",
    "dengue_provYear_Alarm_w['location']=dengue_provYear_Alarm_w.location.str.replace(\"\\-|\\_|\\s+\",\"\",regex=True)\n",
    "datadismap['location']=datadismap.location.str.replace(\"\\-|\\_|\\s+\",\"\",regex=True)"
   ]
  },
  {
   "cell_type": "markdown",
   "id": "5406417d",
   "metadata": {},
   "source": [
    "## Merging\n",
    "\n",
    "We need to merge both tables now. That can happen effectively if both tables have a **key** column: a column (or collection of them) whose values in one table are the same in the other one.\n",
    "\n",
    "The match need not be exact, but only common values in the *key* are merged.\n",
    "\n",
    "Let's find out what is NOT matched in each table:"
   ]
  },
  {
   "cell_type": "code",
   "execution_count": null,
   "id": "793335e5",
   "metadata": {},
   "outputs": [],
   "source": [
    "nomatch_df=set(dengue_provYear_Alarm_w.location)- set(datadismap.location)\n",
    "nomatch_gdf=set(datadismap.location)-set(dengue_provYear_Alarm_w.location) "
   ]
  },
  {
   "cell_type": "markdown",
   "id": "a849b640",
   "metadata": {},
   "source": [
    "This is what could not be matched:"
   ]
  },
  {
   "cell_type": "code",
   "execution_count": null,
   "id": "ada23390",
   "metadata": {},
   "outputs": [],
   "source": [
    "len(nomatch_df), len(nomatch_gdf)"
   ]
  },
  {
   "cell_type": "markdown",
   "id": "261c4a60",
   "metadata": {},
   "source": [
    "The right way to go is using **fuzzy merging** (remember we need  _the fuzz_):"
   ]
  },
  {
   "cell_type": "code",
   "execution_count": null,
   "id": "d761c590",
   "metadata": {},
   "outputs": [],
   "source": [
    "# pick the closest match from nomatch_gdf for a value in nomatch_df\n",
    "from thefuzz import process\n",
    "[(dis,process.extractOne(dis,nomatch_gdf)) for dis in sorted(nomatch_df)]"
   ]
  },
  {
   "cell_type": "markdown",
   "id": "6b462ab3",
   "metadata": {},
   "source": [
    "If you are comfortable, you prepare a _dictionary_ of changes:"
   ]
  },
  {
   "cell_type": "code",
   "execution_count": null,
   "id": "4dac522f",
   "metadata": {},
   "outputs": [],
   "source": [
    "# is this OK?\n",
    "{dis:process.extractOne(dis,nomatch_gdf)[0] for dis in sorted(nomatch_df)}"
   ]
  },
  {
   "cell_type": "code",
   "execution_count": null,
   "id": "e872d7ca",
   "metadata": {},
   "outputs": [],
   "source": [
    "# then:\n",
    "changesinDF={dis:process.extractOne(dis,nomatch_gdf)[0] for dis in sorted(nomatch_df)}"
   ]
  },
  {
   "cell_type": "markdown",
   "id": "940be9cd",
   "metadata": {},
   "source": [
    "Now, make the replacements:"
   ]
  },
  {
   "cell_type": "code",
   "execution_count": null,
   "id": "9fb1d131-12ee-40cd-99f6-8ab505abae96",
   "metadata": {},
   "outputs": [],
   "source": [
    "dengue_provYear_Alarm_w.replace({'location': changesinDF}, inplace=True)"
   ]
  },
  {
   "cell_type": "code",
   "execution_count": null,
   "id": "dc576d65-2d77-44dd-9c4c-0ef43b5ebe38",
   "metadata": {},
   "outputs": [],
   "source": [
    "nomatch_df=set(dengue_provYear_Alarm_w.location)- set(datadismap.location)\n",
    "nomatch_gdf=set(datadismap.location)-set(dengue_provYear_Alarm_w.location) \n",
    "\n",
    "[(dis,process.extractOne(dis,nomatch_gdf)) for dis in sorted(nomatch_df)]"
   ]
  },
  {
   "cell_type": "markdown",
   "id": "0bd65363",
   "metadata": {},
   "source": [
    "Now the merge can happen:"
   ]
  },
  {
   "cell_type": "code",
   "execution_count": null,
   "id": "b1d3b077",
   "metadata": {},
   "outputs": [],
   "source": [
    "dengue_provYear_Alarm_map=datadismap.merge(dengue_provYear_Alarm_w, on='location',how='left',indicator='flag')"
   ]
  },
  {
   "cell_type": "code",
   "execution_count": null,
   "id": "fe40f603",
   "metadata": {},
   "outputs": [],
   "source": [
    "# check\n",
    "dengue_provYear_Alarm_map.info()"
   ]
  },
  {
   "cell_type": "code",
   "execution_count": null,
   "id": "0ab06d8c-aafb-46a5-a3e1-5b41eb3741c8",
   "metadata": {},
   "outputs": [],
   "source": [
    "# avoid poblems with fillna()\n",
    "dengue_provYear_Alarm_map['flag']=dengue_provYear_Alarm_map.flag.astype(str)"
   ]
  },
  {
   "cell_type": "markdown",
   "id": "4142c0b7",
   "metadata": {},
   "source": [
    "We can get rid of some columns:"
   ]
  },
  {
   "cell_type": "code",
   "execution_count": null,
   "id": "ee2e517b",
   "metadata": {},
   "outputs": [],
   "source": [
    "bye=['departamento', 'provincia', 'distrito','CCDD','CCPP','CCDD','OBJECTID','ESRI_OID']\n",
    "dengue_provYear_Alarm_map.drop(columns=bye,inplace=True)\n",
    "\n",
    "# keeping\n",
    "dengue_provYear_Alarm_map.head()"
   ]
  },
  {
   "cell_type": "code",
   "execution_count": null,
   "id": "45e4fffd-c40e-44a4-8861-7d777943f522",
   "metadata": {},
   "outputs": [],
   "source": [
    "dengue_provYear_Alarm_map.fillna(0,inplace=True)"
   ]
  },
  {
   "cell_type": "markdown",
   "id": "a2ff93fc",
   "metadata": {},
   "source": [
    "We can save this gdf:"
   ]
  },
  {
   "cell_type": "code",
   "execution_count": null,
   "id": "83c97517",
   "metadata": {},
   "outputs": [],
   "source": [
    "import os\n",
    "dengue_provYear_Alarm_map.to_file(os.path.join('maps',\"distritos.gpkg\"), layer='distritosDengue', driver=\"GPKG\")"
   ]
  },
  {
   "cell_type": "markdown",
   "id": "7b518c79",
   "metadata": {},
   "source": [
    "## Exploring one variable\n",
    "\n",
    "This time, we explore statistically one variable in the map:"
   ]
  },
  {
   "cell_type": "code",
   "execution_count": null,
   "id": "dbd7ca6a",
   "metadata": {},
   "outputs": [],
   "source": [
    "# statistics\n",
    "dengue_provYear_Alarm_map.year2022.describe()"
   ]
  },
  {
   "cell_type": "code",
   "execution_count": null,
   "id": "f7382e0e-0764-4595-9cef-8f65e801933d",
   "metadata": {},
   "outputs": [],
   "source": [
    "dengue_provYear_Alarm_map=dengue_provYear_Alarm_map.to_crs(24892)\n",
    "dengue_provYear_Alarm_map.crs"
   ]
  },
  {
   "cell_type": "code",
   "execution_count": null,
   "id": "0b47a7e5",
   "metadata": {},
   "outputs": [],
   "source": [
    "import seaborn as sea\n",
    "\n",
    "sea.boxplot(dengue_provYear_Alarm_map.year2022, color='yellow',orient='h')"
   ]
  },
  {
   "cell_type": "code",
   "execution_count": null,
   "id": "051f0685-8175-43f8-b31f-40c804ce39ea",
   "metadata": {},
   "outputs": [],
   "source": [
    "\n",
    "from sklearn.preprocessing import QuantileTransformer\n",
    "qt = QuantileTransformer(n_quantiles=100, random_state=0)\n",
    "qt_result=qt.fit_transform(dengue_provYear_Alarm_map[['year2022']])\n",
    "sea.boxplot(qt_result, color='yellow',orient='h')"
   ]
  },
  {
   "cell_type": "code",
   "execution_count": null,
   "id": "f27262d0-1ed7-449c-99cf-818c679a3b3f",
   "metadata": {},
   "outputs": [],
   "source": [
    "dengue_provYear_Alarm_map['year_2022_qt']=qt_result"
   ]
  },
  {
   "cell_type": "markdown",
   "id": "85ee802b",
   "metadata": {},
   "source": [
    "Notice the histogram divides the data in intervals which are the base of the bars. Seaborn uses the [Freedman-Diaconis](https://en.wikipedia.org/wiki/Freedman%E2%80%93Diaconis_rule) formula to compute the bins.\n",
    "\n",
    "Let's see other possibilities, but please install [**numba**](https://numba.readthedocs.io/en/stable/user/installing.html) before runing the next code; also make sure you have **pysal**, **mapclassify** and **numpy** installed: "
   ]
  },
  {
   "cell_type": "code",
   "execution_count": null,
   "id": "621a58e6",
   "metadata": {},
   "outputs": [],
   "source": [
    "import mapclassify \n",
    "import numpy as np\n",
    "\n",
    "np.random.seed(12345) # so we all get the same results!\n",
    "K=5\n",
    "theVar=dengue_provYear_Alarm_map.year_2022_qt\n",
    "\n",
    "mb5 = mapclassify.MaximumBreaks(theVar, k=K)"
   ]
  },
  {
   "cell_type": "code",
   "execution_count": null,
   "id": "ce570a1a",
   "metadata": {},
   "outputs": [],
   "source": [
    "# group label\n",
    "mb5.yb"
   ]
  },
  {
   "cell_type": "code",
   "execution_count": null,
   "id": "4e08aa7f",
   "metadata": {},
   "outputs": [],
   "source": [
    "# labels and counts\n",
    "np.unique(mb5.yb,return_counts=True)\n",
    "          "
   ]
  },
  {
   "cell_type": "code",
   "execution_count": null,
   "id": "c3a1744a",
   "metadata": {},
   "outputs": [],
   "source": [
    "# ht.yb into a pandas Series\n",
    "\n",
    "pd.Series(mb5.yb).value_counts()"
   ]
  },
  {
   "cell_type": "code",
   "execution_count": null,
   "id": "ee200de1",
   "metadata": {},
   "outputs": [],
   "source": [
    "# these are the cuts, but it is not including the min value\n",
    "mb5.bins"
   ]
  },
  {
   "cell_type": "markdown",
   "id": "731d0bac",
   "metadata": {},
   "source": [
    "Based on the previous information, let me prepare a histogram:"
   ]
  },
  {
   "cell_type": "code",
   "execution_count": null,
   "id": "d8aef9ed",
   "metadata": {},
   "outputs": [],
   "source": [
    "# completing the bins\n",
    "MB_bins=list(mb5.bins)\n",
    "MB_bins.insert(0,dengue_provYear_Alarm_map.year_2022_qt.min())"
   ]
  },
  {
   "cell_type": "code",
   "execution_count": null,
   "id": "55862575",
   "metadata": {},
   "outputs": [],
   "source": [
    "sea.displot(dengue_provYear_Alarm_map.year_2022_qt, bins=MB_bins,color='yellow')"
   ]
  },
  {
   "cell_type": "code",
   "execution_count": null,
   "id": "63a7802b",
   "metadata": {},
   "outputs": [],
   "source": [
    "dengue_provYear_Alarm_map['year_2022_qt'] = mb5.yb "
   ]
  },
  {
   "cell_type": "markdown",
   "id": "c4163499",
   "metadata": {},
   "source": [
    "Let me plot one of them:"
   ]
  },
  {
   "cell_type": "code",
   "execution_count": null,
   "id": "71dd32a0",
   "metadata": {},
   "outputs": [],
   "source": [
    "import matplotlib.pyplot as plt\n",
    "\n",
    "f, ax = plt.subplots(1, figsize=(9, 9))\n",
    "dengue_provYear_Alarm_map.plot(column='year_2022_qt', \n",
    "        cmap='viridis', \n",
    "        categorical=True,\n",
    "        edgecolor='white', \n",
    "        linewidth=0., \n",
    "        alpha=0.75, \n",
    "        legend=True,\n",
    "        legend_kwds=dict(loc=2),\n",
    "        ax=ax\n",
    "       )\n",
    "\n",
    "ax.set_axis_off()"
   ]
  },
  {
   "cell_type": "markdown",
   "id": "87708d4e",
   "metadata": {},
   "source": [
    "## Spatial Correlation\n",
    "\n",
    "### Neighboorhood\n",
    "\n",
    "We can compute the neighborhood in a map using different algorithms:"
   ]
  },
  {
   "cell_type": "code",
   "execution_count": null,
   "id": "a0152188",
   "metadata": {},
   "outputs": [],
   "source": [
    "from libpysal.weights import Queen, Rook, KNN\n",
    "\n",
    "# rook\n",
    "w_rook = Rook.from_dataframe(dengue_dist_projected) "
   ]
  },
  {
   "cell_type": "code",
   "execution_count": null,
   "id": "282be4af",
   "metadata": {},
   "outputs": [],
   "source": [
    "# rook\n",
    "w_queen = Queen.from_dataframe(dengue_dist_projected)"
   ]
  },
  {
   "cell_type": "code",
   "execution_count": null,
   "id": "008f5e05",
   "metadata": {},
   "outputs": [],
   "source": [
    "# k nearest neighbors\n",
    "w_knn = KNN.from_dataframe(dengue_dist_projected, k=8)"
   ]
  },
  {
   "cell_type": "markdown",
   "id": "92c7c94a",
   "metadata": {},
   "source": [
    "Let's understand the differences:"
   ]
  },
  {
   "cell_type": "code",
   "execution_count": null,
   "id": "d3df1a3e",
   "metadata": {},
   "outputs": [],
   "source": [
    "# first one\n",
    "dengue_dist_projected.head(1)"
   ]
  },
  {
   "cell_type": "code",
   "execution_count": null,
   "id": "9cd010e7",
   "metadata": {},
   "outputs": [],
   "source": [
    "# amount neighbors of that district\n",
    "w_rook.neighbors[0] "
   ]
  },
  {
   "cell_type": "code",
   "execution_count": null,
   "id": "fe8d9e8b",
   "metadata": {},
   "outputs": [],
   "source": [
    "# see\n",
    "base=dengue_dist_projected[dengue_dist_projected.DISTRITO==\"CHACHAPOYAS\"].plot()\n",
    "dengue_dist_projected.iloc[w_rook.neighbors[0] ,].plot(ax=base,facecolor=\"yellow\",edgecolor='k')\n",
    "dengue_dist_projected.head(1).plot(ax=base,facecolor=\"red\")"
   ]
  },
  {
   "cell_type": "markdown",
   "id": "8dee5594",
   "metadata": {},
   "source": [
    "Let's do the same:"
   ]
  },
  {
   "cell_type": "code",
   "execution_count": null,
   "id": "39a94ad6",
   "metadata": {},
   "outputs": [],
   "source": [
    "w_queen.neighbors[0]"
   ]
  },
  {
   "cell_type": "code",
   "execution_count": null,
   "id": "959642c7",
   "metadata": {},
   "outputs": [],
   "source": [
    "base=dengue_dist_projected[dengue_dist_projected.DISTRITO==\"CHACHAPOYAS\"].plot()\n",
    "dengue_dist_projected.iloc[w_queen.neighbors[0] ,].plot(ax=base,facecolor=\"yellow\",edgecolor='k')\n",
    "dengue_dist_projected.head(1).plot(ax=base,facecolor=\"red\")"
   ]
  },
  {
   "cell_type": "code",
   "execution_count": null,
   "id": "eeaf1e44",
   "metadata": {},
   "outputs": [],
   "source": [
    "w_knn.neighbors[0]"
   ]
  },
  {
   "cell_type": "code",
   "execution_count": null,
   "id": "6143d69a",
   "metadata": {},
   "outputs": [],
   "source": [
    "base=dengue_dist_projected[dengue_dist_projected.DISTRITO==\"CHACHAPOYAS\"].plot()\n",
    "dengue_dist_projected.iloc[w_knn.neighbors[0] ,].plot(ax=base,facecolor=\"yellow\",edgecolor='k')\n",
    "dengue_dist_projected.head(1).plot(ax=base,facecolor=\"red\")"
   ]
  },
  {
   "cell_type": "markdown",
   "id": "a96c4f9d",
   "metadata": {},
   "source": [
    "Let me pay attention to the queen results:"
   ]
  },
  {
   "cell_type": "code",
   "execution_count": null,
   "id": "743d91c6",
   "metadata": {},
   "outputs": [],
   "source": [
    "# all the neighbors by row\n",
    "w_queen.neighbors"
   ]
  },
  {
   "cell_type": "code",
   "execution_count": null,
   "id": "31f7bf1a",
   "metadata": {},
   "outputs": [],
   "source": [
    "# the matrix of neighboorhood:\n",
    "\n",
    "pd.DataFrame(*w_queen.full()).astype(int) # 1 means both are neighbors"
   ]
  },
  {
   "cell_type": "code",
   "execution_count": null,
   "id": "2f85f14e",
   "metadata": {},
   "outputs": [],
   "source": [
    "# count of nonzeros\n",
    "w_queen.nonzero"
   ]
  },
  {
   "cell_type": "code",
   "execution_count": null,
   "id": "b4395652",
   "metadata": {},
   "outputs": [],
   "source": [
    "# pct of neighboorhood (density)\n",
    "w_queen.pct_nonzero"
   ]
  },
  {
   "cell_type": "code",
   "execution_count": null,
   "id": "48e318d9",
   "metadata": {},
   "outputs": [],
   "source": [
    "# a district with NO neighbor?\n",
    "w_queen.islands"
   ]
  },
  {
   "cell_type": "markdown",
   "id": "dcc26bd2",
   "metadata": {},
   "source": [
    "### Exercise 5\n",
    "\n",
    "<div class=\"alert-success\">\n",
    "    \n",
    "1. Compute the three neighboohoods shown above for you data.\n",
    "    \n",
    "2. Select one polygon, and plot it with its neighbors as above.\n",
    "    \n",
    "</div>"
   ]
  },
  {
   "cell_type": "markdown",
   "id": "28192fdf",
   "metadata": {},
   "source": [
    "## Spatial correlation\n",
    "\n",
    "We need the neighboorhood matrix (the weight matrix) to compute spatial correlation: if the variable value is correlated with the values of its neighbors - which proves a spatial effect."
   ]
  },
  {
   "cell_type": "code",
   "execution_count": null,
   "id": "2ea5e43d",
   "metadata": {},
   "outputs": [],
   "source": [
    "# needed for spatial correlation\n",
    "w_queen.transform = 'R'"
   ]
  },
  {
   "cell_type": "markdown",
   "id": "91941edd",
   "metadata": {},
   "source": [
    "Spatial correlation is measured by the Moran's I statistic:"
   ]
  },
  {
   "cell_type": "code",
   "execution_count": null,
   "id": "003d47cb",
   "metadata": {},
   "outputs": [],
   "source": [
    "from esda.moran import Moran\n",
    "\n",
    "moranDENGUE = Moran(dengue_dist_projected['alarm_km2_2022_qt'], w_queen)\n",
    "moranDENGUE.I,moranDENGUE.p_sim"
   ]
  },
  {
   "cell_type": "markdown",
   "id": "d44b450c",
   "metadata": {},
   "source": [
    "A significant Moran's I suggest spatial correlation. Let's see the spatial scatter plot"
   ]
  },
  {
   "cell_type": "code",
   "execution_count": null,
   "id": "e950f7fd",
   "metadata": {},
   "outputs": [],
   "source": [
    "from splot.esda import moran_scatterplot\n",
    "\n",
    "fig, ax = moran_scatterplot(moranDENGUE)#, aspect_equal=True)\n",
    "ax.set_xlabel('dengue')\n",
    "ax.set_ylabel('SpatialLag_dengue')\n",
    "plt.show()"
   ]
  },
  {
   "cell_type": "markdown",
   "id": "beec77ca",
   "metadata": {},
   "source": [
    "### Exercise 6\n",
    "\n",
    "<div class=\"alert-success\">\n",
    "    \n",
    "1. Compute the Moran's coefficient for **all** your numeric variables.\n",
    "    \n",
    "2. Make a scatter plot for each variable.\n",
    "    \n",
    "</div>"
   ]
  },
  {
   "cell_type": "markdown",
   "id": "196148f8",
   "metadata": {},
   "source": [
    "### Local Spatial Correlation\n",
    "\n",
    "We can compute a LISA (local Moran) for each case. That will help us find spatial clusters (spots) and spatial outliers:\n",
    "\n",
    "* A **hotSpot** is a polygon whose value in the variable is high AND is surrounded with polygons with also high values.\n",
    "\n",
    "* A **coldSpot** is a polygon whose value in the variable is low AND is surrounded with polygons with also low values.\n",
    "\n",
    "* A **coldOutlier** is a polygon whose value in the variable is low BUT is surrounded with polygons with  high values.\n",
    "\n",
    "* A **hotOutlier** is a polygon whose value in the variable is high BUT is surrounded with polygons with  low values.\n",
    "\n",
    "It is also possible that no significant correlation is detected. Let's see those values:"
   ]
  },
  {
   "cell_type": "code",
   "execution_count": null,
   "id": "b1207a8e",
   "metadata": {},
   "outputs": [],
   "source": [
    "# The scatterplot with local info\n",
    "from esda.moran import Moran_Local\n",
    "\n",
    "# calculate Moran_Local and plot\n",
    "lisaDENGUE = Moran_Local(y=dengue_dist_projected['alarm_km2_2022_qt'], w=w_queen,seed=2022)\n",
    "fig, ax = moran_scatterplot(lisaDENGUE,p=0.05)\n",
    "ax.set_xlabel('dengue')\n",
    "ax.set_ylabel('SpatialLag_dengue')\n",
    "plt.show()"
   ]
  },
  {
   "cell_type": "code",
   "execution_count": null,
   "id": "44d1fb80",
   "metadata": {},
   "outputs": [],
   "source": [
    "# the map with the spots and outliers\n",
    "\n",
    "from splot.esda import lisa_cluster\n",
    "f, ax = plt.subplots(1, figsize=(12, 12))\n",
    "plt.title('Spots and Outliers')\n",
    "fig = lisa_cluster(lisaDENGUE, \n",
    "                   dengue_dist_projected,ax=ax,\n",
    "                   legend_kwds={'loc': 'center left', \n",
    "                                'bbox_to_anchor': (0.7, 0.6)})\n",
    "plt.show()"
   ]
  },
  {
   "cell_type": "markdown",
   "id": "3c8d157e",
   "metadata": {},
   "source": [
    "Let me add that data to my gdf:"
   ]
  },
  {
   "cell_type": "code",
   "execution_count": null,
   "id": "b67766a8",
   "metadata": {},
   "outputs": [],
   "source": [
    "# quadrant\n",
    "lisaDENGUE.q"
   ]
  },
  {
   "cell_type": "code",
   "execution_count": null,
   "id": "df8949df",
   "metadata": {},
   "outputs": [],
   "source": [
    "# significance\n",
    "lisaDENGUE.p_sim"
   ]
  },
  {
   "cell_type": "code",
   "execution_count": null,
   "id": "8a07011f",
   "metadata": {},
   "outputs": [],
   "source": [
    "# quadrant: 1 HH,  2 LH,  3 LL,  4 HL\n",
    "pd.Series(lisaDENGUE.q).value_counts()"
   ]
  },
  {
   "cell_type": "markdown",
   "id": "79c4c66f",
   "metadata": {},
   "source": [
    "The info in **lisaIDH.q** can not be used right away, we need to add if the local spatial correlation is significant:"
   ]
  },
  {
   "cell_type": "code",
   "execution_count": null,
   "id": "2e2977e6",
   "metadata": {},
   "outputs": [],
   "source": [
    "dengue_dist_projected['DENGUE_quadrant']=[l if p <0.05 else 0 for l,p in zip(lisaDENGUE.q,lisaDENGUE.p_sim)  ]\n",
    "dengue_dist_projected['DENGUE_quadrant'].value_counts()"
   ]
  },
  {
   "cell_type": "markdown",
   "id": "f327eb6f",
   "metadata": {},
   "source": [
    "Now, we recode:"
   ]
  },
  {
   "cell_type": "code",
   "execution_count": null,
   "id": "4fd49705",
   "metadata": {},
   "outputs": [],
   "source": [
    "labels = [ '0 no_sig', '1 hotSpot', '2 coldOutlier', '3 coldSpot', '4 hotOutlier']\n",
    "\n",
    "dengue_dist_projected['DENGUE_quadrant_names']=[labels[i] for i in dengue_dist_projected['DENGUE_quadrant']]\n",
    "\n",
    "dengue_dist_projected['DENGUE_quadrant_names'].value_counts()\n",
    "                                  "
   ]
  },
  {
   "cell_type": "markdown",
   "id": "0b662813",
   "metadata": {},
   "source": [
    "Let's replot:"
   ]
  },
  {
   "cell_type": "code",
   "execution_count": null,
   "id": "30bad5df",
   "metadata": {},
   "outputs": [],
   "source": [
    "from matplotlib import colors\n",
    "myColMap = colors.ListedColormap([ 'ghostwhite', 'red', 'green', 'black','orange'])\n",
    "\n",
    "\n",
    "\n",
    "# Set up figure and ax\n",
    "f, ax = plt.subplots(1, figsize=(12,12))\n",
    "# Plot unique values choropleth including\n",
    "# a legend and with no boundary lines\n",
    "\n",
    "plt.title('Spots and Outliers')\n",
    "\n",
    "dengue_dist_projected.plot(column='DENGUE_quadrant_names', \n",
    "                categorical=True,\n",
    "                cmap=myColMap,\n",
    "                linewidth=0.1, \n",
    "                edgecolor='white',\n",
    "                legend=True,\n",
    "                legend_kwds={'loc': 'center left', \n",
    "                             'bbox_to_anchor': (0.7, 0.6)},\n",
    "                ax=ax)\n",
    "# Remove axis\n",
    "ax.set_axis_off()\n",
    "# Display the map\n",
    "plt.show()"
   ]
  },
  {
   "cell_type": "code",
   "execution_count": null,
   "id": "891df8b1-4902-42d4-b859-1bcb4d2f259f",
   "metadata": {},
   "outputs": [],
   "source": [
    "dengue_dist_projected.explore(\"DENGUE_quadrant_names\", categorical=True,tooltip='location')"
   ]
  },
  {
   "cell_type": "markdown",
   "id": "9fe389a6",
   "metadata": {},
   "source": [
    "### Exercise 7\n",
    "\n",
    "<div class=\"alert-success\">\n",
    "    \n",
    "1. Compute the Local Moran for the variables in your data that have significant spatial correlation.\n",
    "    \n",
    "2. Create a new column for each of those variables, with a label ('0 no_sig', '1 hotSpot', '2 coldOutlier', '3 coldSpot', '4 hotOutlier').\n",
    "\n",
    "3. Prepare a map for each of the variables analyzed, showing the spots and outliers.\n",
    "    \n",
    "</div>"
   ]
  },
  {
   "cell_type": "code",
   "execution_count": null,
   "id": "8f02d3ce",
   "metadata": {},
   "outputs": [],
   "source": []
  }
 ],
 "metadata": {
  "hide_input": false,
  "kernelspec": {
   "display_name": "Python 3 (ipykernel)",
   "language": "python",
   "name": "python3"
  },
  "language_info": {
   "codemirror_mode": {
    "name": "ipython",
    "version": 3
   },
   "file_extension": ".py",
   "mimetype": "text/x-python",
   "name": "python",
   "nbconvert_exporter": "python",
   "pygments_lexer": "ipython3",
   "version": "3.11.5"
  }
 },
 "nbformat": 4,
 "nbformat_minor": 5
}
