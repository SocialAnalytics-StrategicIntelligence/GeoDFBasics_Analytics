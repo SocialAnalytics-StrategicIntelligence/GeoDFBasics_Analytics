{
 "cells": [
  {
   "cell_type": "markdown",
   "id": "044daaf5",
   "metadata": {},
   "source": [
    "<img src=\"https://i.imgur.com/6U6q5jQ.png\"/>\n",
    "\n",
    "_____\n",
    "\n",
    "# Analytics on GeodataFrames\n",
    " \n",
    "\n",
    "Let's read the data in:"
   ]
  },
  {
   "cell_type": "code",
   "execution_count": null,
   "id": "a31450dc",
   "metadata": {},
   "outputs": [],
   "source": [
    "# data table\n",
    "import pandas as pd\n",
    "linkData=\"https://github.com/SocialAnalytics-StrategicIntelligence/OrganizeExploreAndQuery/raw/main/dataFiles/dengue_ok.pkl\"\n",
    "dengue = pd.read_pickle(linkData)\n",
    "dengue.info()"
   ]
  },
  {
   "cell_type": "code",
   "execution_count": null,
   "id": "e0a4a89d-8f54-46b3-891f-0b9f391a5719",
   "metadata": {},
   "outputs": [],
   "source": [
    "dengue.head()"
   ]
  },
  {
   "cell_type": "code",
   "execution_count": null,
   "id": "a5999da7-6fbb-44c7-9b81-4f50f2adebd0",
   "metadata": {},
   "outputs": [],
   "source": [
    "dengue.ano.value_counts()"
   ]
  },
  {
   "cell_type": "code",
   "execution_count": null,
   "id": "abc1ed04",
   "metadata": {},
   "outputs": [],
   "source": [
    "dengue=dengue[dengue.ano>=2012]"
   ]
  },
  {
   "cell_type": "code",
   "execution_count": null,
   "id": "5bf43c02-1117-478d-a332-a8630b79b9ee",
   "metadata": {},
   "outputs": [],
   "source": [
    "dengue.enfermedad.value_counts()"
   ]
  },
  {
   "cell_type": "code",
   "execution_count": null,
   "id": "582d9b82-241f-4813-911b-340c64b3f066",
   "metadata": {},
   "outputs": [],
   "source": [
    "dengue_alarma=dengue[dengue.enfermedad=='ALARMA']\n",
    "\n",
    "dengue_alarma.head()"
   ]
  },
  {
   "cell_type": "code",
   "execution_count": null,
   "id": "5182331a-080a-4858-a59f-1f1378dc4ad6",
   "metadata": {},
   "outputs": [],
   "source": [
    "\n",
    "\n",
    "indexList=['ano','departamento','provincia','distrito']\n",
    "aggregator={'enfermedad':[len]}\n",
    "dengue_distYear=dengue_alarma.groupby(indexList,observed=True).agg(aggregator)\n",
    "dengue_distYear.columns=['conteo']\n",
    "dengue_distYear"
   ]
  },
  {
   "cell_type": "code",
   "execution_count": null,
   "id": "11434ff3-d3fc-41d3-bdd4-bdb350b46bf0",
   "metadata": {},
   "outputs": [],
   "source": [
    "dengue_distYear.unstack(0) #leftmost index in rows"
   ]
  },
  {
   "cell_type": "code",
   "execution_count": null,
   "id": "32c27bcb-9ce5-41ff-ba0b-8616ec2c5989",
   "metadata": {},
   "outputs": [],
   "source": [
    "dengue_distYear_w=dengue_distYear.unstack(0).reset_index() \n",
    "dengue_distYear_w"
   ]
  },
  {
   "cell_type": "code",
   "execution_count": null,
   "id": "f6823c4d-5095-4754-89b7-1296673aa701",
   "metadata": {},
   "outputs": [],
   "source": [
    "dengue_distYear_w.columns=['departamento','provincia','distrito']+list(range(2012,2023))\n",
    "dengue_distYear_w.head()"
   ]
  },
  {
   "cell_type": "code",
   "execution_count": null,
   "id": "de144e90-4ae4-4278-999f-731497c5fe29",
   "metadata": {},
   "outputs": [],
   "source": [
    "dengue_distYear_w.fillna(0,inplace=True)\n",
    "dengue_distYear_w.head()"
   ]
  },
  {
   "cell_type": "code",
   "execution_count": null,
   "id": "8d452a9a-e7c9-4584-977b-23388045b1c7",
   "metadata": {},
   "outputs": [],
   "source": [
    "newName=['year_'+str(x) for x in dengue_distYear_w.columns[3:]]\n",
    "newName"
   ]
  },
  {
   "cell_type": "code",
   "execution_count": null,
   "id": "c07c81ae-cfde-49ed-a530-8990f0a7ddba",
   "metadata": {},
   "outputs": [],
   "source": [
    "changesInCols={x:y for x,y in zip(dengue_distYear_w.columns[3:],newName)}\n",
    "changesInCols"
   ]
  },
  {
   "cell_type": "code",
   "execution_count": null,
   "id": "0e6326cc-2e33-4c3d-9985-bfc955fd63c1",
   "metadata": {},
   "outputs": [],
   "source": [
    "dengue_distYear_w.rename(columns=changesInCols,inplace=True)\n",
    "dengue_distYear_w.head()"
   ]
  },
  {
   "cell_type": "code",
   "execution_count": null,
   "id": "cba44f1e-7ba4-41be-aa74-8300c6d5ded0",
   "metadata": {},
   "outputs": [],
   "source": [
    "mapLink='https://github.com/SocialAnalytics-StrategicIntelligence/GeoDF_Analytics/raw/main/maps/DistritalINEI2023.zip'\n",
    "\n",
    "import geopandas as gpd\n",
    "\n",
    "datadismap=gpd.read_file(mapLink)\n",
    "\n",
    "datadismap.info()"
   ]
  },
  {
   "cell_type": "code",
   "execution_count": null,
   "id": "e394243f-9e5c-4cae-a899-c593da1736dd",
   "metadata": {},
   "outputs": [],
   "source": [
    "datadismap['location']=['+'.join(x[0]) for x in zip(datadismap.iloc[:,4:7].values)]\n",
    "datadismap.head(10)"
   ]
  },
  {
   "cell_type": "code",
   "execution_count": null,
   "id": "022746a0-e0a9-42ba-949f-3e5269d503ea",
   "metadata": {},
   "outputs": [],
   "source": [
    "dengue_distYear_w['location']=['+'.join(x[0]) for x in zip(dengue_distYear_w.iloc[:,:3].values)]"
   ]
  },
  {
   "cell_type": "markdown",
   "id": "a1294312",
   "metadata": {},
   "source": [
    "## Preprocessing\n",
    "\n",
    "After observing both tables, it would be better if the columns with names have the same capitalization, and no extra blank spaces:"
   ]
  },
  {
   "cell_type": "markdown",
   "id": "9f85ce45",
   "metadata": {},
   "source": [
    "The names from non-english speaking countries may come with some symbols that may cause trouble (', ~). Let's get rid of those:"
   ]
  },
  {
   "cell_type": "code",
   "execution_count": null,
   "id": "16981570",
   "metadata": {},
   "outputs": [],
   "source": [
    "import unidecode\n",
    "\n",
    "\n",
    "byePunctuation=lambda x: unidecode.unidecode(x)\n",
    "dengue_distYear_w['location']=dengue_distYear_w['location'].apply(byePunctuation)\n",
    "datadismap['location']=datadismap['location'].apply(byePunctuation)"
   ]
  },
  {
   "cell_type": "markdown",
   "id": "c54ffa80",
   "metadata": {},
   "source": [
    "Let me see how many district we have:"
   ]
  },
  {
   "cell_type": "markdown",
   "id": "45a93252",
   "metadata": {},
   "source": [
    "It would be good making sure no *ghost* appears between words:"
   ]
  },
  {
   "cell_type": "code",
   "execution_count": null,
   "id": "47cdc538",
   "metadata": {},
   "outputs": [],
   "source": [
    "# replacing dashes and multiple spaces by a simple space\n",
    "dengue_distYear_w['location']=dengue_distYear_w.location.str.replace(\"\\-|\\_|\\s+\",\"\",regex=True)\n",
    "datadismap['location']=datadismap.location.str.replace(\"\\-|\\_|\\s+\",\"\",regex=True)"
   ]
  },
  {
   "cell_type": "markdown",
   "id": "5406417d",
   "metadata": {},
   "source": [
    "## Merging\n",
    "\n",
    "We need to merge both tables now. That can happen effectively if both tables have a **key** column: a column (or collection of them) whose values in one table are the same in the other one.\n",
    "\n",
    "The match need not be exact, but only common values in the *key* are merged.\n",
    "\n",
    "Let's find out what is NOT matched in each table:"
   ]
  },
  {
   "cell_type": "code",
   "execution_count": null,
   "id": "793335e5",
   "metadata": {},
   "outputs": [],
   "source": [
    "nomatch_df=set(dengue_distYear_w.location)- set(datadismap.location)\n",
    "nomatch_gdf=set(datadismap.location)-set(dengue_distYear_w.location) "
   ]
  },
  {
   "cell_type": "markdown",
   "id": "a849b640",
   "metadata": {},
   "source": [
    "This is what could not be matched:"
   ]
  },
  {
   "cell_type": "code",
   "execution_count": null,
   "id": "ada23390",
   "metadata": {},
   "outputs": [],
   "source": [
    "len(nomatch_df), len(nomatch_gdf)"
   ]
  },
  {
   "cell_type": "markdown",
   "id": "261c4a60",
   "metadata": {},
   "source": [
    "The right way to go is using **fuzzy merging** (remember we need  _the fuzz_):"
   ]
  },
  {
   "cell_type": "code",
   "execution_count": null,
   "id": "d761c590",
   "metadata": {},
   "outputs": [],
   "source": [
    "# pick the closest match from nomatch_gdf for a value in nomatch_df\n",
    "from thefuzz import process\n",
    "[(dis,process.extractOne(dis,nomatch_gdf)) for dis in sorted(nomatch_df)]"
   ]
  },
  {
   "cell_type": "code",
   "execution_count": null,
   "id": "6aec62e9-86ae-4f0b-8669-e372da602314",
   "metadata": {},
   "outputs": [],
   "source": [
    "datadismap[datadismap.DISTRITO.str.startswith('NEPE')]"
   ]
  },
  {
   "cell_type": "code",
   "execution_count": null,
   "id": "fdb54c6c-35ac-4308-a447-3c9743a8d7f2",
   "metadata": {},
   "outputs": [],
   "source": [
    "dengue_distYear_w[dengue_distYear_w.distrito.str.startswith('NEPE')]"
   ]
  },
  {
   "cell_type": "code",
   "execution_count": null,
   "id": "03d6ee67-eea3-44ae-a46e-5cff95c75cd9",
   "metadata": {},
   "outputs": [],
   "source": [
    "dengue_distYear_w.loc[21,'distrito']='NEPEÑA'\n",
    "dengue_distYear_w.loc[21,'location']='ANCASH+SANTA+NEPENA'\n",
    "\n",
    "nomatch_df=set(dengue_distYear_w.location)- set(datadismap.location)\n",
    "nomatch_gdf=set(datadismap.location)-set(dengue_distYear_w.location) \n",
    "\n",
    "[(dis,process.extractOne(dis,nomatch_gdf)) for dis in sorted(nomatch_df)]"
   ]
  },
  {
   "cell_type": "markdown",
   "id": "6b462ab3",
   "metadata": {},
   "source": [
    "If you are comfortable, you prepare a _dictionary_ of changes:"
   ]
  },
  {
   "cell_type": "code",
   "execution_count": null,
   "id": "4dac522f",
   "metadata": {},
   "outputs": [],
   "source": [
    "# is this OK?\n",
    "{dis:process.extractOne(dis,nomatch_gdf)[0] for dis in sorted(nomatch_df)}"
   ]
  },
  {
   "cell_type": "code",
   "execution_count": null,
   "id": "e872d7ca",
   "metadata": {},
   "outputs": [],
   "source": [
    "# then:\n",
    "changesDengue={dis:process.extractOne(dis,nomatch_gdf)[0] for dis in sorted(nomatch_df)}"
   ]
  },
  {
   "cell_type": "markdown",
   "id": "940be9cd",
   "metadata": {},
   "source": [
    "Now, make the replacements:"
   ]
  },
  {
   "cell_type": "code",
   "execution_count": null,
   "id": "d39fb674",
   "metadata": {
    "scrolled": true
   },
   "outputs": [],
   "source": [
    "dengue_distYear_w['location'].replace(changesDengue,inplace=True)"
   ]
  },
  {
   "cell_type": "code",
   "execution_count": null,
   "id": "dc576d65-2d77-44dd-9c4c-0ef43b5ebe38",
   "metadata": {},
   "outputs": [],
   "source": [
    "nomatch_df=set(dengue_distYear_w.location)- set(datadismap.location)\n",
    "nomatch_gdf=set(datadismap.location)-set(dengue_distYear_w.location) \n",
    "\n",
    "[(dis,process.extractOne(dis,nomatch_gdf)) for dis in sorted(nomatch_df)]"
   ]
  },
  {
   "cell_type": "markdown",
   "id": "0bd65363",
   "metadata": {},
   "source": [
    "Now the merge can happen:"
   ]
  },
  {
   "cell_type": "code",
   "execution_count": null,
   "id": "b1d3b077",
   "metadata": {},
   "outputs": [],
   "source": [
    "dengue_dist=datadismap.merge(dengue_distYear_w, on='location',how='left')\n",
    "dengue_dist"
   ]
  },
  {
   "cell_type": "code",
   "execution_count": null,
   "id": "fe40f603",
   "metadata": {},
   "outputs": [],
   "source": [
    "# check\n",
    "dengue_dist.info()"
   ]
  },
  {
   "cell_type": "markdown",
   "id": "4142c0b7",
   "metadata": {},
   "source": [
    "We can get rid of some columns:"
   ]
  },
  {
   "cell_type": "code",
   "execution_count": null,
   "id": "ee2e517b",
   "metadata": {},
   "outputs": [],
   "source": [
    "bye=['departamento', 'provincia', 'distrito','CCDD','CCPP','CCDD','OBJECTID','ESRI_OID']\n",
    "dengue_dist.drop(columns=bye,inplace=True)\n",
    "\n",
    "# keeping\n",
    "dengue_dist.head()"
   ]
  },
  {
   "cell_type": "code",
   "execution_count": null,
   "id": "45e4fffd-c40e-44a4-8861-7d777943f522",
   "metadata": {},
   "outputs": [],
   "source": [
    "dengue_dist.fillna(0,inplace=True)\n",
    "dengue_dist"
   ]
  },
  {
   "cell_type": "markdown",
   "id": "a2ff93fc",
   "metadata": {},
   "source": [
    "We can save this gdf:"
   ]
  },
  {
   "cell_type": "code",
   "execution_count": null,
   "id": "83c97517",
   "metadata": {},
   "outputs": [],
   "source": [
    "import os\n",
    "dengue_dist.to_file(os.path.join('maps',\"distritos.gpkg\"), layer='distritosDengue', driver=\"GPKG\")"
   ]
  },
  {
   "cell_type": "markdown",
   "id": "7b518c79",
   "metadata": {},
   "source": [
    "## Exploring one variable\n",
    "\n",
    "This time, we explore statistically one variable in the map:"
   ]
  },
  {
   "cell_type": "code",
   "execution_count": null,
   "id": "dbd7ca6a",
   "metadata": {},
   "outputs": [],
   "source": [
    "# statistics\n",
    "dengue_dist.year_2022.describe()"
   ]
  },
  {
   "cell_type": "code",
   "execution_count": null,
   "id": "f7382e0e-0764-4595-9cef-8f65e801933d",
   "metadata": {},
   "outputs": [],
   "source": [
    "dengue_dist_projected=dengue_dist.to_crs(24892)\n",
    "dengue_dist_projected.crs"
   ]
  },
  {
   "cell_type": "code",
   "execution_count": null,
   "id": "a2e224fc-f571-4b25-a5bb-8a24073f745c",
   "metadata": {},
   "outputs": [],
   "source": [
    "dengue_dist_projected['areaKM']=dengue_dist_projected.geometry.area/(10^6)"
   ]
  },
  {
   "cell_type": "code",
   "execution_count": null,
   "id": "6571c052-1b5a-45b6-b92b-0b6165c65fa5",
   "metadata": {},
   "outputs": [],
   "source": [
    "dengue_dist_projected['areaKM']"
   ]
  },
  {
   "cell_type": "code",
   "execution_count": null,
   "id": "ae1e55fb-2993-4e1f-98a8-aa02f65e8dfa",
   "metadata": {},
   "outputs": [],
   "source": [
    "dengue_dist_projected['alarm_km2_2022']=dengue_dist_projected.year_2022/dengue_dist_projected.areaKM"
   ]
  },
  {
   "cell_type": "code",
   "execution_count": null,
   "id": "0b47a7e5",
   "metadata": {},
   "outputs": [],
   "source": [
    "import seaborn as sea\n",
    "\n",
    "sea.boxplot(dengue_dist_projected.alarm_km2_2022, color='yellow',orient='h')"
   ]
  },
  {
   "cell_type": "code",
   "execution_count": null,
   "id": "051f0685-8175-43f8-b31f-40c804ce39ea",
   "metadata": {},
   "outputs": [],
   "source": [
    "from sklearn.preprocessing import quantile_transform as qt\n",
    "\n",
    "\n",
    "qt_result=qt(dengue_dist_projected[['alarm_km2_2022']])\n",
    "\n",
    "sea.boxplot(qt_result, color='yellow',orient='h')"
   ]
  },
  {
   "cell_type": "code",
   "execution_count": null,
   "id": "f27262d0-1ed7-449c-99cf-818c679a3b3f",
   "metadata": {},
   "outputs": [],
   "source": [
    "dengue_dist_projected['alarm_km2_2022_qt']=qt_result"
   ]
  },
  {
   "cell_type": "markdown",
   "id": "85ee802b",
   "metadata": {},
   "source": [
    "Notice the histogram divides the data in intervals which are the base of the bars. Seaborn uses the [Freedman-Diaconis](https://en.wikipedia.org/wiki/Freedman%E2%80%93Diaconis_rule) formula to compute the bins.\n",
    "\n",
    "Let's see other possibilities, but please install [**numba**](https://numba.readthedocs.io/en/stable/user/installing.html) before runing the next code; also make sure you have **pysal**, **mapclassify** and **numpy** installed: "
   ]
  },
  {
   "cell_type": "code",
   "execution_count": null,
   "id": "621a58e6",
   "metadata": {},
   "outputs": [],
   "source": [
    "import mapclassify \n",
    "import numpy as np\n",
    "\n",
    "np.random.seed(12345) # so we all get the same results!\n",
    "K=5\n",
    "theVar=dengue_dist_projected.alarm_km2_2022_qt\n",
    "\n",
    "mb5 = mapclassify.MaximumBreaks(theVar, k=K)"
   ]
  },
  {
   "cell_type": "code",
   "execution_count": null,
   "id": "ce570a1a",
   "metadata": {},
   "outputs": [],
   "source": [
    "# group label\n",
    "mb5.yb"
   ]
  },
  {
   "cell_type": "code",
   "execution_count": null,
   "id": "4e08aa7f",
   "metadata": {},
   "outputs": [],
   "source": [
    "# labels and counts\n",
    "np.unique(mb5.yb,return_counts=True)\n",
    "          "
   ]
  },
  {
   "cell_type": "code",
   "execution_count": null,
   "id": "c3a1744a",
   "metadata": {},
   "outputs": [],
   "source": [
    "# ht.yb into a pandas Series\n",
    "\n",
    "pd.Series(mb5.yb).value_counts()"
   ]
  },
  {
   "cell_type": "code",
   "execution_count": null,
   "id": "ee200de1",
   "metadata": {},
   "outputs": [],
   "source": [
    "# these are the cuts, but it is not including the min value\n",
    "mb5.bins"
   ]
  },
  {
   "cell_type": "markdown",
   "id": "731d0bac",
   "metadata": {},
   "source": [
    "Based on the previous information, let me prepare a histogram:"
   ]
  },
  {
   "cell_type": "code",
   "execution_count": null,
   "id": "d8aef9ed",
   "metadata": {},
   "outputs": [],
   "source": [
    "# completing the bins\n",
    "MB_bins=list(mb5.bins)\n",
    "MB_bins.insert(0,dengue_dist_projected.alarm_km2_2022.min())"
   ]
  },
  {
   "cell_type": "code",
   "execution_count": null,
   "id": "55862575",
   "metadata": {},
   "outputs": [],
   "source": [
    "sea.displot(dengue_dist_projected.alarm_km2_2022_qt, bins=MB_bins,color='yellow')"
   ]
  },
  {
   "cell_type": "code",
   "execution_count": null,
   "id": "63a7802b",
   "metadata": {},
   "outputs": [],
   "source": [
    "dengue_dist_projected['alarm_km2_2022_MB'] = mb5.yb "
   ]
  },
  {
   "cell_type": "markdown",
   "id": "c4163499",
   "metadata": {},
   "source": [
    "Let me plot one of them:"
   ]
  },
  {
   "cell_type": "code",
   "execution_count": null,
   "id": "71dd32a0",
   "metadata": {},
   "outputs": [],
   "source": [
    "import matplotlib.pyplot as plt\n",
    "\n",
    "f, ax = plt.subplots(1, figsize=(9, 9))\n",
    "dengue_dist_projected.plot(column='alarm_km2_2022_MB', \n",
    "        cmap='viridis', \n",
    "        categorical=True,\n",
    "        edgecolor='white', \n",
    "        linewidth=0., \n",
    "        alpha=0.75, \n",
    "        legend=True,\n",
    "        legend_kwds=dict(loc=2),\n",
    "        ax=ax\n",
    "       )\n",
    "\n",
    "ax.set_axis_off()"
   ]
  },
  {
   "cell_type": "markdown",
   "id": "87708d4e",
   "metadata": {},
   "source": [
    "## Spatial Correlation\n",
    "\n",
    "### Neighboorhood\n",
    "\n",
    "We can compute the neighborhood in a map using different algorithms:"
   ]
  },
  {
   "cell_type": "code",
   "execution_count": null,
   "id": "a0152188",
   "metadata": {},
   "outputs": [],
   "source": [
    "from libpysal.weights import Queen, Rook, KNN\n",
    "\n",
    "# rook\n",
    "w_rook = Rook.from_dataframe(dengue_dist_projected) "
   ]
  },
  {
   "cell_type": "code",
   "execution_count": null,
   "id": "282be4af",
   "metadata": {},
   "outputs": [],
   "source": [
    "# rook\n",
    "w_queen = Queen.from_dataframe(dengue_dist_projected)"
   ]
  },
  {
   "cell_type": "code",
   "execution_count": null,
   "id": "008f5e05",
   "metadata": {},
   "outputs": [],
   "source": [
    "# k nearest neighbors\n",
    "w_knn = KNN.from_dataframe(dengue_dist_projected, k=8)"
   ]
  },
  {
   "cell_type": "markdown",
   "id": "92c7c94a",
   "metadata": {},
   "source": [
    "Let's understand the differences:"
   ]
  },
  {
   "cell_type": "code",
   "execution_count": null,
   "id": "d3df1a3e",
   "metadata": {},
   "outputs": [],
   "source": [
    "# first one\n",
    "dengue_dist_projected.head(1)"
   ]
  },
  {
   "cell_type": "code",
   "execution_count": null,
   "id": "9cd010e7",
   "metadata": {},
   "outputs": [],
   "source": [
    "# amount neighbors of that district\n",
    "w_rook.neighbors[0] "
   ]
  },
  {
   "cell_type": "code",
   "execution_count": null,
   "id": "fe8d9e8b",
   "metadata": {},
   "outputs": [],
   "source": [
    "# see\n",
    "base=dengue_dist_projected[dengue_dist_projected.DISTRITO==\"CHACHAPOYAS\"].plot()\n",
    "dengue_dist_projected.iloc[w_rook.neighbors[0] ,].plot(ax=base,facecolor=\"yellow\",edgecolor='k')\n",
    "dengue_dist_projected.head(1).plot(ax=base,facecolor=\"red\")"
   ]
  },
  {
   "cell_type": "markdown",
   "id": "8dee5594",
   "metadata": {},
   "source": [
    "Let's do the same:"
   ]
  },
  {
   "cell_type": "code",
   "execution_count": null,
   "id": "39a94ad6",
   "metadata": {},
   "outputs": [],
   "source": [
    "w_queen.neighbors[0]"
   ]
  },
  {
   "cell_type": "code",
   "execution_count": null,
   "id": "959642c7",
   "metadata": {},
   "outputs": [],
   "source": [
    "base=dengue_dist_projected[dengue_dist_projected.DISTRITO==\"CHACHAPOYAS\"].plot()\n",
    "dengue_dist_projected.iloc[w_queen.neighbors[0] ,].plot(ax=base,facecolor=\"yellow\",edgecolor='k')\n",
    "dengue_dist_projected.head(1).plot(ax=base,facecolor=\"red\")"
   ]
  },
  {
   "cell_type": "code",
   "execution_count": null,
   "id": "eeaf1e44",
   "metadata": {},
   "outputs": [],
   "source": [
    "w_knn.neighbors[0]"
   ]
  },
  {
   "cell_type": "code",
   "execution_count": null,
   "id": "6143d69a",
   "metadata": {},
   "outputs": [],
   "source": [
    "base=dengue_dist_projected[dengue_dist_projected.DISTRITO==\"CHACHAPOYAS\"].plot()\n",
    "dengue_dist_projected.iloc[w_knn.neighbors[0] ,].plot(ax=base,facecolor=\"yellow\",edgecolor='k')\n",
    "dengue_dist_projected.head(1).plot(ax=base,facecolor=\"red\")"
   ]
  },
  {
   "cell_type": "markdown",
   "id": "a96c4f9d",
   "metadata": {},
   "source": [
    "Let me pay attention to the queen results:"
   ]
  },
  {
   "cell_type": "code",
   "execution_count": null,
   "id": "743d91c6",
   "metadata": {},
   "outputs": [],
   "source": [
    "# all the neighbors by row\n",
    "w_queen.neighbors"
   ]
  },
  {
   "cell_type": "code",
   "execution_count": null,
   "id": "31f7bf1a",
   "metadata": {},
   "outputs": [],
   "source": [
    "# the matrix of neighboorhood:\n",
    "\n",
    "pd.DataFrame(*w_queen.full()).astype(int) # 1 means both are neighbors"
   ]
  },
  {
   "cell_type": "code",
   "execution_count": null,
   "id": "2f85f14e",
   "metadata": {},
   "outputs": [],
   "source": [
    "# count of nonzeros\n",
    "w_queen.nonzero"
   ]
  },
  {
   "cell_type": "code",
   "execution_count": null,
   "id": "b4395652",
   "metadata": {},
   "outputs": [],
   "source": [
    "# pct of neighboorhood (density)\n",
    "w_queen.pct_nonzero"
   ]
  },
  {
   "cell_type": "code",
   "execution_count": null,
   "id": "48e318d9",
   "metadata": {},
   "outputs": [],
   "source": [
    "# a district with NO neighbor?\n",
    "w_queen.islands"
   ]
  },
  {
   "cell_type": "markdown",
   "id": "dcc26bd2",
   "metadata": {},
   "source": [
    "### Exercise 5\n",
    "\n",
    "<div class=\"alert-success\">\n",
    "    \n",
    "1. Compute the three neighboohoods shown above for you data.\n",
    "    \n",
    "2. Select one polygon, and plot it with its neighbors as above.\n",
    "    \n",
    "</div>"
   ]
  },
  {
   "cell_type": "markdown",
   "id": "28192fdf",
   "metadata": {},
   "source": [
    "## Spatial correlation\n",
    "\n",
    "We need the neighboorhood matrix (the weight matrix) to compute spatial correlation: if the variable value is correlated with the values of its neighbors - which proves a spatial effect."
   ]
  },
  {
   "cell_type": "code",
   "execution_count": null,
   "id": "2ea5e43d",
   "metadata": {},
   "outputs": [],
   "source": [
    "# needed for spatial correlation\n",
    "w_queen.transform = 'R'"
   ]
  },
  {
   "cell_type": "markdown",
   "id": "91941edd",
   "metadata": {},
   "source": [
    "Spatial correlation is measured by the Moran's I statistic:"
   ]
  },
  {
   "cell_type": "code",
   "execution_count": null,
   "id": "003d47cb",
   "metadata": {},
   "outputs": [],
   "source": [
    "from esda.moran import Moran\n",
    "\n",
    "moranDENGUE = Moran(dengue_dist_projected['alarm_km2_2022_qt'], w_queen)\n",
    "moranDENGUE.I,moranDENGUE.p_sim"
   ]
  },
  {
   "cell_type": "markdown",
   "id": "d44b450c",
   "metadata": {},
   "source": [
    "A significant Moran's I suggest spatial correlation. Let's see the spatial scatter plot"
   ]
  },
  {
   "cell_type": "code",
   "execution_count": null,
   "id": "e950f7fd",
   "metadata": {},
   "outputs": [],
   "source": [
    "from splot.esda import moran_scatterplot\n",
    "\n",
    "fig, ax = moran_scatterplot(moranDENGUE)#, aspect_equal=True)\n",
    "ax.set_xlabel('dengue')\n",
    "ax.set_ylabel('SpatialLag_dengue')\n",
    "plt.show()"
   ]
  },
  {
   "cell_type": "markdown",
   "id": "beec77ca",
   "metadata": {},
   "source": [
    "### Exercise 6\n",
    "\n",
    "<div class=\"alert-success\">\n",
    "    \n",
    "1. Compute the Moran's coefficient for **all** your numeric variables.\n",
    "    \n",
    "2. Make a scatter plot for each variable.\n",
    "    \n",
    "</div>"
   ]
  },
  {
   "cell_type": "markdown",
   "id": "196148f8",
   "metadata": {},
   "source": [
    "### Local Spatial Correlation\n",
    "\n",
    "We can compute a LISA (local Moran) for each case. That will help us find spatial clusters (spots) and spatial outliers:\n",
    "\n",
    "* A **hotSpot** is a polygon whose value in the variable is high AND is surrounded with polygons with also high values.\n",
    "\n",
    "* A **coldSpot** is a polygon whose value in the variable is low AND is surrounded with polygons with also low values.\n",
    "\n",
    "* A **coldOutlier** is a polygon whose value in the variable is low BUT is surrounded with polygons with  high values.\n",
    "\n",
    "* A **hotOutlier** is a polygon whose value in the variable is high BUT is surrounded with polygons with  low values.\n",
    "\n",
    "It is also possible that no significant correlation is detected. Let's see those values:"
   ]
  },
  {
   "cell_type": "code",
   "execution_count": null,
   "id": "b1207a8e",
   "metadata": {},
   "outputs": [],
   "source": [
    "# The scatterplot with local info\n",
    "from esda.moran import Moran_Local\n",
    "\n",
    "# calculate Moran_Local and plot\n",
    "lisaDENGUE = Moran_Local(y=dengue_dist_projected['alarm_km2_2022_qt'], w=w_queen,seed=2022)\n",
    "fig, ax = moran_scatterplot(lisaDENGUE,p=0.05)\n",
    "ax.set_xlabel('dengue')\n",
    "ax.set_ylabel('SpatialLag_dengue')\n",
    "plt.show()"
   ]
  },
  {
   "cell_type": "code",
   "execution_count": null,
   "id": "44d1fb80",
   "metadata": {},
   "outputs": [],
   "source": [
    "# the map with the spots and outliers\n",
    "\n",
    "from splot.esda import lisa_cluster\n",
    "f, ax = plt.subplots(1, figsize=(12, 12))\n",
    "plt.title('Spots and Outliers')\n",
    "fig = lisa_cluster(lisaDENGUE, \n",
    "                   dengue_dist_projected,ax=ax,\n",
    "                   legend_kwds={'loc': 'center left', \n",
    "                                'bbox_to_anchor': (0.7, 0.6)})\n",
    "plt.show()"
   ]
  },
  {
   "cell_type": "markdown",
   "id": "3c8d157e",
   "metadata": {},
   "source": [
    "Let me add that data to my gdf:"
   ]
  },
  {
   "cell_type": "code",
   "execution_count": null,
   "id": "b67766a8",
   "metadata": {},
   "outputs": [],
   "source": [
    "# quadrant\n",
    "lisaDENGUE.q"
   ]
  },
  {
   "cell_type": "code",
   "execution_count": null,
   "id": "df8949df",
   "metadata": {},
   "outputs": [],
   "source": [
    "# significance\n",
    "lisaDENGUE.p_sim"
   ]
  },
  {
   "cell_type": "code",
   "execution_count": null,
   "id": "8a07011f",
   "metadata": {},
   "outputs": [],
   "source": [
    "# quadrant: 1 HH,  2 LH,  3 LL,  4 HL\n",
    "pd.Series(lisaDENGUE.q).value_counts()"
   ]
  },
  {
   "cell_type": "markdown",
   "id": "79c4c66f",
   "metadata": {},
   "source": [
    "The info in **lisaIDH.q** can not be used right away, we need to add if the local spatial correlation is significant:"
   ]
  },
  {
   "cell_type": "code",
   "execution_count": null,
   "id": "2e2977e6",
   "metadata": {},
   "outputs": [],
   "source": [
    "dengue_dist_projected['DENGUE_quadrant']=[l if p <0.05 else 0 for l,p in zip(lisaDENGUE.q,lisaDENGUE.p_sim)  ]\n",
    "dengue_dist_projected['DENGUE_quadrant'].value_counts()"
   ]
  },
  {
   "cell_type": "markdown",
   "id": "f327eb6f",
   "metadata": {},
   "source": [
    "Now, we recode:"
   ]
  },
  {
   "cell_type": "code",
   "execution_count": null,
   "id": "4fd49705",
   "metadata": {},
   "outputs": [],
   "source": [
    "labels = [ '0 no_sig', '1 hotSpot', '2 coldOutlier', '3 coldSpot', '4 hotOutlier']\n",
    "\n",
    "dengue_dist_projected['DENGUE_quadrant_names']=[labels[i] for i in dengue_dist_projected['DENGUE_quadrant']]\n",
    "\n",
    "dengue_dist_projected['DENGUE_quadrant_names'].value_counts()\n",
    "                                  "
   ]
  },
  {
   "cell_type": "markdown",
   "id": "0b662813",
   "metadata": {},
   "source": [
    "Let's replot:"
   ]
  },
  {
   "cell_type": "code",
   "execution_count": null,
   "id": "30bad5df",
   "metadata": {},
   "outputs": [],
   "source": [
    "from matplotlib import colors\n",
    "myColMap = colors.ListedColormap([ 'ghostwhite', 'red', 'green', 'black','orange'])\n",
    "\n",
    "\n",
    "\n",
    "# Set up figure and ax\n",
    "f, ax = plt.subplots(1, figsize=(12,12))\n",
    "# Plot unique values choropleth including\n",
    "# a legend and with no boundary lines\n",
    "\n",
    "plt.title('Spots and Outliers')\n",
    "\n",
    "dengue_dist_projected.plot(column='DENGUE_quadrant_names', \n",
    "                categorical=True,\n",
    "                cmap=myColMap,\n",
    "                linewidth=0.1, \n",
    "                edgecolor='white',\n",
    "                legend=True,\n",
    "                legend_kwds={'loc': 'center left', \n",
    "                             'bbox_to_anchor': (0.7, 0.6)},\n",
    "                ax=ax)\n",
    "# Remove axis\n",
    "ax.set_axis_off()\n",
    "# Display the map\n",
    "plt.show()"
   ]
  },
  {
   "cell_type": "code",
   "execution_count": null,
   "id": "891df8b1-4902-42d4-b859-1bcb4d2f259f",
   "metadata": {},
   "outputs": [],
   "source": [
    "dengue_dist_projected.explore(\"DENGUE_quadrant_names\", categorical=True,tooltip='location')"
   ]
  },
  {
   "cell_type": "markdown",
   "id": "9fe389a6",
   "metadata": {},
   "source": [
    "### Exercise 7\n",
    "\n",
    "<div class=\"alert-success\">\n",
    "    \n",
    "1. Compute the Local Moran for the variables in your data that have significant spatial correlation.\n",
    "    \n",
    "2. Create a new column for each of those variables, with a label ('0 no_sig', '1 hotSpot', '2 coldOutlier', '3 coldSpot', '4 hotOutlier').\n",
    "\n",
    "3. Prepare a map for each of the variables analyzed, showing the spots and outliers.\n",
    "    \n",
    "</div>"
   ]
  },
  {
   "cell_type": "code",
   "execution_count": null,
   "id": "8f02d3ce",
   "metadata": {},
   "outputs": [],
   "source": []
  }
 ],
 "metadata": {
  "hide_input": false,
  "kernelspec": {
   "display_name": "Python 3 (ipykernel)",
   "language": "python",
   "name": "python3"
  },
  "language_info": {
   "codemirror_mode": {
    "name": "ipython",
    "version": 3
   },
   "file_extension": ".py",
   "mimetype": "text/x-python",
   "name": "python",
   "nbconvert_exporter": "python",
   "pygments_lexer": "ipython3",
   "version": "3.11.5"
  }
 },
 "nbformat": 4,
 "nbformat_minor": 5
}
